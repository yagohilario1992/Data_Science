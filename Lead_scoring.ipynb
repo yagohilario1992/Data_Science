{
  "nbformat": 4,
  "nbformat_minor": 5,
  "metadata": {
    "kernelspec": {
      "display_name": "Python 3 (ipykernel)",
      "language": "python",
      "name": "python3"
    },
    "language_info": {
      "codemirror_mode": {
        "name": "ipython",
        "version": 3
      },
      "file_extension": ".py",
      "mimetype": "text/x-python",
      "name": "python",
      "nbconvert_exporter": "python",
      "pygments_lexer": "ipython3",
      "version": "3.8.10"
    },
    "colab": {
      "name": "Lead scoring.ipynb",
      "provenance": [],
      "include_colab_link": true
    }
  },
  "cells": [
    {
      "cell_type": "markdown",
      "metadata": {
        "id": "view-in-github",
        "colab_type": "text"
      },
      "source": [
        "<a href=\"https://colab.research.google.com/github/yagohilario1992/Data_Science/blob/main/Lead_scoring.ipynb\" target=\"_parent\"><img src=\"https://colab.research.google.com/assets/colab-badge.svg\" alt=\"Open In Colab\"/></a>"
      ]
    },
    {
      "cell_type": "markdown",
      "metadata": {
        "id": "4cc2bfd7"
      },
      "source": [
        "# Classificando Leads"
      ],
      "id": "4cc2bfd7"
    },
    {
      "cell_type": "markdown",
      "metadata": {
        "id": "6b9e59d4"
      },
      "source": [
        "Uma empresa de educação chamada X Education vende cursos online para profissionais da indústria. Em um determinado dia, muitos profissionais interessados nos cursos acessam seu site e procuram os cursos.\n",
        "\n",
        "A empresa comercializa seus cursos em diversos sites e mecanismos de busca como o Google. Assim que essas pessoas acessam o site, elas podem navegar pelos cursos ou preencher um formulário do curso ou assistir a alguns vídeos. Quando essas pessoas preenchem um formulário com seu endereço de e-mail ou número de telefone, são classificadas como leads. Além disso, a empresa também obtém leads por meio de referências anteriores. Depois que esses leads são adquiridos, os funcionários da equipe de vendas começam a fazer ligações, escrever e-mails, etc. Por meio desse processo, alguns dos leads são convertidos, enquanto a maioria não. A taxa de conversão de chumbo típica na X Education é de cerca de 30%.\n",
        "\n",
        "Agora, embora o X Education receba muitos leads, sua taxa de conversão de leads é muito baixa. Por exemplo, se, digamos, eles adquirem 100 leads em um dia, apenas cerca de 30 deles são convertidos. Para tornar esse processo mais eficiente, a empresa deseja identificar os leads mais potenciais, também conhecidos como 'Hot Leads'. Se eles identificarem com sucesso esse conjunto de leads, a taxa de conversão de leads deve aumentar, pois a equipe de vendas agora se concentrará mais na comunicação com os leads em potencial do que em fazer ligações para todos.\n",
        "\n",
        "Há muitos leads gerados no estágio inicial (topo), mas apenas alguns deles saem como clientes pagantes da base. No estágio intermediário, você precisa nutrir bem os leads em potencial (ou seja, educar os leads sobre o produto, comunicar-se constantemente etc.) para obter uma conversão de leads mais alta.\n",
        "\n",
        "A X Education deseja selecionar os leads mais promissores, ou seja, os leads com maior probabilidade de se converterem em clientes pagantes. A empresa exige que você construa um modelo no qual é necessário atribuir uma pontuação de lead a cada um dos leads, de modo que os clientes com pontuação de lead h mais alta tenham uma chance de conversão maior e os clientes com pontuação de lead menor tenham uma chance de conversão menor. O CEO, em particular, deu uma estimativa da taxa de conversão de leads alvo em cerca de 80%."
      ],
      "id": "6b9e59d4"
    },
    {
      "cell_type": "markdown",
      "metadata": {
        "id": "2dac9e6c"
      },
      "source": [
        "## Objetivo e métodos"
      ],
      "id": "2dac9e6c"
    },
    {
      "cell_type": "markdown",
      "metadata": {
        "id": "bcef4346"
      },
      "source": [
        "O objetivo desse projeto é tratar e analizar dados afim de se desenvolver um modelo de machine learning que seja capaz de classificar quais leads tem maior chance de conversão, para esse projeto utilizei o dataset disponivel no site  <a href=\"https://www.kaggle.com/amritachatterjee09/lead-scoring-dataset\">Kaggle</a>."
      ],
      "id": "bcef4346"
    },
    {
      "cell_type": "markdown",
      "metadata": {
        "id": "50062903"
      },
      "source": [
        "A seguir vamos importar as ferramentas necessarias para esse projeto."
      ],
      "id": "50062903"
    },
    {
      "cell_type": "code",
      "metadata": {
        "id": "0c51102f"
      },
      "source": [
        "# Ignorar mensagem 'warning'\n",
        "from warnings import simplefilter\n",
        "\n",
        "simplefilter(action='ignore', category=FutureWarning)\n",
        "\n",
        "# Bibliotecas de manipulação de dados\n",
        "import pandas as pd\n",
        "import numpy as np\n",
        "\n",
        "# Biblioteca de demonstrações gráficas\n",
        "import matplotlib.pyplot as plt\n",
        "import seaborn as sns\n",
        "\n",
        "# machine learning\n",
        "from sklearn.model_selection import train_test_split\n"
      ],
      "id": "0c51102f",
      "execution_count": null,
      "outputs": []
    },
    {
      "cell_type": "code",
      "metadata": {
        "id": "46c33c7e"
      },
      "source": [
        "# Guardando arquivo em variável\n",
        "file_path = \"Lead Scoring.csv\""
      ],
      "id": "46c33c7e",
      "execution_count": null,
      "outputs": []
    },
    {
      "cell_type": "code",
      "metadata": {
        "id": "4cf5d3b7"
      },
      "source": [
        "# Lendo aquivo e guardando dataset em df\n",
        "df = pd.read_csv(file_path)"
      ],
      "id": "4cf5d3b7",
      "execution_count": null,
      "outputs": []
    },
    {
      "cell_type": "code",
      "metadata": {
        "id": "62e683bc",
        "outputId": "005d330b-0176-4daa-9e8b-4ed262bc9627"
      },
      "source": [
        "df.head()"
      ],
      "id": "62e683bc",
      "execution_count": null,
      "outputs": [
        {
          "data": {
            "text/html": [
              "<div>\n",
              "<style scoped>\n",
              "    .dataframe tbody tr th:only-of-type {\n",
              "        vertical-align: middle;\n",
              "    }\n",
              "\n",
              "    .dataframe tbody tr th {\n",
              "        vertical-align: top;\n",
              "    }\n",
              "\n",
              "    .dataframe thead th {\n",
              "        text-align: right;\n",
              "    }\n",
              "</style>\n",
              "<table border=\"1\" class=\"dataframe\">\n",
              "  <thead>\n",
              "    <tr style=\"text-align: right;\">\n",
              "      <th></th>\n",
              "      <th>Prospect ID</th>\n",
              "      <th>Lead Number</th>\n",
              "      <th>Lead Origin</th>\n",
              "      <th>Lead Source</th>\n",
              "      <th>Do Not Email</th>\n",
              "      <th>Do Not Call</th>\n",
              "      <th>Converted</th>\n",
              "      <th>TotalVisits</th>\n",
              "      <th>Total Time Spent on Website</th>\n",
              "      <th>Page Views Per Visit</th>\n",
              "      <th>...</th>\n",
              "      <th>Get updates on DM Content</th>\n",
              "      <th>Lead Profile</th>\n",
              "      <th>City</th>\n",
              "      <th>Asymmetrique Activity Index</th>\n",
              "      <th>Asymmetrique Profile Index</th>\n",
              "      <th>Asymmetrique Activity Score</th>\n",
              "      <th>Asymmetrique Profile Score</th>\n",
              "      <th>I agree to pay the amount through cheque</th>\n",
              "      <th>A free copy of Mastering The Interview</th>\n",
              "      <th>Last Notable Activity</th>\n",
              "    </tr>\n",
              "  </thead>\n",
              "  <tbody>\n",
              "    <tr>\n",
              "      <th>0</th>\n",
              "      <td>7927b2df-8bba-4d29-b9a2-b6e0beafe620</td>\n",
              "      <td>660737</td>\n",
              "      <td>API</td>\n",
              "      <td>Olark Chat</td>\n",
              "      <td>No</td>\n",
              "      <td>No</td>\n",
              "      <td>0</td>\n",
              "      <td>0.0</td>\n",
              "      <td>0</td>\n",
              "      <td>0.0</td>\n",
              "      <td>...</td>\n",
              "      <td>No</td>\n",
              "      <td>Select</td>\n",
              "      <td>Select</td>\n",
              "      <td>02.Medium</td>\n",
              "      <td>02.Medium</td>\n",
              "      <td>15.0</td>\n",
              "      <td>15.0</td>\n",
              "      <td>No</td>\n",
              "      <td>No</td>\n",
              "      <td>Modified</td>\n",
              "    </tr>\n",
              "    <tr>\n",
              "      <th>1</th>\n",
              "      <td>2a272436-5132-4136-86fa-dcc88c88f482</td>\n",
              "      <td>660728</td>\n",
              "      <td>API</td>\n",
              "      <td>Organic Search</td>\n",
              "      <td>No</td>\n",
              "      <td>No</td>\n",
              "      <td>0</td>\n",
              "      <td>5.0</td>\n",
              "      <td>674</td>\n",
              "      <td>2.5</td>\n",
              "      <td>...</td>\n",
              "      <td>No</td>\n",
              "      <td>Select</td>\n",
              "      <td>Select</td>\n",
              "      <td>02.Medium</td>\n",
              "      <td>02.Medium</td>\n",
              "      <td>15.0</td>\n",
              "      <td>15.0</td>\n",
              "      <td>No</td>\n",
              "      <td>No</td>\n",
              "      <td>Email Opened</td>\n",
              "    </tr>\n",
              "    <tr>\n",
              "      <th>2</th>\n",
              "      <td>8cc8c611-a219-4f35-ad23-fdfd2656bd8a</td>\n",
              "      <td>660727</td>\n",
              "      <td>Landing Page Submission</td>\n",
              "      <td>Direct Traffic</td>\n",
              "      <td>No</td>\n",
              "      <td>No</td>\n",
              "      <td>1</td>\n",
              "      <td>2.0</td>\n",
              "      <td>1532</td>\n",
              "      <td>2.0</td>\n",
              "      <td>...</td>\n",
              "      <td>No</td>\n",
              "      <td>Potential Lead</td>\n",
              "      <td>Mumbai</td>\n",
              "      <td>02.Medium</td>\n",
              "      <td>01.High</td>\n",
              "      <td>14.0</td>\n",
              "      <td>20.0</td>\n",
              "      <td>No</td>\n",
              "      <td>Yes</td>\n",
              "      <td>Email Opened</td>\n",
              "    </tr>\n",
              "    <tr>\n",
              "      <th>3</th>\n",
              "      <td>0cc2df48-7cf4-4e39-9de9-19797f9b38cc</td>\n",
              "      <td>660719</td>\n",
              "      <td>Landing Page Submission</td>\n",
              "      <td>Direct Traffic</td>\n",
              "      <td>No</td>\n",
              "      <td>No</td>\n",
              "      <td>0</td>\n",
              "      <td>1.0</td>\n",
              "      <td>305</td>\n",
              "      <td>1.0</td>\n",
              "      <td>...</td>\n",
              "      <td>No</td>\n",
              "      <td>Select</td>\n",
              "      <td>Mumbai</td>\n",
              "      <td>02.Medium</td>\n",
              "      <td>01.High</td>\n",
              "      <td>13.0</td>\n",
              "      <td>17.0</td>\n",
              "      <td>No</td>\n",
              "      <td>No</td>\n",
              "      <td>Modified</td>\n",
              "    </tr>\n",
              "    <tr>\n",
              "      <th>4</th>\n",
              "      <td>3256f628-e534-4826-9d63-4a8b88782852</td>\n",
              "      <td>660681</td>\n",
              "      <td>Landing Page Submission</td>\n",
              "      <td>Google</td>\n",
              "      <td>No</td>\n",
              "      <td>No</td>\n",
              "      <td>1</td>\n",
              "      <td>2.0</td>\n",
              "      <td>1428</td>\n",
              "      <td>1.0</td>\n",
              "      <td>...</td>\n",
              "      <td>No</td>\n",
              "      <td>Select</td>\n",
              "      <td>Mumbai</td>\n",
              "      <td>02.Medium</td>\n",
              "      <td>01.High</td>\n",
              "      <td>15.0</td>\n",
              "      <td>18.0</td>\n",
              "      <td>No</td>\n",
              "      <td>No</td>\n",
              "      <td>Modified</td>\n",
              "    </tr>\n",
              "  </tbody>\n",
              "</table>\n",
              "<p>5 rows × 37 columns</p>\n",
              "</div>"
            ],
            "text/plain": [
              "                            Prospect ID  Lead Number              Lead Origin  \\\n",
              "0  7927b2df-8bba-4d29-b9a2-b6e0beafe620       660737                      API   \n",
              "1  2a272436-5132-4136-86fa-dcc88c88f482       660728                      API   \n",
              "2  8cc8c611-a219-4f35-ad23-fdfd2656bd8a       660727  Landing Page Submission   \n",
              "3  0cc2df48-7cf4-4e39-9de9-19797f9b38cc       660719  Landing Page Submission   \n",
              "4  3256f628-e534-4826-9d63-4a8b88782852       660681  Landing Page Submission   \n",
              "\n",
              "      Lead Source Do Not Email Do Not Call  Converted  TotalVisits  \\\n",
              "0      Olark Chat           No          No          0          0.0   \n",
              "1  Organic Search           No          No          0          5.0   \n",
              "2  Direct Traffic           No          No          1          2.0   \n",
              "3  Direct Traffic           No          No          0          1.0   \n",
              "4          Google           No          No          1          2.0   \n",
              "\n",
              "   Total Time Spent on Website  Page Views Per Visit  ...  \\\n",
              "0                            0                   0.0  ...   \n",
              "1                          674                   2.5  ...   \n",
              "2                         1532                   2.0  ...   \n",
              "3                          305                   1.0  ...   \n",
              "4                         1428                   1.0  ...   \n",
              "\n",
              "  Get updates on DM Content    Lead Profile    City  \\\n",
              "0                        No          Select  Select   \n",
              "1                        No          Select  Select   \n",
              "2                        No  Potential Lead  Mumbai   \n",
              "3                        No          Select  Mumbai   \n",
              "4                        No          Select  Mumbai   \n",
              "\n",
              "  Asymmetrique Activity Index Asymmetrique Profile Index  \\\n",
              "0                   02.Medium                  02.Medium   \n",
              "1                   02.Medium                  02.Medium   \n",
              "2                   02.Medium                    01.High   \n",
              "3                   02.Medium                    01.High   \n",
              "4                   02.Medium                    01.High   \n",
              "\n",
              "  Asymmetrique Activity Score Asymmetrique Profile Score  \\\n",
              "0                        15.0                       15.0   \n",
              "1                        15.0                       15.0   \n",
              "2                        14.0                       20.0   \n",
              "3                        13.0                       17.0   \n",
              "4                        15.0                       18.0   \n",
              "\n",
              "  I agree to pay the amount through cheque  \\\n",
              "0                                       No   \n",
              "1                                       No   \n",
              "2                                       No   \n",
              "3                                       No   \n",
              "4                                       No   \n",
              "\n",
              "  A free copy of Mastering The Interview Last Notable Activity  \n",
              "0                                     No              Modified  \n",
              "1                                     No          Email Opened  \n",
              "2                                    Yes          Email Opened  \n",
              "3                                     No              Modified  \n",
              "4                                     No              Modified  \n",
              "\n",
              "[5 rows x 37 columns]"
            ]
          },
          "execution_count": 4,
          "metadata": {},
          "output_type": "execute_result"
        }
      ]
    },
    {
      "cell_type": "markdown",
      "metadata": {
        "id": "DpMRxNr5JoHC"
      },
      "source": [
        "### Visualizando features"
      ],
      "id": "DpMRxNr5JoHC"
    },
    {
      "cell_type": "markdown",
      "metadata": {
        "id": "rFb0kubCJvrl"
      },
      "source": [
        "Para termos uma ideia do que vamos encontrar no dataset com o auxilio do comando `columns.values` vamos ver o nome de todas as features."
      ],
      "id": "rFb0kubCJvrl"
    },
    {
      "cell_type": "code",
      "metadata": {
        "id": "aeaa12ce",
        "outputId": "c3216e94-cd7d-4e52-8820-1f99463a0a07"
      },
      "source": [
        "print(f\"\\nNomes das features:\\n{df.columns.values}\\n\")"
      ],
      "id": "aeaa12ce",
      "execution_count": null,
      "outputs": [
        {
          "name": "stdout",
          "output_type": "stream",
          "text": [
            "\n",
            "Nomes das features:\n",
            "['Prospect ID' 'Lead Number' 'Lead Origin' 'Lead Source' 'Do Not Email'\n",
            " 'Do Not Call' 'Converted' 'TotalVisits' 'Total Time Spent on Website'\n",
            " 'Page Views Per Visit' 'Last Activity' 'Country' 'Specialization'\n",
            " 'How did you hear about X Education' 'What is your current occupation'\n",
            " 'What matters most to you in choosing a course' 'Search' 'Magazine'\n",
            " 'Newspaper Article' 'X Education Forums' 'Newspaper'\n",
            " 'Digital Advertisement' 'Through Recommendations'\n",
            " 'Receive More Updates About Our Courses' 'Tags' 'Lead Quality'\n",
            " 'Update me on Supply Chain Content' 'Get updates on DM Content'\n",
            " 'Lead Profile' 'City' 'Asymmetrique Activity Index'\n",
            " 'Asymmetrique Profile Index' 'Asymmetrique Activity Score'\n",
            " 'Asymmetrique Profile Score' 'I agree to pay the amount through cheque'\n",
            " 'A free copy of Mastering The Interview' 'Last Notable Activity']\n",
            "\n"
          ]
        }
      ]
    },
    {
      "cell_type": "markdown",
      "metadata": {
        "id": "lnaIHyqOKP4P"
      },
      "source": [
        "Ao todo temos 37 colunas "
      ],
      "id": "lnaIHyqOKP4P"
    },
    {
      "cell_type": "markdown",
      "metadata": {
        "id": "1e720f87"
      },
      "source": [
        "### Dicionário de variáveis:\n",
        "\n",
        "* Prospect ID - um ID exclusivo com o qual o cliente é identificado.\n",
        "\n",
        "* Lead Number - um número do lead atribuído a cada lead adquirido.\n",
        "\n",
        "* Lead Origin - To identificador de origem com o qual o cliente foi identificado como um lead. Inclui API, envio de página de destino etc.\n",
        "\n",
        "* Lead Source - a fonte do lead. Inclui Google, pesquisa orgânica, bate-papo Olark etc.\n",
        "\n",
        "* Do Not Email - Uma variável indicadora selecionada pelo cliente onde ele seleciona se deseja ou não ser enviado por email sobre o curso.\n",
        "\n",
        "* Do Not Call - Variável indicadora selecionada pelo cliente onde este seleciona se deseja ou não ser chamado sobre o curso.\n",
        "\n",
        "* Converted - a variável de destino. Indica se um lead foi convertido com sucesso ou não.\n",
        "\n",
        "* TotalVisits - O número total de visitas feitas pelo cliente no site.\n",
        "\n",
        "* Total Time Spent on Website - O tempo total gasto pelo cliente no site.\n",
        "\n",
        "* Page Views Per Visit - Número médio de páginas do site visualizadas durante as visitas.\n",
        "\n",
        "* Last Activity - Última atividade realizada pelo cliente. Inclui e-mail aberto, conversa de bate-papo Olark, etc.\n",
        "\n",
        "* Country - o país do cliente.\n",
        "\n",
        "* Specialization - o domínio da indústria em que o cliente trabalhou antes. Inclui o nível 'Selecionar especialização', o que significa que o cliente não selecionou esta opção ao preencher o formulário.\n",
        "\n",
        "* How did you hear about X Education - A fonte de onde o cliente ouviu falar do X Education.\n",
        "\n",
        "* What is your current occupation - Indica se o cliente é estudante, empregado ou empregado.\n",
        "\n",
        "* What matters most to you in choosing this course An option selected by the customer - Indicando qual é o seu lema principal para a realização deste curso.\n",
        "\n",
        "* Search - Indica se o cliente viu o anúncio em algum dos itens listados.\n",
        "\n",
        "* Magazine - Revista\n",
        "\n",
        "* Newspaper Article - Artigo de Jornal\n",
        "\n",
        "* X Education Forums - Foruns X-Euccation\n",
        "\n",
        "* Newspaper - Jornal\n",
        "\n",
        "* Digital Advertisement - Publicidade digital\n",
        "\n",
        "* Through Recommendations - Indica se o cliente veio por meio de recomendações.\n",
        "\n",
        "* Receive More Updates About Our Courses - Indica se o cliente optou por receber mais atualizações sobre os cursos.\n",
        "\n",
        "* Tags - tags atribuídas a clientes que indicam o status atual do lead.\n",
        "\n",
        "* Lead Quality - Indica a qualidade do lead com base nos dados e na intuição do funcionário que foi designado para o lead.\n",
        "\n",
        "* Update me on Supply Chain Content - Indica se o cliente deseja atualizações sobre o conteúdo da cadeia de suprimentos.\n",
        "\n",
        "* Get updates on DM Content - indica se o cliente deseja atualizações sobre o conteúdo DM.\n",
        "\n",
        "* Lead Profile - um nível de lead atribuído a cada cliente com base em seu perfil.\n",
        "\n",
        "* City - a cidade do cliente..\n",
        "\n",
        "* Asymmetric Activity Index - um índice e pontuação atribuídos a cada cliente com base em sua atividade e seu perfil.\n",
        "\n",
        "* Asymmetric Profile Index - Índice de Perfil Assimétrico\n",
        "\n",
        "* Asymmetric Activity Score - Pontuação de atividade assimétrica\n",
        "\n",
        "* Asymmetric Profile Score - Pontuação de Perfil Assimétrico\n",
        "\n",
        "* I agree to pay the amount through cheque - Indica se o cliente concordou em pagar o valor em cheque ou não.\n",
        "\n",
        "* a free copy of Mastering The Interview -  Indica se o cliente deseja uma cópia gratuita de 'Mastering the Interview' ou não.\n",
        "\n",
        "* Last Notable Activity - A última atividade notável realizada pelo aluno.\n"
      ],
      "id": "1e720f87"
    },
    {
      "cell_type": "code",
      "metadata": {
        "id": "e37c6809",
        "outputId": "a3e54c75-de44-40d3-dc12-effa96e24975"
      },
      "source": [
        "print(f\"Número de linhas = {df.shape[0]}\\nNúmero de colunas = {df.shape[1]}\")\n"
      ],
      "id": "e37c6809",
      "execution_count": null,
      "outputs": [
        {
          "name": "stdout",
          "output_type": "stream",
          "text": [
            "Número de linhas = 9240\n",
            "Número de colunas = 37\n"
          ]
        }
      ]
    },
    {
      "cell_type": "markdown",
      "metadata": {
        "id": "caec5c4c"
      },
      "source": [
        "A primeira vista é um dataset pequeno, a seguir vamos analisar quantas e quais variáveis são catégoricas e discretas."
      ],
      "id": "caec5c4c"
    },
    {
      "cell_type": "code",
      "metadata": {
        "id": "b2ccdb01",
        "outputId": "af3e900d-9215-4ac4-f99c-f21f3a03a27c"
      },
      "source": [
        "df.dtypes"
      ],
      "id": "b2ccdb01",
      "execution_count": null,
      "outputs": [
        {
          "data": {
            "text/plain": [
              "Prospect ID                                       object\n",
              "Lead Number                                        int64\n",
              "Lead Origin                                       object\n",
              "Lead Source                                       object\n",
              "Do Not Email                                      object\n",
              "Do Not Call                                       object\n",
              "Converted                                          int64\n",
              "TotalVisits                                      float64\n",
              "Total Time Spent on Website                        int64\n",
              "Page Views Per Visit                             float64\n",
              "Last Activity                                     object\n",
              "Country                                           object\n",
              "Specialization                                    object\n",
              "How did you hear about X Education                object\n",
              "What is your current occupation                   object\n",
              "What matters most to you in choosing a course     object\n",
              "Search                                            object\n",
              "Magazine                                          object\n",
              "Newspaper Article                                 object\n",
              "X Education Forums                                object\n",
              "Newspaper                                         object\n",
              "Digital Advertisement                             object\n",
              "Through Recommendations                           object\n",
              "Receive More Updates About Our Courses            object\n",
              "Tags                                              object\n",
              "Lead Quality                                      object\n",
              "Update me on Supply Chain Content                 object\n",
              "Get updates on DM Content                         object\n",
              "Lead Profile                                      object\n",
              "City                                              object\n",
              "Asymmetrique Activity Index                       object\n",
              "Asymmetrique Profile Index                        object\n",
              "Asymmetrique Activity Score                      float64\n",
              "Asymmetrique Profile Score                       float64\n",
              "I agree to pay the amount through cheque          object\n",
              "A free copy of Mastering The Interview            object\n",
              "Last Notable Activity                             object\n",
              "dtype: object"
            ]
          },
          "execution_count": 7,
          "metadata": {},
          "output_type": "execute_result"
        }
      ]
    },
    {
      "cell_type": "markdown",
      "metadata": {
        "id": "2hMWHVZdKspQ"
      },
      "source": [
        "Temos que a maioria das variaveis são categoricas."
      ],
      "id": "2hMWHVZdKspQ"
    },
    {
      "cell_type": "code",
      "metadata": {
        "id": "03a2f69d",
        "outputId": "ddfdde2c-f048-4954-cb5c-2cde27a21160"
      },
      "source": [
        "df.nunique().sort_values(ascending=False)"
      ],
      "id": "03a2f69d",
      "execution_count": null,
      "outputs": [
        {
          "data": {
            "text/plain": [
              "Prospect ID                                      9240\n",
              "Lead Number                                      9240\n",
              "Total Time Spent on Website                      1731\n",
              "Page Views Per Visit                              114\n",
              "TotalVisits                                        41\n",
              "Country                                            38\n",
              "Tags                                               26\n",
              "Lead Source                                        21\n",
              "Specialization                                     19\n",
              "Last Activity                                      17\n",
              "Last Notable Activity                              16\n",
              "Asymmetrique Activity Score                        12\n",
              "How did you hear about X Education                 10\n",
              "Asymmetrique Profile Score                         10\n",
              "City                                                7\n",
              "What is your current occupation                     6\n",
              "Lead Profile                                        6\n",
              "Lead Origin                                         5\n",
              "Lead Quality                                        5\n",
              "What matters most to you in choosing a course       3\n",
              "Asymmetrique Profile Index                          3\n",
              "Asymmetrique Activity Index                         3\n",
              "Do Not Call                                         2\n",
              "A free copy of Mastering The Interview              2\n",
              "Converted                                           2\n",
              "Through Recommendations                             2\n",
              "Digital Advertisement                               2\n",
              "Newspaper                                           2\n",
              "X Education Forums                                  2\n",
              "Do Not Email                                        2\n",
              "Search                                              2\n",
              "Newspaper Article                                   2\n",
              "Receive More Updates About Our Courses              1\n",
              "Update me on Supply Chain Content                   1\n",
              "Get updates on DM Content                           1\n",
              "Magazine                                            1\n",
              "I agree to pay the amount through cheque            1\n",
              "dtype: int64"
            ]
          },
          "execution_count": 8,
          "metadata": {},
          "output_type": "execute_result"
        }
      ]
    },
    {
      "cell_type": "markdown",
      "metadata": {
        "id": "Uw6YOBzKLARN"
      },
      "source": [
        "Como era esperado *Prospect ID* e *Lead Number* têm valores únicos, *Total Time Spent on Website* também é composto por várias entradas únicas, mas é compreensível pois cada lead passa um determinado tempo na plataforma, as demais parecem estar em um range aceitável porém vamos analisar a fundo cada uma delas."
      ],
      "id": "Uw6YOBzKLARN"
    },
    {
      "cell_type": "markdown",
      "metadata": {
        "id": "qknEXiQcMjbq"
      },
      "source": [
        "### Valores ausentes"
      ],
      "id": "qknEXiQcMjbq"
    },
    {
      "cell_type": "markdown",
      "metadata": {
        "id": "4U80XW5PMoqk"
      },
      "source": [
        "Um ponto crucial para que possamos saber como vamos trabalhar os dados é vendo se há valores ausentes. Abaixo vamos fazer essa verificação na forma de porcentagem do dataset."
      ],
      "id": "4U80XW5PMoqk"
    },
    {
      "cell_type": "code",
      "metadata": {
        "id": "eb4a3983",
        "outputId": "7208572d-67e3-44ae-85ec-6c030b4056a6"
      },
      "source": [
        "((df.isnull().sum() / df.shape[0])*100).sort_values(ascending=False)"
      ],
      "id": "eb4a3983",
      "execution_count": null,
      "outputs": [
        {
          "data": {
            "text/plain": [
              "Lead Quality                                     51.590909\n",
              "Asymmetrique Activity Index                      45.649351\n",
              "Asymmetrique Profile Score                       45.649351\n",
              "Asymmetrique Activity Score                      45.649351\n",
              "Asymmetrique Profile Index                       45.649351\n",
              "Tags                                             36.287879\n",
              "Lead Profile                                     29.318182\n",
              "What matters most to you in choosing a course    29.318182\n",
              "What is your current occupation                  29.112554\n",
              "Country                                          26.634199\n",
              "How did you hear about X Education               23.885281\n",
              "Specialization                                   15.562771\n",
              "City                                             15.367965\n",
              "Page Views Per Visit                              1.482684\n",
              "TotalVisits                                       1.482684\n",
              "Last Activity                                     1.114719\n",
              "Lead Source                                       0.389610\n",
              "Receive More Updates About Our Courses            0.000000\n",
              "I agree to pay the amount through cheque          0.000000\n",
              "Get updates on DM Content                         0.000000\n",
              "Update me on Supply Chain Content                 0.000000\n",
              "A free copy of Mastering The Interview            0.000000\n",
              "Prospect ID                                       0.000000\n",
              "Newspaper Article                                 0.000000\n",
              "Through Recommendations                           0.000000\n",
              "Digital Advertisement                             0.000000\n",
              "Newspaper                                         0.000000\n",
              "X Education Forums                                0.000000\n",
              "Lead Number                                       0.000000\n",
              "Magazine                                          0.000000\n",
              "Search                                            0.000000\n",
              "Total Time Spent on Website                       0.000000\n",
              "Converted                                         0.000000\n",
              "Do Not Call                                       0.000000\n",
              "Do Not Email                                      0.000000\n",
              "Lead Origin                                       0.000000\n",
              "Last Notable Activity                             0.000000\n",
              "dtype: float64"
            ]
          },
          "execution_count": 9,
          "metadata": {},
          "output_type": "execute_result"
        }
      ]
    },
    {
      "cell_type": "markdown",
      "metadata": {
        "id": "752f02fd"
      },
      "source": [
        "Como podemos observar se trata de um dataset com muito valores ausentes, a princípio vamos excluir as colunas que têm acima de 45% de valores ausentes e em seguida vamos analisar caso a caso cada coluna que contenha valores ausentes, para um melhor tratamento das labels."
      ],
      "id": "752f02fd"
    },
    {
      "cell_type": "code",
      "metadata": {
        "id": "57cfcea8"
      },
      "source": [
        "df_clean = df.copy()"
      ],
      "id": "57cfcea8",
      "execution_count": null,
      "outputs": []
    },
    {
      "cell_type": "code",
      "metadata": {
        "id": "36d45cf8"
      },
      "source": [
        "cols=df_clean.columns\n",
        "for i in cols:\n",
        "    if((100*(df_clean[i].isnull().sum()/len(df_clean.index))) >= 45):\n",
        "        df_clean.drop(i, 1, inplace = True)"
      ],
      "id": "36d45cf8",
      "execution_count": null,
      "outputs": []
    },
    {
      "cell_type": "markdown",
      "metadata": {
        "id": "971e4ea0"
      },
      "source": [
        "Vamos verificar se todos as lables acima de 45% de valores ausentes foram excluidas "
      ],
      "id": "971e4ea0"
    },
    {
      "cell_type": "code",
      "metadata": {
        "id": "1132e888",
        "outputId": "63aed2ef-3e0b-434e-e381-f38db72cb36c"
      },
      "source": [
        "((df_clean.isnull().sum() / df_clean.shape[0])*100).sort_values(ascending=False)"
      ],
      "id": "1132e888",
      "execution_count": null,
      "outputs": [
        {
          "data": {
            "text/plain": [
              "Tags                                             36.287879\n",
              "Lead Profile                                     29.318182\n",
              "What matters most to you in choosing a course    29.318182\n",
              "What is your current occupation                  29.112554\n",
              "Country                                          26.634199\n",
              "How did you hear about X Education               23.885281\n",
              "Specialization                                   15.562771\n",
              "City                                             15.367965\n",
              "TotalVisits                                       1.482684\n",
              "Page Views Per Visit                              1.482684\n",
              "Last Activity                                     1.114719\n",
              "Lead Source                                       0.389610\n",
              "Receive More Updates About Our Courses            0.000000\n",
              "Update me on Supply Chain Content                 0.000000\n",
              "Prospect ID                                       0.000000\n",
              "Digital Advertisement                             0.000000\n",
              "Get updates on DM Content                         0.000000\n",
              "I agree to pay the amount through cheque          0.000000\n",
              "A free copy of Mastering The Interview            0.000000\n",
              "Through Recommendations                           0.000000\n",
              "Search                                            0.000000\n",
              "Newspaper                                         0.000000\n",
              "X Education Forums                                0.000000\n",
              "Newspaper Article                                 0.000000\n",
              "Magazine                                          0.000000\n",
              "Lead Number                                       0.000000\n",
              "Total Time Spent on Website                       0.000000\n",
              "Converted                                         0.000000\n",
              "Do Not Call                                       0.000000\n",
              "Do Not Email                                      0.000000\n",
              "Lead Origin                                       0.000000\n",
              "Last Notable Activity                             0.000000\n",
              "dtype: float64"
            ]
          },
          "execution_count": 12,
          "metadata": {},
          "output_type": "execute_result"
        }
      ]
    },
    {
      "cell_type": "markdown",
      "metadata": {
        "id": "ba033498"
      },
      "source": [
        "# **Analisando colunas caso a caso**"
      ],
      "id": "ba033498"
    },
    {
      "cell_type": "markdown",
      "metadata": {
        "id": "ILG9JtZnNcQU"
      },
      "source": [
        "Um padrão que irá se repetir nessa analise é vamos pegar uma coluna (das com mais valores ausentes para as com menos), ver quais entradas temos, aplicar uma ação que será explicada logo abaixo da celula de código e mostar a nova saida."
      ],
      "id": "ILG9JtZnNcQU"
    },
    {
      "cell_type": "code",
      "metadata": {
        "id": "24947e6a",
        "outputId": "e49fa229-5099-44fa-f225-607615d79e3e"
      },
      "source": [
        "df_clean['Tags'].value_counts(dropna=False)"
      ],
      "id": "24947e6a",
      "execution_count": null,
      "outputs": [
        {
          "data": {
            "text/plain": [
              "NaN                                                  3353\n",
              "Will revert after reading the email                  2072\n",
              "Ringing                                              1203\n",
              "Interested in other courses                           513\n",
              "Already a student                                     465\n",
              "Closed by Horizzon                                    358\n",
              "switched off                                          240\n",
              "Busy                                                  186\n",
              "Lost to EINS                                          175\n",
              "Not doing further education                           145\n",
              "Interested  in full time MBA                          117\n",
              "Graduation in progress                                111\n",
              "invalid number                                         83\n",
              "Diploma holder (Not Eligible)                          63\n",
              "wrong number given                                     47\n",
              "opp hangup                                             33\n",
              "number not provided                                    27\n",
              "in touch with EINS                                     12\n",
              "Lost to Others                                          7\n",
              "Still Thinking                                          6\n",
              "Want to take admission but has financial problems       6\n",
              "In confusion whether part time or DLP                   5\n",
              "Interested in Next batch                                5\n",
              "Lateral student                                         3\n",
              "Shall take in the next coming month                     2\n",
              "University not recognized                               2\n",
              "Recognition issue (DEC approval)                        1\n",
              "Name: Tags, dtype: int64"
            ]
          },
          "execution_count": 13,
          "metadata": {},
          "output_type": "execute_result"
        }
      ]
    },
    {
      "cell_type": "code",
      "metadata": {
        "id": "99b65673",
        "outputId": "b3ab2dfd-1eb0-486a-d360-b7003610c194"
      },
      "source": [
        "plt.figure(figsize=(15,5))\n",
        "s1=sns.countplot(df_clean.Tags, hue=df_clean.Converted)\n",
        "s1.set_xticklabels(s1.get_xticklabels(),rotation=90)\n",
        "\n",
        "plt.show()"
      ],
      "id": "99b65673",
      "execution_count": null,
      "outputs": [
        {
          "data": {
            "image/png": "[encoded data removed]",
            "text/plain": [
              "<Figure size 1080x360 with 1 Axes>"
            ]
          },
          "metadata": {
            "needs_background": "light"
          },
          "output_type": "display_data"
        }
      ]
    },
    {
      "cell_type": "markdown",
      "metadata": {
        "id": "5294657c"
      },
      "source": [
        "Dentro da coluna *tag* temos 26 categorias diferentes e mais os valores ausentes, vamos algumas podem ser agrupadas por exemplo: *In confusion whether part time or DLP*, *in touch with EINS*,*Diploma holder (Not Eligible)* seram renomeadas para **Other_Tags** e as ausentes **Not Specified**."
      ],
      "id": "5294657c"
    },
    {
      "cell_type": "code",
      "metadata": {
        "id": "98aabff3"
      },
      "source": [
        "df_clean['Tags'] = df_clean['Tags'].replace(['In confusion whether part time or DLP', 'in touch with EINS',\n",
        "                                             'Diploma holder (Not Eligible)','Approached upfront','Graduation in progress',\n",
        "                                             'number not provided', 'opp hangup','Still Thinking', 'Lost to Others',\n",
        "                                             'Shall take in the next coming month','Lateral student','Interested in Next batch',\n",
        "                                             'Recognition issue (DEC approval)','Want to take admission but has financial problems',\n",
        "                                             'University not recognized', 'switched off','Already a student','Not doing further education',\n",
        "                                             'invalid number','wrong number given','Interested  in full time MBA'], 'Other_Tags')\n"
      ],
      "id": "98aabff3",
      "execution_count": null,
      "outputs": []
    },
    {
      "cell_type": "code",
      "metadata": {
        "id": "823e25a1",
        "outputId": "1c72049d-0f4f-4e21-c99f-addad9546b9a"
      },
      "source": [
        "df_clean['Tags'].value_counts(dropna=False)"
      ],
      "id": "823e25a1",
      "execution_count": null,
      "outputs": [
        {
          "data": {
            "text/plain": [
              "NaN                                    3353\n",
              "Will revert after reading the email    2072\n",
              "Other_Tags                             1380\n",
              "Ringing                                1203\n",
              "Interested in other courses             513\n",
              "Closed by Horizzon                      358\n",
              "Busy                                    186\n",
              "Lost to EINS                            175\n",
              "Name: Tags, dtype: int64"
            ]
          },
          "execution_count": 16,
          "metadata": {},
          "output_type": "execute_result"
        }
      ]
    },
    {
      "cell_type": "markdown",
      "metadata": {
        "id": "bef4f561"
      },
      "source": [
        "Reduzimos a quantidade de categorias de 27 para 7 categorias, os valores ausentes vamos transforma-los para not specified"
      ],
      "id": "bef4f561"
    },
    {
      "cell_type": "code",
      "metadata": {
        "id": "e56c9109"
      },
      "source": [
        "df_clean['Tags'] = df_clean['Tags'].replace(np.nan, 'Not specified')"
      ],
      "id": "e56c9109",
      "execution_count": null,
      "outputs": []
    },
    {
      "cell_type": "code",
      "metadata": {
        "id": "74893a53",
        "outputId": "254617e6-4cfd-4fa7-d600-3754eafcedc9"
      },
      "source": [
        "df_clean['Tags'].value_counts(dropna=False)"
      ],
      "id": "74893a53",
      "execution_count": null,
      "outputs": [
        {
          "data": {
            "text/plain": [
              "Not specified                          3353\n",
              "Will revert after reading the email    2072\n",
              "Other_Tags                             1380\n",
              "Ringing                                1203\n",
              "Interested in other courses             513\n",
              "Closed by Horizzon                      358\n",
              "Busy                                    186\n",
              "Lost to EINS                            175\n",
              "Name: Tags, dtype: int64"
            ]
          },
          "execution_count": 18,
          "metadata": {},
          "output_type": "execute_result"
        }
      ]
    },
    {
      "cell_type": "code",
      "metadata": {
        "id": "a65716ec",
        "outputId": "0eab10a5-6168-4113-de44-b50d13679dc0"
      },
      "source": [
        "plt.figure(figsize=(15,5))\n",
        "s1=sns.countplot(df_clean.Tags, hue=df_clean.Converted)\n",
        "s1.set_xticklabels(s1.get_xticklabels(),rotation=90)\n",
        "\n",
        "plt.show()"
      ],
      "id": "a65716ec",
      "execution_count": null,
      "outputs": [
        {
          "data": {
            "image/png": "[encoded data removed]",
            "text/plain": [
              "<Figure size 1080x360 with 1 Axes>"
            ]
          },
          "metadata": {
            "needs_background": "light"
          },
          "output_type": "display_data"
        }
      ]
    },
    {
      "cell_type": "markdown",
      "metadata": {
        "id": "ee744a92"
      },
      "source": [
        "O mesmo método será usado na seguites colunas:\n",
        "* Lead Profile                                     \n",
        "* What matters most to you in choosing a course    \n",
        "* What is your current occupation                  \n",
        "* Country                                          \n",
        "* How did you hear about X Education               \n",
        "* Specialization                                   \n",
        "* City                                             \n",
        "* TotalVisits                                       \n",
        "* Page Views Per Visit                              \n",
        "* Last Activity                                     "
      ],
      "id": "ee744a92"
    },
    {
      "cell_type": "markdown",
      "metadata": {
        "id": "f4b022d8"
      },
      "source": [
        "### Lead Profile"
      ],
      "id": "f4b022d8"
    },
    {
      "cell_type": "code",
      "metadata": {
        "id": "87b1b6ef",
        "outputId": "6e82469f-4468-402a-d39a-d81c8cc80ffa"
      },
      "source": [
        "df_clean['Lead Profile'].value_counts(dropna=False)"
      ],
      "id": "87b1b6ef",
      "execution_count": null,
      "outputs": [
        {
          "data": {
            "text/plain": [
              "Select                         4146\n",
              "NaN                            2709\n",
              "Potential Lead                 1613\n",
              "Other Leads                     487\n",
              "Student of SomeSchool           241\n",
              "Lateral Student                  24\n",
              "Dual Specialization Student      20\n",
              "Name: Lead Profile, dtype: int64"
            ]
          },
          "execution_count": 20,
          "metadata": {},
          "output_type": "execute_result"
        }
      ]
    },
    {
      "cell_type": "code",
      "metadata": {
        "id": "c4518028"
      },
      "source": [
        "df_clean['Lead Profile'] = df_clean['Lead Profile'].replace(np.nan, 'Not specified')"
      ],
      "id": "c4518028",
      "execution_count": null,
      "outputs": []
    },
    {
      "cell_type": "code",
      "metadata": {
        "id": "c737c76a",
        "outputId": "9322ac67-2fb2-4116-88ad-e2ed6b2d5d74"
      },
      "source": [
        "plt.figure(figsize=(15,5))\n",
        "s1=sns.countplot(df_clean['Lead Profile'], hue=df_clean.Converted)\n",
        "s1.set_xticklabels(s1.get_xticklabels(),rotation=90)\n",
        "\n",
        "plt.show()"
      ],
      "id": "c737c76a",
      "execution_count": null,
      "outputs": [
        {
          "data": {
            "image/png": "[encoded data removed]",
            "text/plain": [
              "<Figure size 1080x360 with 1 Axes>"
            ]
          },
          "metadata": {
            "needs_background": "light"
          },
          "output_type": "display_data"
        }
      ]
    },
    {
      "cell_type": "markdown",
      "metadata": {
        "id": "a49353b3"
      },
      "source": [
        "### What matters most to you in choosing a course"
      ],
      "id": "a49353b3"
    },
    {
      "cell_type": "code",
      "metadata": {
        "id": "fac8b1e4",
        "outputId": "d2c703f7-76c7-442e-e6e9-7a6e95f7668c"
      },
      "source": [
        "df_clean['What matters most to you in choosing a course'].value_counts(dropna=False)"
      ],
      "id": "fac8b1e4",
      "execution_count": null,
      "outputs": [
        {
          "data": {
            "text/plain": [
              "Better Career Prospects      6528\n",
              "NaN                          2709\n",
              "Flexibility & Convenience       2\n",
              "Other                           1\n",
              "Name: What matters most to you in choosing a course, dtype: int64"
            ]
          },
          "execution_count": 23,
          "metadata": {},
          "output_type": "execute_result"
        }
      ]
    },
    {
      "cell_type": "code",
      "metadata": {
        "id": "3b77b05b"
      },
      "source": [
        "df_clean['What matters most to you in choosing a course'] = df_clean['What matters most to you in choosing a course'].replace(np.nan, 'Other')"
      ],
      "id": "3b77b05b",
      "execution_count": null,
      "outputs": []
    },
    {
      "cell_type": "code",
      "metadata": {
        "id": "6a203793"
      },
      "source": [
        "df_clean['What matters most to you in choosing a course'] = df_clean['What matters most to you in choosing a course'].replace(['Flexibility & Convenience', 'other'], 'Other')"
      ],
      "id": "6a203793",
      "execution_count": null,
      "outputs": []
    },
    {
      "cell_type": "code",
      "metadata": {
        "id": "d61f6f12",
        "outputId": "7bdc9986-357c-475b-d527-2f24e9901fa4"
      },
      "source": [
        "df_clean['What matters most to you in choosing a course'].value_counts(dropna=False)"
      ],
      "id": "d61f6f12",
      "execution_count": null,
      "outputs": [
        {
          "data": {
            "text/plain": [
              "Better Career Prospects    6528\n",
              "Other                      2712\n",
              "Name: What matters most to you in choosing a course, dtype: int64"
            ]
          },
          "execution_count": 26,
          "metadata": {},
          "output_type": "execute_result"
        }
      ]
    },
    {
      "cell_type": "code",
      "metadata": {
        "id": "6d5aae11",
        "outputId": "a89e3ca2-1fba-4245-9c8b-fab3556632a6"
      },
      "source": [
        "plt.figure(figsize=(15,5))\n",
        "s1=sns.countplot(df_clean['What matters most to you in choosing a course'], hue=df_clean.Converted)\n",
        "s1.set_xticklabels(s1.get_xticklabels(),rotation=90)\n",
        "\n",
        "plt.show()"
      ],
      "id": "6d5aae11",
      "execution_count": null,
      "outputs": [
        {
          "data": {
            "image/png": "[encoded data removed]",
            "text/plain": [
              "<Figure size 1080x360 with 1 Axes>"
            ]
          },
          "metadata": {
            "needs_background": "light"
          },
          "output_type": "display_data"
        }
      ]
    },
    {
      "cell_type": "markdown",
      "metadata": {
        "id": "fca2efe3"
      },
      "source": [
        "### What is your current occupation"
      ],
      "id": "fca2efe3"
    },
    {
      "cell_type": "code",
      "metadata": {
        "id": "27bd4598",
        "outputId": "05dda8e2-8ac3-4f34-814f-5a5da7d7c253"
      },
      "source": [
        "df_clean['What is your current occupation'].value_counts(dropna=False)"
      ],
      "id": "27bd4598",
      "execution_count": null,
      "outputs": [
        {
          "data": {
            "text/plain": [
              "Unemployed              5600\n",
              "NaN                     2690\n",
              "Working Professional     706\n",
              "Student                  210\n",
              "Other                     16\n",
              "Housewife                 10\n",
              "Businessman                8\n",
              "Name: What is your current occupation, dtype: int64"
            ]
          },
          "execution_count": 28,
          "metadata": {},
          "output_type": "execute_result"
        }
      ]
    },
    {
      "cell_type": "code",
      "metadata": {
        "id": "dcb9433e"
      },
      "source": [
        "df_clean['What is your current occupation'] = df_clean['What is your current occupation'].replace(np.nan, 'Other')"
      ],
      "id": "dcb9433e",
      "execution_count": null,
      "outputs": []
    },
    {
      "cell_type": "code",
      "metadata": {
        "id": "f7292b3b",
        "outputId": "7d193f6d-140a-45ad-d7ee-283b1d1b588a"
      },
      "source": [
        "df_clean['What is your current occupation'].value_counts(dropna=False)"
      ],
      "id": "f7292b3b",
      "execution_count": null,
      "outputs": [
        {
          "data": {
            "text/plain": [
              "Unemployed              5600\n",
              "Other                   2706\n",
              "Working Professional     706\n",
              "Student                  210\n",
              "Housewife                 10\n",
              "Businessman                8\n",
              "Name: What is your current occupation, dtype: int64"
            ]
          },
          "execution_count": 30,
          "metadata": {},
          "output_type": "execute_result"
        }
      ]
    },
    {
      "cell_type": "code",
      "metadata": {
        "id": "61fa7104",
        "outputId": "e3578f5d-fddd-46fe-d2a8-4a830da1172c"
      },
      "source": [
        "plt.figure(figsize=(15,5))\n",
        "s1=sns.countplot(df_clean['What is your current occupation'], hue=df_clean.Converted)\n",
        "s1.set_xticklabels(s1.get_xticklabels(),rotation=90)\n",
        "\n",
        "plt.show()"
      ],
      "id": "61fa7104",
      "execution_count": null,
      "outputs": [
        {
          "data": {
            "image/png": "[encoded data removed]",
            "text/plain": [
              "<Figure size 1080x360 with 1 Axes>"
            ]
          },
          "metadata": {
            "needs_background": "light"
          },
          "output_type": "display_data"
        }
      ]
    },
    {
      "cell_type": "markdown",
      "metadata": {
        "id": "90840d3f"
      },
      "source": [
        "### Country"
      ],
      "id": "90840d3f"
    },
    {
      "cell_type": "code",
      "metadata": {
        "id": "17ae61f5",
        "outputId": "ad10d2f4-0716-476a-93e5-b5bf894997c2"
      },
      "source": [
        "df_clean['Country'].value_counts(dropna=False)"
      ],
      "id": "17ae61f5",
      "execution_count": null,
      "outputs": [
        {
          "data": {
            "text/plain": [
              "India                   6492\n",
              "NaN                     2461\n",
              "United States             69\n",
              "United Arab Emirates      53\n",
              "Singapore                 24\n",
              "Saudi Arabia              21\n",
              "United Kingdom            15\n",
              "Australia                 13\n",
              "Qatar                     10\n",
              "Bahrain                    7\n",
              "Hong Kong                  7\n",
              "Oman                       6\n",
              "France                     6\n",
              "unknown                    5\n",
              "Kuwait                     4\n",
              "South Africa               4\n",
              "Canada                     4\n",
              "Nigeria                    4\n",
              "Germany                    4\n",
              "Sweden                     3\n",
              "Philippines                2\n",
              "Uganda                     2\n",
              "Italy                      2\n",
              "Bangladesh                 2\n",
              "Netherlands                2\n",
              "Asia/Pacific Region        2\n",
              "China                      2\n",
              "Belgium                    2\n",
              "Ghana                      2\n",
              "Kenya                      1\n",
              "Sri Lanka                  1\n",
              "Tanzania                   1\n",
              "Malaysia                   1\n",
              "Liberia                    1\n",
              "Switzerland                1\n",
              "Denmark                    1\n",
              "Russia                     1\n",
              "Vietnam                    1\n",
              "Indonesia                  1\n",
              "Name: Country, dtype: int64"
            ]
          },
          "execution_count": 32,
          "metadata": {},
          "output_type": "execute_result"
        }
      ]
    },
    {
      "cell_type": "code",
      "metadata": {
        "id": "f0eda080",
        "outputId": "55a6121b-b97f-432e-d5e8-d0eae68c6695"
      },
      "source": [
        "plt.figure(figsize=(15,5))\n",
        "s1=sns.countplot(df_clean['Country'], hue=df_clean.Converted)\n",
        "s1.set_xticklabels(s1.get_xticklabels(),rotation=90)\n",
        "\n",
        "plt.show()"
      ],
      "id": "f0eda080",
      "execution_count": null,
      "outputs": [
        {
          "data": {
            "image/png": "[encoded data removed]",
            "text/plain": [
              "<Figure size 1080x360 with 1 Axes>"
            ]
          },
          "metadata": {
            "needs_background": "light"
          },
          "output_type": "display_data"
        }
      ]
    },
    {
      "cell_type": "code",
      "metadata": {
        "id": "697fcc30",
        "outputId": "980cb298-3615-44c3-c32b-5399f4e8ca09"
      },
      "source": [
        "df_clean['Country'].value_counts(dropna=False)/ df_clean.shape[0] * 100"
      ],
      "id": "697fcc30",
      "execution_count": null,
      "outputs": [
        {
          "data": {
            "text/plain": [
              "India                   70.259740\n",
              "NaN                     26.634199\n",
              "United States            0.746753\n",
              "United Arab Emirates     0.573593\n",
              "Singapore                0.259740\n",
              "Saudi Arabia             0.227273\n",
              "United Kingdom           0.162338\n",
              "Australia                0.140693\n",
              "Qatar                    0.108225\n",
              "Bahrain                  0.075758\n",
              "Hong Kong                0.075758\n",
              "Oman                     0.064935\n",
              "France                   0.064935\n",
              "unknown                  0.054113\n",
              "Kuwait                   0.043290\n",
              "South Africa             0.043290\n",
              "Canada                   0.043290\n",
              "Nigeria                  0.043290\n",
              "Germany                  0.043290\n",
              "Sweden                   0.032468\n",
              "Philippines              0.021645\n",
              "Uganda                   0.021645\n",
              "Italy                    0.021645\n",
              "Bangladesh               0.021645\n",
              "Netherlands              0.021645\n",
              "Asia/Pacific Region      0.021645\n",
              "China                    0.021645\n",
              "Belgium                  0.021645\n",
              "Ghana                    0.021645\n",
              "Kenya                    0.010823\n",
              "Sri Lanka                0.010823\n",
              "Tanzania                 0.010823\n",
              "Malaysia                 0.010823\n",
              "Liberia                  0.010823\n",
              "Switzerland              0.010823\n",
              "Denmark                  0.010823\n",
              "Russia                   0.010823\n",
              "Vietnam                  0.010823\n",
              "Indonesia                0.010823\n",
              "Name: Country, dtype: float64"
            ]
          },
          "execution_count": 34,
          "metadata": {},
          "output_type": "execute_result"
        }
      ]
    },
    {
      "cell_type": "markdown",
      "metadata": {
        "id": "94dacec3"
      },
      "source": [
        "Como podemos observar mais de 70% dos leads são da India, e 26% não foram especificadas. Já na coluna City temos um número menor de dados ausentes cerca de 15%. O dataset representa leads de uma escola nos moldes EAD, com isso e mais ao fato do risco de enviasarmos nosso modelo as colunas country e city seram removidas."
      ],
      "id": "94dacec3"
    },
    {
      "cell_type": "code",
      "metadata": {
        "id": "4f736483"
      },
      "source": [
        "df_clean.drop(['Country', 'City'], axis=1, inplace=True)"
      ],
      "id": "4f736483",
      "execution_count": null,
      "outputs": []
    },
    {
      "cell_type": "code",
      "metadata": {
        "id": "e2c19826",
        "outputId": "43ef813b-d5fa-4c4b-e4be-7445aa504791"
      },
      "source": [
        "((df_clean.isnull().sum() / df_clean.shape[0])*100).sort_values(ascending=False)"
      ],
      "id": "e2c19826",
      "execution_count": null,
      "outputs": [
        {
          "data": {
            "text/plain": [
              "How did you hear about X Education               23.885281\n",
              "Specialization                                   15.562771\n",
              "Page Views Per Visit                              1.482684\n",
              "TotalVisits                                       1.482684\n",
              "Last Activity                                     1.114719\n",
              "Lead Source                                       0.389610\n",
              "Digital Advertisement                             0.000000\n",
              "Through Recommendations                           0.000000\n",
              "Receive More Updates About Our Courses            0.000000\n",
              "Tags                                              0.000000\n",
              "Prospect ID                                       0.000000\n",
              "X Education Forums                                0.000000\n",
              "Update me on Supply Chain Content                 0.000000\n",
              "Get updates on DM Content                         0.000000\n",
              "Lead Profile                                      0.000000\n",
              "I agree to pay the amount through cheque          0.000000\n",
              "A free copy of Mastering The Interview            0.000000\n",
              "Newspaper                                         0.000000\n",
              "Search                                            0.000000\n",
              "Newspaper Article                                 0.000000\n",
              "Magazine                                          0.000000\n",
              "Lead Number                                       0.000000\n",
              "What matters most to you in choosing a course     0.000000\n",
              "What is your current occupation                   0.000000\n",
              "Total Time Spent on Website                       0.000000\n",
              "Converted                                         0.000000\n",
              "Do Not Call                                       0.000000\n",
              "Do Not Email                                      0.000000\n",
              "Lead Origin                                       0.000000\n",
              "Last Notable Activity                             0.000000\n",
              "dtype: float64"
            ]
          },
          "execution_count": 36,
          "metadata": {},
          "output_type": "execute_result"
        }
      ]
    },
    {
      "cell_type": "markdown",
      "metadata": {
        "id": "da4127da"
      },
      "source": [
        "### How did you hear about X Education "
      ],
      "id": "da4127da"
    },
    {
      "cell_type": "code",
      "metadata": {
        "id": "1376edac",
        "outputId": "4d89801b-0d09-4d52-904c-2fcf86bceba8"
      },
      "source": [
        "df_clean['How did you hear about X Education'].value_counts(dropna=False)"
      ],
      "id": "1376edac",
      "execution_count": null,
      "outputs": [
        {
          "data": {
            "text/plain": [
              "Select                   5043\n",
              "NaN                      2207\n",
              "Online Search             808\n",
              "Word Of Mouth             348\n",
              "Student of SomeSchool     310\n",
              "Other                     186\n",
              "Multiple Sources          152\n",
              "Advertisements             70\n",
              "Social Media               67\n",
              "Email                      26\n",
              "SMS                        23\n",
              "Name: How did you hear about X Education, dtype: int64"
            ]
          },
          "execution_count": 37,
          "metadata": {},
          "output_type": "execute_result"
        }
      ]
    },
    {
      "cell_type": "code",
      "metadata": {
        "id": "8df8be50"
      },
      "source": [
        "df_clean['How did you hear about X Education'] = df_clean['How did you hear about X Education'].replace(np.nan, 'Other')"
      ],
      "id": "8df8be50",
      "execution_count": null,
      "outputs": []
    },
    {
      "cell_type": "code",
      "metadata": {
        "id": "8a353590",
        "outputId": "8ec540b7-8b9a-4ce4-d0dc-5bc3b261ac17"
      },
      "source": [
        "plt.figure(figsize=(15,5))\n",
        "s1=sns.countplot(df_clean['How did you hear about X Education'], hue=df_clean.Converted)\n",
        "s1.set_xticklabels(s1.get_xticklabels(),rotation=90)\n",
        "\n",
        "plt.show()"
      ],
      "id": "8a353590",
      "execution_count": null,
      "outputs": [
        {
          "data": {
            "image/png": "[encoded data removed]",
            "text/plain": [
              "<Figure size 1080x360 with 1 Axes>"
            ]
          },
          "metadata": {
            "needs_background": "light"
          },
          "output_type": "display_data"
        }
      ]
    },
    {
      "cell_type": "markdown",
      "metadata": {
        "id": "2f9b447d"
      },
      "source": [
        "### Specialization"
      ],
      "id": "2f9b447d"
    },
    {
      "cell_type": "code",
      "metadata": {
        "id": "8cb00ff0",
        "outputId": "a3299e54-ebf0-42dc-a0ce-08a09f218061"
      },
      "source": [
        "df_clean['Specialization'].value_counts(dropna=False)"
      ],
      "id": "8cb00ff0",
      "execution_count": null,
      "outputs": [
        {
          "data": {
            "text/plain": [
              "Select                               1942\n",
              "NaN                                  1438\n",
              "Finance Management                    976\n",
              "Human Resource Management             848\n",
              "Marketing Management                  838\n",
              "Operations Management                 503\n",
              "Business Administration               403\n",
              "IT Projects Management                366\n",
              "Supply Chain Management               349\n",
              "Banking, Investment And Insurance     338\n",
              "Travel and Tourism                    203\n",
              "Media and Advertising                 203\n",
              "International Business                178\n",
              "Healthcare Management                 159\n",
              "Hospitality Management                114\n",
              "E-COMMERCE                            112\n",
              "Retail Management                     100\n",
              "Rural and Agribusiness                 73\n",
              "E-Business                             57\n",
              "Services Excellence                    40\n",
              "Name: Specialization, dtype: int64"
            ]
          },
          "execution_count": 40,
          "metadata": {},
          "output_type": "execute_result"
        }
      ]
    },
    {
      "cell_type": "markdown",
      "metadata": {
        "id": "dbfd9c4c"
      },
      "source": [
        "Em Specialization há algumas categorias de Manegement, vamos unir-lá para reduziar o número de categorias."
      ],
      "id": "dbfd9c4c"
    },
    {
      "cell_type": "code",
      "metadata": {
        "id": "c743302c"
      },
      "source": [
        "df_clean['Specialization'] = df_clean['Specialization'].replace(['Finance Management', 'Human Resource Management',\n",
        "                                               'Marketing Management', 'Operations Management',\n",
        "                                              'IT Projects Management','Supply Chain Management',\n",
        "                                              'Healthcare Management', 'Hospitality Management',\n",
        "                                              'Retail Management'], 'Management')"
      ],
      "id": "c743302c",
      "execution_count": null,
      "outputs": []
    },
    {
      "cell_type": "code",
      "metadata": {
        "id": "7bfae883",
        "outputId": "148779e1-2f6d-4366-a713-31ba31c3ced7"
      },
      "source": [
        "df_clean['Specialization'].value_counts(dropna=False)"
      ],
      "id": "7bfae883",
      "execution_count": null,
      "outputs": [
        {
          "data": {
            "text/plain": [
              "Management                           4253\n",
              "Select                               1942\n",
              "NaN                                  1438\n",
              "Business Administration               403\n",
              "Banking, Investment And Insurance     338\n",
              "Media and Advertising                 203\n",
              "Travel and Tourism                    203\n",
              "International Business                178\n",
              "E-COMMERCE                            112\n",
              "Rural and Agribusiness                 73\n",
              "E-Business                             57\n",
              "Services Excellence                    40\n",
              "Name: Specialization, dtype: int64"
            ]
          },
          "execution_count": 42,
          "metadata": {},
          "output_type": "execute_result"
        }
      ]
    },
    {
      "cell_type": "code",
      "metadata": {
        "id": "6b7fd813"
      },
      "source": [
        "df_clean['Specialization'] = df_clean['Specialization'].replace(np.nan, 'Other')"
      ],
      "id": "6b7fd813",
      "execution_count": null,
      "outputs": []
    },
    {
      "cell_type": "code",
      "metadata": {
        "id": "5ee3f746",
        "outputId": "943e52ca-797d-4af1-a881-50cf4326eab7"
      },
      "source": [
        "plt.figure(figsize=(15,5))\n",
        "s1=sns.countplot(df_clean['Specialization'], hue=df_clean.Converted)\n",
        "s1.set_xticklabels(s1.get_xticklabels(),rotation=90)\n",
        "\n",
        "plt.show()"
      ],
      "id": "5ee3f746",
      "execution_count": null,
      "outputs": [
        {
          "data": {
            "image/png": "[encoded data removed]",
            "text/plain": [
              "<Figure size 1080x360 with 1 Axes>"
            ]
          },
          "metadata": {
            "needs_background": "light"
          },
          "output_type": "display_data"
        }
      ]
    },
    {
      "cell_type": "markdown",
      "metadata": {
        "id": "c844984e"
      },
      "source": [
        "### Page Views Per Visit"
      ],
      "id": "c844984e"
    },
    {
      "cell_type": "code",
      "metadata": {
        "id": "e543c446",
        "outputId": "7ee8823b-1178-4525-bd4b-de254fe53eb4"
      },
      "source": [
        "df_clean['Page Views Per Visit'].value_counts(dropna=False)"
      ],
      "id": "e543c446",
      "execution_count": null,
      "outputs": [
        {
          "data": {
            "text/plain": [
              "0.00    2189\n",
              "2.00    1795\n",
              "3.00    1196\n",
              "4.00     896\n",
              "1.00     651\n",
              "        ... \n",
              "2.56       1\n",
              "6.33       1\n",
              "1.64       1\n",
              "8.21       1\n",
              "2.08       1\n",
              "Name: Page Views Per Visit, Length: 115, dtype: int64"
            ]
          },
          "execution_count": 45,
          "metadata": {},
          "output_type": "execute_result"
        }
      ]
    },
    {
      "cell_type": "code",
      "metadata": {
        "id": "900db7ba",
        "outputId": "21fd3c38-ff20-4194-9ca4-5e195b9dfee3"
      },
      "source": [
        "df_clean['Page Views Per Visit'].describe()"
      ],
      "id": "900db7ba",
      "execution_count": null,
      "outputs": [
        {
          "data": {
            "text/plain": [
              "count    9103.000000\n",
              "mean        2.362820\n",
              "std         2.161418\n",
              "min         0.000000\n",
              "25%         1.000000\n",
              "50%         2.000000\n",
              "75%         3.000000\n",
              "max        55.000000\n",
              "Name: Page Views Per Visit, dtype: float64"
            ]
          },
          "execution_count": 46,
          "metadata": {},
          "output_type": "execute_result"
        }
      ]
    },
    {
      "cell_type": "code",
      "metadata": {
        "id": "39e881a2"
      },
      "source": [
        "df_clean['Page Views Per Visit'] = df_clean['Page Views Per Visit'].replace(np.nan, 2.161418)"
      ],
      "id": "39e881a2",
      "execution_count": null,
      "outputs": []
    },
    {
      "cell_type": "markdown",
      "metadata": {
        "id": "4d551131"
      },
      "source": [
        "### TotalVisits"
      ],
      "id": "4d551131"
    },
    {
      "cell_type": "code",
      "metadata": {
        "id": "abf7e57c",
        "outputId": "44b13954-b0ed-44dd-f0df-c1bc865988d6"
      },
      "source": [
        "df_clean['TotalVisits'].value_counts(dropna=False)"
      ],
      "id": "abf7e57c",
      "execution_count": null,
      "outputs": [
        {
          "data": {
            "text/plain": [
              "0.0      2189\n",
              "2.0      1680\n",
              "3.0      1306\n",
              "4.0      1120\n",
              "5.0       783\n",
              "6.0       466\n",
              "1.0       395\n",
              "7.0       309\n",
              "8.0       224\n",
              "9.0       164\n",
              "NaN       137\n",
              "10.0      114\n",
              "11.0       86\n",
              "13.0       48\n",
              "12.0       45\n",
              "14.0       36\n",
              "16.0       21\n",
              "15.0       18\n",
              "17.0       16\n",
              "18.0       15\n",
              "20.0       12\n",
              "19.0        9\n",
              "21.0        6\n",
              "23.0        6\n",
              "24.0        5\n",
              "25.0        5\n",
              "27.0        5\n",
              "22.0        3\n",
              "29.0        2\n",
              "28.0        2\n",
              "26.0        2\n",
              "141.0       1\n",
              "55.0        1\n",
              "30.0        1\n",
              "43.0        1\n",
              "74.0        1\n",
              "41.0        1\n",
              "54.0        1\n",
              "115.0       1\n",
              "251.0       1\n",
              "32.0        1\n",
              "42.0        1\n",
              "Name: TotalVisits, dtype: int64"
            ]
          },
          "execution_count": 48,
          "metadata": {},
          "output_type": "execute_result"
        }
      ]
    },
    {
      "cell_type": "code",
      "metadata": {
        "id": "2200da3d",
        "outputId": "a1d3094c-0b1c-48d2-dc8e-5c8a61e7f004"
      },
      "source": [
        "df_clean['TotalVisits'].describe()"
      ],
      "id": "2200da3d",
      "execution_count": null,
      "outputs": [
        {
          "data": {
            "text/plain": [
              "count    9103.000000\n",
              "mean        3.445238\n",
              "std         4.854853\n",
              "min         0.000000\n",
              "25%         1.000000\n",
              "50%         3.000000\n",
              "75%         5.000000\n",
              "max       251.000000\n",
              "Name: TotalVisits, dtype: float64"
            ]
          },
          "execution_count": 49,
          "metadata": {},
          "output_type": "execute_result"
        }
      ]
    },
    {
      "cell_type": "code",
      "metadata": {
        "id": "f6ffb6e8"
      },
      "source": [
        "df_clean['TotalVisits'] = df_clean['TotalVisits'].replace(np.nan, 4.854853)"
      ],
      "id": "f6ffb6e8",
      "execution_count": null,
      "outputs": []
    },
    {
      "cell_type": "markdown",
      "metadata": {
        "id": "1c6741d3"
      },
      "source": [
        "### Last Activity"
      ],
      "id": "1c6741d3"
    },
    {
      "cell_type": "code",
      "metadata": {
        "id": "cfd38021",
        "outputId": "8053c76d-e345-4fc8-de93-9d8ea918d2ab"
      },
      "source": [
        "df_clean['Last Activity'].value_counts(dropna=False)"
      ],
      "id": "cfd38021",
      "execution_count": null,
      "outputs": [
        {
          "data": {
            "text/plain": [
              "Email Opened                    3437\n",
              "SMS Sent                        2745\n",
              "Olark Chat Conversation          973\n",
              "Page Visited on Website          640\n",
              "Converted to Lead                428\n",
              "Email Bounced                    326\n",
              "Email Link Clicked               267\n",
              "Form Submitted on Website        116\n",
              "NaN                              103\n",
              "Unreachable                       93\n",
              "Unsubscribed                      61\n",
              "Had a Phone Conversation          30\n",
              "Approached upfront                 9\n",
              "View in browser link Clicked       6\n",
              "Email Received                     2\n",
              "Email Marked Spam                  2\n",
              "Visited Booth in Tradeshow         1\n",
              "Resubscribed to emails             1\n",
              "Name: Last Activity, dtype: int64"
            ]
          },
          "execution_count": 51,
          "metadata": {},
          "output_type": "execute_result"
        }
      ]
    },
    {
      "cell_type": "code",
      "metadata": {
        "id": "fbd8f055"
      },
      "source": [
        "df_clean['Last Activity'] = df_clean['Last Activity'].replace(np.nan,'Others')\n"
      ],
      "id": "fbd8f055",
      "execution_count": null,
      "outputs": []
    },
    {
      "cell_type": "code",
      "metadata": {
        "id": "495564e6"
      },
      "source": [
        "df_clean['Last Activity'] = df_clean['Last Activity'].replace(['Unreachable','Unsubscribed',\n",
        "                                                 'Had a Phone Conversation','Approached upfront',\n",
        "                                                 'View in browser link Clicked','Email Marked Spam',\n",
        "                                                 'Email Received','Resubscribed to emails',\n",
        "                                                 'Visited Booth in Tradeshow'],'Others')"
      ],
      "id": "495564e6",
      "execution_count": null,
      "outputs": []
    },
    {
      "cell_type": "code",
      "metadata": {
        "id": "cd774631",
        "outputId": "7ac03081-4bf2-4f57-b9da-bad067fc4812"
      },
      "source": [
        "df_clean['Last Activity'].value_counts(dropna=False)"
      ],
      "id": "cd774631",
      "execution_count": null,
      "outputs": [
        {
          "data": {
            "text/plain": [
              "Email Opened                 3437\n",
              "SMS Sent                     2745\n",
              "Olark Chat Conversation       973\n",
              "Page Visited on Website       640\n",
              "Converted to Lead             428\n",
              "Email Bounced                 326\n",
              "Others                        308\n",
              "Email Link Clicked            267\n",
              "Form Submitted on Website     116\n",
              "Name: Last Activity, dtype: int64"
            ]
          },
          "execution_count": 54,
          "metadata": {},
          "output_type": "execute_result"
        }
      ]
    },
    {
      "cell_type": "markdown",
      "metadata": {
        "id": "5389b743"
      },
      "source": [
        "### Lead Source"
      ],
      "id": "5389b743"
    },
    {
      "cell_type": "code",
      "metadata": {
        "id": "9506a230",
        "outputId": "1f00c542-b6a9-46f0-9372-8276f6b92ed1"
      },
      "source": [
        "df_clean['Lead Source'].value_counts(dropna=False)"
      ],
      "id": "9506a230",
      "execution_count": null,
      "outputs": [
        {
          "data": {
            "text/plain": [
              "Google               2868\n",
              "Direct Traffic       2543\n",
              "Olark Chat           1755\n",
              "Organic Search       1154\n",
              "Reference             534\n",
              "Welingak Website      142\n",
              "Referral Sites        125\n",
              "Facebook               55\n",
              "NaN                    36\n",
              "bing                    6\n",
              "google                  5\n",
              "Click2call              4\n",
              "Press_Release           2\n",
              "Social Media            2\n",
              "Live Chat               2\n",
              "youtubechannel          1\n",
              "testone                 1\n",
              "Pay per Click Ads       1\n",
              "welearnblog_Home        1\n",
              "WeLearn                 1\n",
              "blog                    1\n",
              "NC_EDM                  1\n",
              "Name: Lead Source, dtype: int64"
            ]
          },
          "execution_count": 55,
          "metadata": {},
          "output_type": "execute_result"
        }
      ]
    },
    {
      "cell_type": "code",
      "metadata": {
        "id": "954f4b3c"
      },
      "source": [
        "df_clean['Lead Source'] = df_clean['Lead Source'].replace(np.nan,'Others')"
      ],
      "id": "954f4b3c",
      "execution_count": null,
      "outputs": []
    },
    {
      "cell_type": "code",
      "metadata": {
        "id": "7f3ca680"
      },
      "source": [
        "df_clean['Lead Source'] = df_clean['Lead Source'].replace('google','Google')\n",
        "df_clean['Lead Source'] = df_clean['Lead Source'].replace('Facebook','Social Media')\n",
        "df_clean['Lead Source'] = df_clean['Lead Source'].replace(['bing','Click2call',\n",
        "                                             'Press_Release','youtubechannel',\n",
        "                                             'welearnblog_Home','WeLearn','blog',\n",
        "                                             'Pay per Click Ads','testone','NC_EDM'] ,'Others') "
      ],
      "id": "7f3ca680",
      "execution_count": null,
      "outputs": []
    },
    {
      "cell_type": "code",
      "metadata": {
        "id": "02ecbe7d",
        "outputId": "8ab975fe-26e7-4989-c138-59381447b2d1"
      },
      "source": [
        "df_clean['Lead Source'].value_counts(dropna=False)"
      ],
      "id": "02ecbe7d",
      "execution_count": null,
      "outputs": [
        {
          "data": {
            "text/plain": [
              "Google              2873\n",
              "Direct Traffic      2543\n",
              "Olark Chat          1755\n",
              "Organic Search      1154\n",
              "Reference            534\n",
              "Welingak Website     142\n",
              "Referral Sites       125\n",
              "Social Media          57\n",
              "Others                55\n",
              "Live Chat              2\n",
              "Name: Lead Source, dtype: int64"
            ]
          },
          "execution_count": 58,
          "metadata": {},
          "output_type": "execute_result"
        }
      ]
    },
    {
      "cell_type": "code",
      "metadata": {
        "id": "72856a52",
        "outputId": "a3fbff3e-5faf-4243-b8d0-4e416ee327ac"
      },
      "source": [
        "((df_clean.isnull().sum() / df_clean.shape[0])*100).sort_values(ascending=False)"
      ],
      "id": "72856a52",
      "execution_count": null,
      "outputs": [
        {
          "data": {
            "text/plain": [
              "Prospect ID                                      0.0\n",
              "Lead Number                                      0.0\n",
              "A free copy of Mastering The Interview           0.0\n",
              "I agree to pay the amount through cheque         0.0\n",
              "Lead Profile                                     0.0\n",
              "Get updates on DM Content                        0.0\n",
              "Update me on Supply Chain Content                0.0\n",
              "Tags                                             0.0\n",
              "Receive More Updates About Our Courses           0.0\n",
              "Through Recommendations                          0.0\n",
              "Digital Advertisement                            0.0\n",
              "Newspaper                                        0.0\n",
              "X Education Forums                               0.0\n",
              "Newspaper Article                                0.0\n",
              "Magazine                                         0.0\n",
              "Search                                           0.0\n",
              "What matters most to you in choosing a course    0.0\n",
              "What is your current occupation                  0.0\n",
              "How did you hear about X Education               0.0\n",
              "Specialization                                   0.0\n",
              "Last Activity                                    0.0\n",
              "Page Views Per Visit                             0.0\n",
              "Total Time Spent on Website                      0.0\n",
              "TotalVisits                                      0.0\n",
              "Converted                                        0.0\n",
              "Do Not Call                                      0.0\n",
              "Do Not Email                                     0.0\n",
              "Lead Source                                      0.0\n",
              "Lead Origin                                      0.0\n",
              "Last Notable Activity                            0.0\n",
              "dtype: float64"
            ]
          },
          "execution_count": 59,
          "metadata": {},
          "output_type": "execute_result"
        }
      ]
    },
    {
      "cell_type": "markdown",
      "metadata": {
        "id": "8832bba0"
      },
      "source": [
        "Com todos os dados ausentes tratados podemos em fim dar sequência ao projeto. Dada sua baixa relevancia para a analise vamos excluir as colunas 'Prospect ID' e 'Lead Number'."
      ],
      "id": "8832bba0"
    },
    {
      "cell_type": "code",
      "metadata": {
        "id": "267820f5"
      },
      "source": [
        "df_clean.drop(['Prospect ID', 'Lead Number'], axis=1, inplace=True)"
      ],
      "id": "267820f5",
      "execution_count": null,
      "outputs": []
    },
    {
      "cell_type": "code",
      "metadata": {
        "id": "ff2bde80",
        "outputId": "92af36da-fcbf-4760-be08-4490bcde4da7"
      },
      "source": [
        "df_clean.head()"
      ],
      "id": "ff2bde80",
      "execution_count": null,
      "outputs": [
        {
          "data": {
            "text/html": [
              "<div>\n",
              "<style scoped>\n",
              "    .dataframe tbody tr th:only-of-type {\n",
              "        vertical-align: middle;\n",
              "    }\n",
              "\n",
              "    .dataframe tbody tr th {\n",
              "        vertical-align: top;\n",
              "    }\n",
              "\n",
              "    .dataframe thead th {\n",
              "        text-align: right;\n",
              "    }\n",
              "</style>\n",
              "<table border=\"1\" class=\"dataframe\">\n",
              "  <thead>\n",
              "    <tr style=\"text-align: right;\">\n",
              "      <th></th>\n",
              "      <th>Lead Origin</th>\n",
              "      <th>Lead Source</th>\n",
              "      <th>Do Not Email</th>\n",
              "      <th>Do Not Call</th>\n",
              "      <th>Converted</th>\n",
              "      <th>TotalVisits</th>\n",
              "      <th>Total Time Spent on Website</th>\n",
              "      <th>Page Views Per Visit</th>\n",
              "      <th>Last Activity</th>\n",
              "      <th>Specialization</th>\n",
              "      <th>...</th>\n",
              "      <th>Digital Advertisement</th>\n",
              "      <th>Through Recommendations</th>\n",
              "      <th>Receive More Updates About Our Courses</th>\n",
              "      <th>Tags</th>\n",
              "      <th>Update me on Supply Chain Content</th>\n",
              "      <th>Get updates on DM Content</th>\n",
              "      <th>Lead Profile</th>\n",
              "      <th>I agree to pay the amount through cheque</th>\n",
              "      <th>A free copy of Mastering The Interview</th>\n",
              "      <th>Last Notable Activity</th>\n",
              "    </tr>\n",
              "  </thead>\n",
              "  <tbody>\n",
              "    <tr>\n",
              "      <th>0</th>\n",
              "      <td>API</td>\n",
              "      <td>Olark Chat</td>\n",
              "      <td>No</td>\n",
              "      <td>No</td>\n",
              "      <td>0</td>\n",
              "      <td>0.0</td>\n",
              "      <td>0</td>\n",
              "      <td>0.0</td>\n",
              "      <td>Page Visited on Website</td>\n",
              "      <td>Select</td>\n",
              "      <td>...</td>\n",
              "      <td>No</td>\n",
              "      <td>No</td>\n",
              "      <td>No</td>\n",
              "      <td>Interested in other courses</td>\n",
              "      <td>No</td>\n",
              "      <td>No</td>\n",
              "      <td>Select</td>\n",
              "      <td>No</td>\n",
              "      <td>No</td>\n",
              "      <td>Modified</td>\n",
              "    </tr>\n",
              "    <tr>\n",
              "      <th>1</th>\n",
              "      <td>API</td>\n",
              "      <td>Organic Search</td>\n",
              "      <td>No</td>\n",
              "      <td>No</td>\n",
              "      <td>0</td>\n",
              "      <td>5.0</td>\n",
              "      <td>674</td>\n",
              "      <td>2.5</td>\n",
              "      <td>Email Opened</td>\n",
              "      <td>Select</td>\n",
              "      <td>...</td>\n",
              "      <td>No</td>\n",
              "      <td>No</td>\n",
              "      <td>No</td>\n",
              "      <td>Ringing</td>\n",
              "      <td>No</td>\n",
              "      <td>No</td>\n",
              "      <td>Select</td>\n",
              "      <td>No</td>\n",
              "      <td>No</td>\n",
              "      <td>Email Opened</td>\n",
              "    </tr>\n",
              "    <tr>\n",
              "      <th>2</th>\n",
              "      <td>Landing Page Submission</td>\n",
              "      <td>Direct Traffic</td>\n",
              "      <td>No</td>\n",
              "      <td>No</td>\n",
              "      <td>1</td>\n",
              "      <td>2.0</td>\n",
              "      <td>1532</td>\n",
              "      <td>2.0</td>\n",
              "      <td>Email Opened</td>\n",
              "      <td>Business Administration</td>\n",
              "      <td>...</td>\n",
              "      <td>No</td>\n",
              "      <td>No</td>\n",
              "      <td>No</td>\n",
              "      <td>Will revert after reading the email</td>\n",
              "      <td>No</td>\n",
              "      <td>No</td>\n",
              "      <td>Potential Lead</td>\n",
              "      <td>No</td>\n",
              "      <td>Yes</td>\n",
              "      <td>Email Opened</td>\n",
              "    </tr>\n",
              "    <tr>\n",
              "      <th>3</th>\n",
              "      <td>Landing Page Submission</td>\n",
              "      <td>Direct Traffic</td>\n",
              "      <td>No</td>\n",
              "      <td>No</td>\n",
              "      <td>0</td>\n",
              "      <td>1.0</td>\n",
              "      <td>305</td>\n",
              "      <td>1.0</td>\n",
              "      <td>Others</td>\n",
              "      <td>Media and Advertising</td>\n",
              "      <td>...</td>\n",
              "      <td>No</td>\n",
              "      <td>No</td>\n",
              "      <td>No</td>\n",
              "      <td>Ringing</td>\n",
              "      <td>No</td>\n",
              "      <td>No</td>\n",
              "      <td>Select</td>\n",
              "      <td>No</td>\n",
              "      <td>No</td>\n",
              "      <td>Modified</td>\n",
              "    </tr>\n",
              "    <tr>\n",
              "      <th>4</th>\n",
              "      <td>Landing Page Submission</td>\n",
              "      <td>Google</td>\n",
              "      <td>No</td>\n",
              "      <td>No</td>\n",
              "      <td>1</td>\n",
              "      <td>2.0</td>\n",
              "      <td>1428</td>\n",
              "      <td>1.0</td>\n",
              "      <td>Converted to Lead</td>\n",
              "      <td>Select</td>\n",
              "      <td>...</td>\n",
              "      <td>No</td>\n",
              "      <td>No</td>\n",
              "      <td>No</td>\n",
              "      <td>Will revert after reading the email</td>\n",
              "      <td>No</td>\n",
              "      <td>No</td>\n",
              "      <td>Select</td>\n",
              "      <td>No</td>\n",
              "      <td>No</td>\n",
              "      <td>Modified</td>\n",
              "    </tr>\n",
              "  </tbody>\n",
              "</table>\n",
              "<p>5 rows × 28 columns</p>\n",
              "</div>"
            ],
            "text/plain": [
              "               Lead Origin     Lead Source Do Not Email Do Not Call  \\\n",
              "0                      API      Olark Chat           No          No   \n",
              "1                      API  Organic Search           No          No   \n",
              "2  Landing Page Submission  Direct Traffic           No          No   \n",
              "3  Landing Page Submission  Direct Traffic           No          No   \n",
              "4  Landing Page Submission          Google           No          No   \n",
              "\n",
              "   Converted  TotalVisits  Total Time Spent on Website  Page Views Per Visit  \\\n",
              "0          0          0.0                            0                   0.0   \n",
              "1          0          5.0                          674                   2.5   \n",
              "2          1          2.0                         1532                   2.0   \n",
              "3          0          1.0                          305                   1.0   \n",
              "4          1          2.0                         1428                   1.0   \n",
              "\n",
              "             Last Activity           Specialization  ...  \\\n",
              "0  Page Visited on Website                   Select  ...   \n",
              "1             Email Opened                   Select  ...   \n",
              "2             Email Opened  Business Administration  ...   \n",
              "3                   Others    Media and Advertising  ...   \n",
              "4        Converted to Lead                   Select  ...   \n",
              "\n",
              "  Digital Advertisement Through Recommendations  \\\n",
              "0                    No                      No   \n",
              "1                    No                      No   \n",
              "2                    No                      No   \n",
              "3                    No                      No   \n",
              "4                    No                      No   \n",
              "\n",
              "  Receive More Updates About Our Courses                                 Tags  \\\n",
              "0                                     No          Interested in other courses   \n",
              "1                                     No                              Ringing   \n",
              "2                                     No  Will revert after reading the email   \n",
              "3                                     No                              Ringing   \n",
              "4                                     No  Will revert after reading the email   \n",
              "\n",
              "  Update me on Supply Chain Content Get updates on DM Content    Lead Profile  \\\n",
              "0                                No                        No          Select   \n",
              "1                                No                        No          Select   \n",
              "2                                No                        No  Potential Lead   \n",
              "3                                No                        No          Select   \n",
              "4                                No                        No          Select   \n",
              "\n",
              "  I agree to pay the amount through cheque  \\\n",
              "0                                       No   \n",
              "1                                       No   \n",
              "2                                       No   \n",
              "3                                       No   \n",
              "4                                       No   \n",
              "\n",
              "  A free copy of Mastering The Interview Last Notable Activity  \n",
              "0                                     No              Modified  \n",
              "1                                     No          Email Opened  \n",
              "2                                    Yes          Email Opened  \n",
              "3                                     No              Modified  \n",
              "4                                     No              Modified  \n",
              "\n",
              "[5 rows x 28 columns]"
            ]
          },
          "execution_count": 61,
          "metadata": {},
          "output_type": "execute_result"
        }
      ]
    },
    {
      "cell_type": "code",
      "metadata": {
        "id": "bd5f801f",
        "outputId": "dd5ba64a-59df-4b7e-e468-e6166966c2f8"
      },
      "source": [
        "df_clean.nunique().sort_values(ascending=False)"
      ],
      "id": "bd5f801f",
      "execution_count": null,
      "outputs": [
        {
          "data": {
            "text/plain": [
              "Total Time Spent on Website                      1731\n",
              "Page Views Per Visit                              115\n",
              "TotalVisits                                        42\n",
              "Last Notable Activity                              16\n",
              "Specialization                                     12\n",
              "Lead Source                                        10\n",
              "How did you hear about X Education                 10\n",
              "Last Activity                                       9\n",
              "Tags                                                8\n",
              "Lead Profile                                        7\n",
              "What is your current occupation                     6\n",
              "Lead Origin                                         5\n",
              "What matters most to you in choosing a course       2\n",
              "Search                                              2\n",
              "Converted                                           2\n",
              "Newspaper Article                                   2\n",
              "X Education Forums                                  2\n",
              "Newspaper                                           2\n",
              "Digital Advertisement                               2\n",
              "Through Recommendations                             2\n",
              "Do Not Call                                         2\n",
              "Do Not Email                                        2\n",
              "A free copy of Mastering The Interview              2\n",
              "Receive More Updates About Our Courses              1\n",
              "Update me on Supply Chain Content                   1\n",
              "Get updates on DM Content                           1\n",
              "I agree to pay the amount through cheque            1\n",
              "Magazine                                            1\n",
              "dtype: int64"
            ]
          },
          "execution_count": 62,
          "metadata": {},
          "output_type": "execute_result"
        }
      ]
    },
    {
      "cell_type": "markdown",
      "metadata": {
        "id": "a97a2bd3"
      },
      "source": [
        "## Avaliando colunas com apenas um valor"
      ],
      "id": "a97a2bd3"
    },
    {
      "cell_type": "code",
      "metadata": {
        "id": "902341da",
        "outputId": "62ce5312-f0cf-4c4a-f09f-0543b3245c29"
      },
      "source": [
        "df_clean['Receive More Updates About Our Courses'].value_counts(dropna=False)"
      ],
      "id": "902341da",
      "execution_count": null,
      "outputs": [
        {
          "data": {
            "text/plain": [
              "No    9240\n",
              "Name: Receive More Updates About Our Courses, dtype: int64"
            ]
          },
          "execution_count": 63,
          "metadata": {},
          "output_type": "execute_result"
        }
      ]
    },
    {
      "cell_type": "code",
      "metadata": {
        "id": "4533d851",
        "outputId": "970773fa-04a6-4f60-c872-1c05718abcd3"
      },
      "source": [
        "df_clean['Update me on Supply Chain Content'].value_counts(dropna=False)"
      ],
      "id": "4533d851",
      "execution_count": null,
      "outputs": [
        {
          "data": {
            "text/plain": [
              "No    9240\n",
              "Name: Update me on Supply Chain Content, dtype: int64"
            ]
          },
          "execution_count": 64,
          "metadata": {},
          "output_type": "execute_result"
        }
      ]
    },
    {
      "cell_type": "code",
      "metadata": {
        "id": "d7fecf47",
        "outputId": "db964e51-b90d-4eb7-bb46-c671133bd3d5"
      },
      "source": [
        "df_clean['Get updates on DM Content'].value_counts(dropna=False)"
      ],
      "id": "d7fecf47",
      "execution_count": null,
      "outputs": [
        {
          "data": {
            "text/plain": [
              "No    9240\n",
              "Name: Get updates on DM Content, dtype: int64"
            ]
          },
          "execution_count": 65,
          "metadata": {},
          "output_type": "execute_result"
        }
      ]
    },
    {
      "cell_type": "code",
      "metadata": {
        "id": "5a8ca4f3",
        "outputId": "6d1bc568-a9c4-47fd-d0f9-5f63cfb22685"
      },
      "source": [
        "df_clean['I agree to pay the amount through cheque'].value_counts(dropna=False)"
      ],
      "id": "5a8ca4f3",
      "execution_count": null,
      "outputs": [
        {
          "data": {
            "text/plain": [
              "No    9240\n",
              "Name: I agree to pay the amount through cheque, dtype: int64"
            ]
          },
          "execution_count": 66,
          "metadata": {},
          "output_type": "execute_result"
        }
      ]
    },
    {
      "cell_type": "code",
      "metadata": {
        "id": "eeb3a310",
        "outputId": "0bc0bbae-fd4b-49fa-a6b5-24ad1e111d77"
      },
      "source": [
        "df_clean['Magazine'].value_counts(dropna=False)"
      ],
      "id": "eeb3a310",
      "execution_count": null,
      "outputs": [
        {
          "data": {
            "text/plain": [
              "No    9240\n",
              "Name: Magazine, dtype: int64"
            ]
          },
          "execution_count": 67,
          "metadata": {},
          "output_type": "execute_result"
        }
      ]
    },
    {
      "cell_type": "markdown",
      "metadata": {
        "id": "95635fe1"
      },
      "source": [
        "Nas colunas *Receive More Updates About Our Courses*, *Update me on Supply Chain Content*, *Get updates on DM Content*, *I agree to pay the amount through cheque*, *Magazine* todas as entradas são **no**, portanto não influenciaram na decisão, sabendo disso vamos exclui-los também."
      ],
      "id": "95635fe1"
    },
    {
      "cell_type": "code",
      "metadata": {
        "id": "27ad9d9b"
      },
      "source": [
        "df_clean.drop(['Receive More Updates About Our Courses',\n",
        "               'Update me on Supply Chain Content',\n",
        "              'Get updates on DM Content',\n",
        "              'I agree to pay the amount through cheque',\n",
        "              'Magazine'], axis=1, inplace=True)"
      ],
      "id": "27ad9d9b",
      "execution_count": null,
      "outputs": []
    },
    {
      "cell_type": "code",
      "metadata": {
        "id": "0a6d04a2",
        "outputId": "872d9d0c-7494-4ab2-801e-5f404ba2dc0d"
      },
      "source": [
        "df_clean.nunique().sort_values(ascending=False)"
      ],
      "id": "0a6d04a2",
      "execution_count": null,
      "outputs": [
        {
          "data": {
            "text/plain": [
              "Total Time Spent on Website                      1731\n",
              "Page Views Per Visit                              115\n",
              "TotalVisits                                        42\n",
              "Last Notable Activity                              16\n",
              "Specialization                                     12\n",
              "How did you hear about X Education                 10\n",
              "Lead Source                                        10\n",
              "Last Activity                                       9\n",
              "Tags                                                8\n",
              "Lead Profile                                        7\n",
              "What is your current occupation                     6\n",
              "Lead Origin                                         5\n",
              "Converted                                           2\n",
              "What matters most to you in choosing a course       2\n",
              "Search                                              2\n",
              "Newspaper Article                                   2\n",
              "X Education Forums                                  2\n",
              "Newspaper                                           2\n",
              "Digital Advertisement                               2\n",
              "Through Recommendations                             2\n",
              "Do Not Call                                         2\n",
              "Do Not Email                                        2\n",
              "A free copy of Mastering The Interview              2\n",
              "dtype: int64"
            ]
          },
          "execution_count": 69,
          "metadata": {},
          "output_type": "execute_result"
        }
      ]
    },
    {
      "cell_type": "markdown",
      "metadata": {
        "id": "-RFeb1geQwoZ"
      },
      "source": [
        "Neste ponto podemos dizer que nosso dataset foi devidamente tratado, procurando manter o máximo de dados possível, para que possamos reduzir ao máximo enviesar nosso projeto."
      ],
      "id": "-RFeb1geQwoZ"
    },
    {
      "cell_type": "markdown",
      "metadata": {
        "id": "7MUk48ThRivn"
      },
      "source": [
        "### Transformando dados categoricos"
      ],
      "id": "7MUk48ThRivn"
    },
    {
      "cell_type": "markdown",
      "metadata": {
        "id": "DBr1nm4PSrk1"
      },
      "source": [
        "Seguindo nosso projeto o proximo passo para construir nosso modelo de machine learning é transformar nossos dados categóricos em numéricos. "
      ],
      "id": "DBr1nm4PSrk1"
    },
    {
      "cell_type": "code",
      "metadata": {
        "id": "b4daa149"
      },
      "source": [
        "obj_list = df_clean.select_dtypes(include=['object'])"
      ],
      "id": "b4daa149",
      "execution_count": null,
      "outputs": []
    },
    {
      "cell_type": "code",
      "metadata": {
        "id": "04b13478",
        "outputId": "8ff776de-118a-4d8e-931b-b1386f9cfa68"
      },
      "source": [
        "obj_list"
      ],
      "id": "04b13478",
      "execution_count": null,
      "outputs": [
        {
          "data": {
            "text/html": [
              "<div>\n",
              "<style scoped>\n",
              "    .dataframe tbody tr th:only-of-type {\n",
              "        vertical-align: middle;\n",
              "    }\n",
              "\n",
              "    .dataframe tbody tr th {\n",
              "        vertical-align: top;\n",
              "    }\n",
              "\n",
              "    .dataframe thead th {\n",
              "        text-align: right;\n",
              "    }\n",
              "</style>\n",
              "<table border=\"1\" class=\"dataframe\">\n",
              "  <thead>\n",
              "    <tr style=\"text-align: right;\">\n",
              "      <th></th>\n",
              "      <th>Lead Origin</th>\n",
              "      <th>Lead Source</th>\n",
              "      <th>Do Not Email</th>\n",
              "      <th>Do Not Call</th>\n",
              "      <th>Last Activity</th>\n",
              "      <th>Specialization</th>\n",
              "      <th>How did you hear about X Education</th>\n",
              "      <th>What is your current occupation</th>\n",
              "      <th>What matters most to you in choosing a course</th>\n",
              "      <th>Search</th>\n",
              "      <th>Newspaper Article</th>\n",
              "      <th>X Education Forums</th>\n",
              "      <th>Newspaper</th>\n",
              "      <th>Digital Advertisement</th>\n",
              "      <th>Through Recommendations</th>\n",
              "      <th>Tags</th>\n",
              "      <th>Lead Profile</th>\n",
              "      <th>A free copy of Mastering The Interview</th>\n",
              "      <th>Last Notable Activity</th>\n",
              "    </tr>\n",
              "  </thead>\n",
              "  <tbody>\n",
              "    <tr>\n",
              "      <th>0</th>\n",
              "      <td>API</td>\n",
              "      <td>Olark Chat</td>\n",
              "      <td>No</td>\n",
              "      <td>No</td>\n",
              "      <td>Page Visited on Website</td>\n",
              "      <td>Select</td>\n",
              "      <td>Select</td>\n",
              "      <td>Unemployed</td>\n",
              "      <td>Better Career Prospects</td>\n",
              "      <td>No</td>\n",
              "      <td>No</td>\n",
              "      <td>No</td>\n",
              "      <td>No</td>\n",
              "      <td>No</td>\n",
              "      <td>No</td>\n",
              "      <td>Interested in other courses</td>\n",
              "      <td>Select</td>\n",
              "      <td>No</td>\n",
              "      <td>Modified</td>\n",
              "    </tr>\n",
              "    <tr>\n",
              "      <th>1</th>\n",
              "      <td>API</td>\n",
              "      <td>Organic Search</td>\n",
              "      <td>No</td>\n",
              "      <td>No</td>\n",
              "      <td>Email Opened</td>\n",
              "      <td>Select</td>\n",
              "      <td>Select</td>\n",
              "      <td>Unemployed</td>\n",
              "      <td>Better Career Prospects</td>\n",
              "      <td>No</td>\n",
              "      <td>No</td>\n",
              "      <td>No</td>\n",
              "      <td>No</td>\n",
              "      <td>No</td>\n",
              "      <td>No</td>\n",
              "      <td>Ringing</td>\n",
              "      <td>Select</td>\n",
              "      <td>No</td>\n",
              "      <td>Email Opened</td>\n",
              "    </tr>\n",
              "    <tr>\n",
              "      <th>2</th>\n",
              "      <td>Landing Page Submission</td>\n",
              "      <td>Direct Traffic</td>\n",
              "      <td>No</td>\n",
              "      <td>No</td>\n",
              "      <td>Email Opened</td>\n",
              "      <td>Business Administration</td>\n",
              "      <td>Select</td>\n",
              "      <td>Student</td>\n",
              "      <td>Better Career Prospects</td>\n",
              "      <td>No</td>\n",
              "      <td>No</td>\n",
              "      <td>No</td>\n",
              "      <td>No</td>\n",
              "      <td>No</td>\n",
              "      <td>No</td>\n",
              "      <td>Will revert after reading the email</td>\n",
              "      <td>Potential Lead</td>\n",
              "      <td>Yes</td>\n",
              "      <td>Email Opened</td>\n",
              "    </tr>\n",
              "    <tr>\n",
              "      <th>3</th>\n",
              "      <td>Landing Page Submission</td>\n",
              "      <td>Direct Traffic</td>\n",
              "      <td>No</td>\n",
              "      <td>No</td>\n",
              "      <td>Others</td>\n",
              "      <td>Media and Advertising</td>\n",
              "      <td>Word Of Mouth</td>\n",
              "      <td>Unemployed</td>\n",
              "      <td>Better Career Prospects</td>\n",
              "      <td>No</td>\n",
              "      <td>No</td>\n",
              "      <td>No</td>\n",
              "      <td>No</td>\n",
              "      <td>No</td>\n",
              "      <td>No</td>\n",
              "      <td>Ringing</td>\n",
              "      <td>Select</td>\n",
              "      <td>No</td>\n",
              "      <td>Modified</td>\n",
              "    </tr>\n",
              "    <tr>\n",
              "      <th>4</th>\n",
              "      <td>Landing Page Submission</td>\n",
              "      <td>Google</td>\n",
              "      <td>No</td>\n",
              "      <td>No</td>\n",
              "      <td>Converted to Lead</td>\n",
              "      <td>Select</td>\n",
              "      <td>Other</td>\n",
              "      <td>Unemployed</td>\n",
              "      <td>Better Career Prospects</td>\n",
              "      <td>No</td>\n",
              "      <td>No</td>\n",
              "      <td>No</td>\n",
              "      <td>No</td>\n",
              "      <td>No</td>\n",
              "      <td>No</td>\n",
              "      <td>Will revert after reading the email</td>\n",
              "      <td>Select</td>\n",
              "      <td>No</td>\n",
              "      <td>Modified</td>\n",
              "    </tr>\n",
              "    <tr>\n",
              "      <th>...</th>\n",
              "      <td>...</td>\n",
              "      <td>...</td>\n",
              "      <td>...</td>\n",
              "      <td>...</td>\n",
              "      <td>...</td>\n",
              "      <td>...</td>\n",
              "      <td>...</td>\n",
              "      <td>...</td>\n",
              "      <td>...</td>\n",
              "      <td>...</td>\n",
              "      <td>...</td>\n",
              "      <td>...</td>\n",
              "      <td>...</td>\n",
              "      <td>...</td>\n",
              "      <td>...</td>\n",
              "      <td>...</td>\n",
              "      <td>...</td>\n",
              "      <td>...</td>\n",
              "      <td>...</td>\n",
              "    </tr>\n",
              "    <tr>\n",
              "      <th>9235</th>\n",
              "      <td>Landing Page Submission</td>\n",
              "      <td>Direct Traffic</td>\n",
              "      <td>Yes</td>\n",
              "      <td>No</td>\n",
              "      <td>Others</td>\n",
              "      <td>Management</td>\n",
              "      <td>Select</td>\n",
              "      <td>Unemployed</td>\n",
              "      <td>Better Career Prospects</td>\n",
              "      <td>No</td>\n",
              "      <td>No</td>\n",
              "      <td>No</td>\n",
              "      <td>No</td>\n",
              "      <td>No</td>\n",
              "      <td>No</td>\n",
              "      <td>Will revert after reading the email</td>\n",
              "      <td>Potential Lead</td>\n",
              "      <td>No</td>\n",
              "      <td>Email Marked Spam</td>\n",
              "    </tr>\n",
              "    <tr>\n",
              "      <th>9236</th>\n",
              "      <td>Landing Page Submission</td>\n",
              "      <td>Direct Traffic</td>\n",
              "      <td>No</td>\n",
              "      <td>No</td>\n",
              "      <td>SMS Sent</td>\n",
              "      <td>Media and Advertising</td>\n",
              "      <td>Select</td>\n",
              "      <td>Unemployed</td>\n",
              "      <td>Better Career Prospects</td>\n",
              "      <td>No</td>\n",
              "      <td>No</td>\n",
              "      <td>No</td>\n",
              "      <td>No</td>\n",
              "      <td>No</td>\n",
              "      <td>No</td>\n",
              "      <td>Other_Tags</td>\n",
              "      <td>Potential Lead</td>\n",
              "      <td>Yes</td>\n",
              "      <td>SMS Sent</td>\n",
              "    </tr>\n",
              "    <tr>\n",
              "      <th>9237</th>\n",
              "      <td>Landing Page Submission</td>\n",
              "      <td>Direct Traffic</td>\n",
              "      <td>Yes</td>\n",
              "      <td>No</td>\n",
              "      <td>SMS Sent</td>\n",
              "      <td>Business Administration</td>\n",
              "      <td>Select</td>\n",
              "      <td>Unemployed</td>\n",
              "      <td>Better Career Prospects</td>\n",
              "      <td>No</td>\n",
              "      <td>No</td>\n",
              "      <td>No</td>\n",
              "      <td>No</td>\n",
              "      <td>No</td>\n",
              "      <td>No</td>\n",
              "      <td>Other_Tags</td>\n",
              "      <td>Potential Lead</td>\n",
              "      <td>Yes</td>\n",
              "      <td>SMS Sent</td>\n",
              "    </tr>\n",
              "    <tr>\n",
              "      <th>9238</th>\n",
              "      <td>Landing Page Submission</td>\n",
              "      <td>Google</td>\n",
              "      <td>No</td>\n",
              "      <td>No</td>\n",
              "      <td>SMS Sent</td>\n",
              "      <td>Management</td>\n",
              "      <td>Online Search</td>\n",
              "      <td>Other</td>\n",
              "      <td>Other</td>\n",
              "      <td>No</td>\n",
              "      <td>No</td>\n",
              "      <td>No</td>\n",
              "      <td>No</td>\n",
              "      <td>No</td>\n",
              "      <td>No</td>\n",
              "      <td>Not specified</td>\n",
              "      <td>Not specified</td>\n",
              "      <td>No</td>\n",
              "      <td>SMS Sent</td>\n",
              "    </tr>\n",
              "    <tr>\n",
              "      <th>9239</th>\n",
              "      <td>Landing Page Submission</td>\n",
              "      <td>Direct Traffic</td>\n",
              "      <td>No</td>\n",
              "      <td>No</td>\n",
              "      <td>SMS Sent</td>\n",
              "      <td>Management</td>\n",
              "      <td>Select</td>\n",
              "      <td>Unemployed</td>\n",
              "      <td>Better Career Prospects</td>\n",
              "      <td>No</td>\n",
              "      <td>No</td>\n",
              "      <td>No</td>\n",
              "      <td>No</td>\n",
              "      <td>No</td>\n",
              "      <td>No</td>\n",
              "      <td>Will revert after reading the email</td>\n",
              "      <td>Potential Lead</td>\n",
              "      <td>Yes</td>\n",
              "      <td>Modified</td>\n",
              "    </tr>\n",
              "  </tbody>\n",
              "</table>\n",
              "<p>9240 rows × 19 columns</p>\n",
              "</div>"
            ],
            "text/plain": [
              "                  Lead Origin     Lead Source Do Not Email Do Not Call  \\\n",
              "0                         API      Olark Chat           No          No   \n",
              "1                         API  Organic Search           No          No   \n",
              "2     Landing Page Submission  Direct Traffic           No          No   \n",
              "3     Landing Page Submission  Direct Traffic           No          No   \n",
              "4     Landing Page Submission          Google           No          No   \n",
              "...                       ...             ...          ...         ...   \n",
              "9235  Landing Page Submission  Direct Traffic          Yes          No   \n",
              "9236  Landing Page Submission  Direct Traffic           No          No   \n",
              "9237  Landing Page Submission  Direct Traffic          Yes          No   \n",
              "9238  Landing Page Submission          Google           No          No   \n",
              "9239  Landing Page Submission  Direct Traffic           No          No   \n",
              "\n",
              "                Last Activity           Specialization  \\\n",
              "0     Page Visited on Website                   Select   \n",
              "1                Email Opened                   Select   \n",
              "2                Email Opened  Business Administration   \n",
              "3                      Others    Media and Advertising   \n",
              "4           Converted to Lead                   Select   \n",
              "...                       ...                      ...   \n",
              "9235                   Others               Management   \n",
              "9236                 SMS Sent    Media and Advertising   \n",
              "9237                 SMS Sent  Business Administration   \n",
              "9238                 SMS Sent               Management   \n",
              "9239                 SMS Sent               Management   \n",
              "\n",
              "     How did you hear about X Education What is your current occupation  \\\n",
              "0                                Select                      Unemployed   \n",
              "1                                Select                      Unemployed   \n",
              "2                                Select                         Student   \n",
              "3                         Word Of Mouth                      Unemployed   \n",
              "4                                 Other                      Unemployed   \n",
              "...                                 ...                             ...   \n",
              "9235                             Select                      Unemployed   \n",
              "9236                             Select                      Unemployed   \n",
              "9237                             Select                      Unemployed   \n",
              "9238                      Online Search                           Other   \n",
              "9239                             Select                      Unemployed   \n",
              "\n",
              "     What matters most to you in choosing a course Search Newspaper Article  \\\n",
              "0                          Better Career Prospects     No                No   \n",
              "1                          Better Career Prospects     No                No   \n",
              "2                          Better Career Prospects     No                No   \n",
              "3                          Better Career Prospects     No                No   \n",
              "4                          Better Career Prospects     No                No   \n",
              "...                                            ...    ...               ...   \n",
              "9235                       Better Career Prospects     No                No   \n",
              "9236                       Better Career Prospects     No                No   \n",
              "9237                       Better Career Prospects     No                No   \n",
              "9238                                         Other     No                No   \n",
              "9239                       Better Career Prospects     No                No   \n",
              "\n",
              "     X Education Forums Newspaper Digital Advertisement  \\\n",
              "0                    No        No                    No   \n",
              "1                    No        No                    No   \n",
              "2                    No        No                    No   \n",
              "3                    No        No                    No   \n",
              "4                    No        No                    No   \n",
              "...                 ...       ...                   ...   \n",
              "9235                 No        No                    No   \n",
              "9236                 No        No                    No   \n",
              "9237                 No        No                    No   \n",
              "9238                 No        No                    No   \n",
              "9239                 No        No                    No   \n",
              "\n",
              "     Through Recommendations                                 Tags  \\\n",
              "0                         No          Interested in other courses   \n",
              "1                         No                              Ringing   \n",
              "2                         No  Will revert after reading the email   \n",
              "3                         No                              Ringing   \n",
              "4                         No  Will revert after reading the email   \n",
              "...                      ...                                  ...   \n",
              "9235                      No  Will revert after reading the email   \n",
              "9236                      No                           Other_Tags   \n",
              "9237                      No                           Other_Tags   \n",
              "9238                      No                        Not specified   \n",
              "9239                      No  Will revert after reading the email   \n",
              "\n",
              "        Lead Profile A free copy of Mastering The Interview  \\\n",
              "0             Select                                     No   \n",
              "1             Select                                     No   \n",
              "2     Potential Lead                                    Yes   \n",
              "3             Select                                     No   \n",
              "4             Select                                     No   \n",
              "...              ...                                    ...   \n",
              "9235  Potential Lead                                     No   \n",
              "9236  Potential Lead                                    Yes   \n",
              "9237  Potential Lead                                    Yes   \n",
              "9238   Not specified                                     No   \n",
              "9239  Potential Lead                                    Yes   \n",
              "\n",
              "     Last Notable Activity  \n",
              "0                 Modified  \n",
              "1             Email Opened  \n",
              "2             Email Opened  \n",
              "3                 Modified  \n",
              "4                 Modified  \n",
              "...                    ...  \n",
              "9235     Email Marked Spam  \n",
              "9236              SMS Sent  \n",
              "9237              SMS Sent  \n",
              "9238              SMS Sent  \n",
              "9239              Modified  \n",
              "\n",
              "[9240 rows x 19 columns]"
            ]
          },
          "execution_count": 72,
          "metadata": {},
          "output_type": "execute_result"
        }
      ]
    },
    {
      "cell_type": "markdown",
      "metadata": {
        "id": "GDLrUL-CQCw4"
      },
      "source": [
        "Vamos usar Ordinal Encoder para fazer essa transfomação."
      ],
      "id": "GDLrUL-CQCw4"
    },
    {
      "cell_type": "code",
      "metadata": {
        "id": "59af580d"
      },
      "source": [
        "from category_encoders.ordinal import OrdinalEncoder\n",
        "enc = OrdinalEncoder(obj_list)\n",
        "df_ord = enc.fit_transform(df_clean)"
      ],
      "id": "59af580d",
      "execution_count": null,
      "outputs": []
    },
    {
      "cell_type": "code",
      "metadata": {
        "id": "c682e055",
        "outputId": "b53950c9-d322-4233-a5fd-5317ffeab33c"
      },
      "source": [
        "df_ord.head()"
      ],
      "id": "c682e055",
      "execution_count": null,
      "outputs": [
        {
          "data": {
            "text/html": [
              "<div>\n",
              "<style scoped>\n",
              "    .dataframe tbody tr th:only-of-type {\n",
              "        vertical-align: middle;\n",
              "    }\n",
              "\n",
              "    .dataframe tbody tr th {\n",
              "        vertical-align: top;\n",
              "    }\n",
              "\n",
              "    .dataframe thead th {\n",
              "        text-align: right;\n",
              "    }\n",
              "</style>\n",
              "<table border=\"1\" class=\"dataframe\">\n",
              "  <thead>\n",
              "    <tr style=\"text-align: right;\">\n",
              "      <th></th>\n",
              "      <th>Lead Origin</th>\n",
              "      <th>Lead Source</th>\n",
              "      <th>Do Not Email</th>\n",
              "      <th>Do Not Call</th>\n",
              "      <th>Converted</th>\n",
              "      <th>TotalVisits</th>\n",
              "      <th>Total Time Spent on Website</th>\n",
              "      <th>Page Views Per Visit</th>\n",
              "      <th>Last Activity</th>\n",
              "      <th>Specialization</th>\n",
              "      <th>...</th>\n",
              "      <th>Search</th>\n",
              "      <th>Newspaper Article</th>\n",
              "      <th>X Education Forums</th>\n",
              "      <th>Newspaper</th>\n",
              "      <th>Digital Advertisement</th>\n",
              "      <th>Through Recommendations</th>\n",
              "      <th>Tags</th>\n",
              "      <th>Lead Profile</th>\n",
              "      <th>A free copy of Mastering The Interview</th>\n",
              "      <th>Last Notable Activity</th>\n",
              "    </tr>\n",
              "  </thead>\n",
              "  <tbody>\n",
              "    <tr>\n",
              "      <th>0</th>\n",
              "      <td>1</td>\n",
              "      <td>1</td>\n",
              "      <td>1</td>\n",
              "      <td>1</td>\n",
              "      <td>0</td>\n",
              "      <td>0.0</td>\n",
              "      <td>0</td>\n",
              "      <td>0.0</td>\n",
              "      <td>1</td>\n",
              "      <td>1</td>\n",
              "      <td>...</td>\n",
              "      <td>1</td>\n",
              "      <td>1</td>\n",
              "      <td>1</td>\n",
              "      <td>1</td>\n",
              "      <td>1</td>\n",
              "      <td>1</td>\n",
              "      <td>1</td>\n",
              "      <td>1</td>\n",
              "      <td>1</td>\n",
              "      <td>1</td>\n",
              "    </tr>\n",
              "    <tr>\n",
              "      <th>1</th>\n",
              "      <td>1</td>\n",
              "      <td>2</td>\n",
              "      <td>1</td>\n",
              "      <td>1</td>\n",
              "      <td>0</td>\n",
              "      <td>5.0</td>\n",
              "      <td>674</td>\n",
              "      <td>2.5</td>\n",
              "      <td>2</td>\n",
              "      <td>1</td>\n",
              "      <td>...</td>\n",
              "      <td>1</td>\n",
              "      <td>1</td>\n",
              "      <td>1</td>\n",
              "      <td>1</td>\n",
              "      <td>1</td>\n",
              "      <td>1</td>\n",
              "      <td>2</td>\n",
              "      <td>1</td>\n",
              "      <td>1</td>\n",
              "      <td>2</td>\n",
              "    </tr>\n",
              "    <tr>\n",
              "      <th>2</th>\n",
              "      <td>2</td>\n",
              "      <td>3</td>\n",
              "      <td>1</td>\n",
              "      <td>1</td>\n",
              "      <td>1</td>\n",
              "      <td>2.0</td>\n",
              "      <td>1532</td>\n",
              "      <td>2.0</td>\n",
              "      <td>2</td>\n",
              "      <td>2</td>\n",
              "      <td>...</td>\n",
              "      <td>1</td>\n",
              "      <td>1</td>\n",
              "      <td>1</td>\n",
              "      <td>1</td>\n",
              "      <td>1</td>\n",
              "      <td>1</td>\n",
              "      <td>3</td>\n",
              "      <td>2</td>\n",
              "      <td>2</td>\n",
              "      <td>2</td>\n",
              "    </tr>\n",
              "    <tr>\n",
              "      <th>3</th>\n",
              "      <td>2</td>\n",
              "      <td>3</td>\n",
              "      <td>1</td>\n",
              "      <td>1</td>\n",
              "      <td>0</td>\n",
              "      <td>1.0</td>\n",
              "      <td>305</td>\n",
              "      <td>1.0</td>\n",
              "      <td>3</td>\n",
              "      <td>3</td>\n",
              "      <td>...</td>\n",
              "      <td>1</td>\n",
              "      <td>1</td>\n",
              "      <td>1</td>\n",
              "      <td>1</td>\n",
              "      <td>1</td>\n",
              "      <td>1</td>\n",
              "      <td>2</td>\n",
              "      <td>1</td>\n",
              "      <td>1</td>\n",
              "      <td>1</td>\n",
              "    </tr>\n",
              "    <tr>\n",
              "      <th>4</th>\n",
              "      <td>2</td>\n",
              "      <td>4</td>\n",
              "      <td>1</td>\n",
              "      <td>1</td>\n",
              "      <td>1</td>\n",
              "      <td>2.0</td>\n",
              "      <td>1428</td>\n",
              "      <td>1.0</td>\n",
              "      <td>4</td>\n",
              "      <td>1</td>\n",
              "      <td>...</td>\n",
              "      <td>1</td>\n",
              "      <td>1</td>\n",
              "      <td>1</td>\n",
              "      <td>1</td>\n",
              "      <td>1</td>\n",
              "      <td>1</td>\n",
              "      <td>3</td>\n",
              "      <td>1</td>\n",
              "      <td>1</td>\n",
              "      <td>1</td>\n",
              "    </tr>\n",
              "  </tbody>\n",
              "</table>\n",
              "<p>5 rows × 23 columns</p>\n",
              "</div>"
            ],
            "text/plain": [
              "   Lead Origin  Lead Source  Do Not Email  Do Not Call  Converted  \\\n",
              "0            1            1             1            1          0   \n",
              "1            1            2             1            1          0   \n",
              "2            2            3             1            1          1   \n",
              "3            2            3             1            1          0   \n",
              "4            2            4             1            1          1   \n",
              "\n",
              "   TotalVisits  Total Time Spent on Website  Page Views Per Visit  \\\n",
              "0          0.0                            0                   0.0   \n",
              "1          5.0                          674                   2.5   \n",
              "2          2.0                         1532                   2.0   \n",
              "3          1.0                          305                   1.0   \n",
              "4          2.0                         1428                   1.0   \n",
              "\n",
              "   Last Activity  Specialization  ...  Search  Newspaper Article  \\\n",
              "0              1               1  ...       1                  1   \n",
              "1              2               1  ...       1                  1   \n",
              "2              2               2  ...       1                  1   \n",
              "3              3               3  ...       1                  1   \n",
              "4              4               1  ...       1                  1   \n",
              "\n",
              "   X Education Forums  Newspaper  Digital Advertisement  \\\n",
              "0                   1          1                      1   \n",
              "1                   1          1                      1   \n",
              "2                   1          1                      1   \n",
              "3                   1          1                      1   \n",
              "4                   1          1                      1   \n",
              "\n",
              "   Through Recommendations  Tags  Lead Profile  \\\n",
              "0                        1     1             1   \n",
              "1                        1     2             1   \n",
              "2                        1     3             2   \n",
              "3                        1     2             1   \n",
              "4                        1     3             1   \n",
              "\n",
              "   A free copy of Mastering The Interview  Last Notable Activity  \n",
              "0                                       1                      1  \n",
              "1                                       1                      2  \n",
              "2                                       2                      2  \n",
              "3                                       1                      1  \n",
              "4                                       1                      1  \n",
              "\n",
              "[5 rows x 23 columns]"
            ]
          },
          "execution_count": 74,
          "metadata": {},
          "output_type": "execute_result"
        }
      ]
    },
    {
      "cell_type": "markdown",
      "metadata": {
        "id": "ybKsii3ATdXB"
      },
      "source": [
        "Com nosso dataset pronto vamos separar os dados de treino e teste."
      ],
      "id": "ybKsii3ATdXB"
    },
    {
      "cell_type": "code",
      "metadata": {
        "id": "4ab2546e"
      },
      "source": [
        "X = df_ord.drop('Converted', axis=1)\n",
        "y = df_ord['Converted']\n",
        "X_train, X_test, y_train, y_test = train_test_split(X, y)"
      ],
      "id": "4ab2546e",
      "execution_count": null,
      "outputs": []
    },
    {
      "cell_type": "code",
      "metadata": {
        "id": "cfe580f3"
      },
      "source": [
        "from sklearn.metrics import roc_auc_score, accuracy_score, f1_score, confusion_matrix, classification_report\n",
        "from scikitplot.metrics import plot_confusion_matrix, plot_roc"
      ],
      "id": "cfe580f3",
      "execution_count": null,
      "outputs": []
    },
    {
      "cell_type": "code",
      "metadata": {
        "id": "3a4710e3"
      },
      "source": [
        "from sklearn.preprocessing import StandardScaler, LabelEncoder\n",
        "from sklearn.pipeline import make_pipeline\n",
        "from sklearn.model_selection import cross_val_score\n",
        "from sklearn.model_selection import StratifiedKFold\n",
        "from sklearn.model_selection import GridSearchCV\n",
        "from sklearn.svm import SVC\n",
        "from sklearn.linear_model import SGDClassifier\n",
        "from sklearn.tree import DecisionTreeClassifier\n",
        "from sklearn.linear_model import LogisticRegression\n",
        "from sklearn.ensemble import RandomForestClassifier"
      ],
      "id": "3a4710e3",
      "execution_count": null,
      "outputs": []
    },
    {
      "cell_type": "markdown",
      "metadata": {
        "id": "X-Rgc3n7TpNU"
      },
      "source": [
        "Com os dados separados vamos aplicar o método de padronização pois há diferentes escalas entre as features."
      ],
      "id": "X-Rgc3n7TpNU"
    },
    {
      "cell_type": "code",
      "metadata": {
        "id": "d3aaf5f5"
      },
      "source": [
        "scaler = StandardScaler().fit(X_train)\n",
        "X_train = scaler.transform(X_train)"
      ],
      "id": "d3aaf5f5",
      "execution_count": null,
      "outputs": []
    },
    {
      "cell_type": "markdown",
      "metadata": {
        "id": "LPda1PS7UdL4"
      },
      "source": [
        "### Cross Validation\n"
      ],
      "id": "LPda1PS7UdL4"
    },
    {
      "cell_type": "markdown",
      "metadata": {
        "id": "7tvdbf7WUiN6"
      },
      "source": [
        "Queremos aqui definir o método que ter melhor desempenho nesse projeto. Sendo assim vamos aplicar a validação cruzada ou cross validation com:\n",
        "* Random Forest Classifier\n",
        "* Decision Tree Classifier \n",
        "* SGDClassifier\n",
        "* SVC\n",
        "* LogisticRegression"
      ],
      "id": "7tvdbf7WUiN6"
    },
    {
      "cell_type": "code",
      "metadata": {
        "id": "a4804255"
      },
      "source": [
        "def val_model(X, y, clf, quite=False):\n",
        "    \"\"\"\n",
        "    Realiza cross-validation com os dados de treino para determinado modelo.\n",
        "\n",
        "    # Arguments\n",
        "        X: DataFrame, contém as variáveis independetes.\n",
        "        y: Series, vetor contendo a variável alvo.\n",
        "        clf: modelo classificador do Scikit-learn.\n",
        "        quite: bool, indicando se a função deve imprimir os resultados ou não.\n",
        "\n",
        "    # Returns\n",
        "        float, média dos scores da cross-validation.\n",
        "    \"\"\"\n",
        "    \n",
        "    X = np.array(X)\n",
        "    y = np.array(y)\n",
        "\n",
        "    pipeline = make_pipeline(StandardScaler(), clf)\n",
        "    scores = cross_val_score(pipeline, X, y, scoring='recall')\n",
        "\n",
        "    if quite == False:\n",
        "        print(\"Recall: {:.2f} (+/- {:.2f})\".format(scores.mean(), scores.std()))\n",
        "    \n",
        "    return scores.mean()"
      ],
      "id": "a4804255",
      "execution_count": null,
      "outputs": []
    },
    {
      "cell_type": "code",
      "metadata": {
        "id": "7390f523",
        "outputId": "df2b0dfe-a437-450b-a903-aabfe11b7bf2"
      },
      "source": [
        "# instanciar modelos\n",
        "rf = RandomForestClassifier()\n",
        "dt = DecisionTreeClassifier()\n",
        "sgdc = SGDClassifier()\n",
        "svc = SVC()\n",
        "lr = LogisticRegression()\n",
        "\n",
        "\n",
        "model = []\n",
        "recall = []\n",
        "# avaliar o desempenho (recall)\n",
        "for clf in (rf, dt, sgdc, svc, lr):\n",
        "    model.append(clf.__class__.__name__)\n",
        "    recall.append(val_model(X_train, y_train, clf, quite=True))\n",
        "\n",
        "pd.DataFrame(data=recall, index=model, columns=['Recall'])"
      ],
      "id": "7390f523",
      "execution_count": null,
      "outputs": [
        {
          "data": {
            "text/html": [
              "<div>\n",
              "<style scoped>\n",
              "    .dataframe tbody tr th:only-of-type {\n",
              "        vertical-align: middle;\n",
              "    }\n",
              "\n",
              "    .dataframe tbody tr th {\n",
              "        vertical-align: top;\n",
              "    }\n",
              "\n",
              "    .dataframe thead th {\n",
              "        text-align: right;\n",
              "    }\n",
              "</style>\n",
              "<table border=\"1\" class=\"dataframe\">\n",
              "  <thead>\n",
              "    <tr style=\"text-align: right;\">\n",
              "      <th></th>\n",
              "      <th>Recall</th>\n",
              "    </tr>\n",
              "  </thead>\n",
              "  <tbody>\n",
              "    <tr>\n",
              "      <th>RandomForestClassifier</th>\n",
              "      <td>0.895701</td>\n",
              "    </tr>\n",
              "    <tr>\n",
              "      <th>DecisionTreeClassifier</th>\n",
              "      <td>0.884860</td>\n",
              "    </tr>\n",
              "    <tr>\n",
              "      <th>SGDClassifier</th>\n",
              "      <td>0.670654</td>\n",
              "    </tr>\n",
              "    <tr>\n",
              "      <th>SVC</th>\n",
              "      <td>0.801869</td>\n",
              "    </tr>\n",
              "    <tr>\n",
              "      <th>LogisticRegression</th>\n",
              "      <td>0.695701</td>\n",
              "    </tr>\n",
              "  </tbody>\n",
              "</table>\n",
              "</div>"
            ],
            "text/plain": [
              "                          Recall\n",
              "RandomForestClassifier  0.895701\n",
              "DecisionTreeClassifier  0.884860\n",
              "SGDClassifier           0.670654\n",
              "SVC                     0.801869\n",
              "LogisticRegression      0.695701"
            ]
          },
          "execution_count": 91,
          "metadata": {},
          "output_type": "execute_result"
        }
      ]
    },
    {
      "cell_type": "markdown",
      "metadata": {
        "id": "WBPWIYqhVM2V"
      },
      "source": [
        "Vemos que *Random Forest Classifier* obteve o melhor desempenho dos métodos testado, usaremos ela para fazer a classificação em seguida vamos fazer a previsão e checar as métricas."
      ],
      "id": "WBPWIYqhVM2V"
    },
    {
      "cell_type": "code",
      "metadata": {
        "id": "2305848a",
        "outputId": "199a7e5b-1936-4558-9e05-30cec08f785e"
      },
      "source": [
        "# modelo final\n",
        "rf = RandomForestClassifier()\n",
        "rf.fit(X_train, y_train)\n",
        "\n",
        "# fazer a previsão\n",
        "X_test = scaler.transform(X_test)\n",
        "y_pred = rf.predict(X_test)\n",
        "\n",
        "# Classification Report\n",
        "print(classification_report(y_test, y_pred))\n",
        "\n",
        "# imprimir a área sob a curva\n",
        "print(\"AUC: {:.4f}\\n\".format(roc_auc_score(y_test, y_pred)))\n",
        "\n",
        "# plotar matriz de confusão\n",
        "plot_confusion_matrix(y_test, y_pred, normalize=True)\n",
        "plt.show()"
      ],
      "id": "2305848a",
      "execution_count": null,
      "outputs": [
        {
          "name": "stdout",
          "output_type": "stream",
          "text": [
            "              precision    recall  f1-score   support\n",
            "\n",
            "           0       0.93      0.96      0.95      1424\n",
            "           1       0.94      0.89      0.91       886\n",
            "\n",
            "    accuracy                           0.93      2310\n",
            "   macro avg       0.93      0.93      0.93      2310\n",
            "weighted avg       0.93      0.93      0.93      2310\n",
            "\n",
            "AUC: 0.9257\n",
            "\n"
          ]
        },
        {
          "data": {
            "image/png": "[encoded data removed]",
            "text/plain": [
              "<Figure size 432x288 with 2 Axes>"
            ]
          },
          "metadata": {
            "needs_background": "light"
          },
          "output_type": "display_data"
        }
      ]
    },
    {
      "cell_type": "markdown",
      "metadata": {
        "id": "pH_x-ltdV1Uc"
      },
      "source": [
        "A principio obtivemos uma classificação de leads de 89% de chance de prever uma possível conversão em clientes, vamos fazer alguns ajustes de parametros posteriormente para melhorar ainda mais nosso modelo, bem como o apresentar de maneira mais intuitiva. Em breve haverá atualizações "
      ],
      "id": "pH_x-ltdV1Uc"
    }
  ]
}
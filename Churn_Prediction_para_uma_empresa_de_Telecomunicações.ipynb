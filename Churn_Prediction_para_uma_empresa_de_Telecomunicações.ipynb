{
  "nbformat": 4,
  "nbformat_minor": 0,
  "metadata": {
    "colab": {
      "name": "Churn Prediction para uma empresa de Telecomunicações.ipynb",
      "provenance": [],
      "collapsed_sections": [],
      "include_colab_link": true
    },
    "kernelspec": {
      "display_name": "Python 3",
      "name": "python3"
    }
  },
  "cells": [
    {
      "cell_type": "markdown",
      "metadata": {
        "id": "view-in-github",
        "colab_type": "text"
      },
      "source": [
        "<a href=\"https://colab.research.google.com/github/yagohilario1992/Data_Science/blob/main/Churn_Prediction_para_uma_empresa_de_Telecomunica%C3%A7%C3%B5es.ipynb\" target=\"_parent\"><img src=\"https://colab.research.google.com/assets/colab-badge.svg\" alt=\"Open In Colab\"/></a>"
      ]
    },
    {
      "cell_type": "markdown",
      "metadata": {
        "id": "sC2BFMOKN1M7"
      },
      "source": [
        "---\n",
        "<img alt=\"Colaboratory logo\" width=\"15%\" src=\"https://raw.githubusercontent.com/yagohilario1992/Data_Science/main/Yago%20Hil%C3%A1rio%20Andrade.png\">\n",
        "\n",
        "#### [**Yago Hilário Andrade**](https://www.linkedin.com/in/yago-hilario/)\n",
        "\n",
        "---"
      ]
    },
    {
      "cell_type": "markdown",
      "metadata": {
        "id": "IR56trFcPcC1"
      },
      "source": [
        "# Churn Prediction\n",
        "\n",
        "*Churn rate*, ou simplesmente *churn*, representa a taxa de evasão da sua base de clientes. Em serviços como Spotify ou Netflix, ela representaria a taxa de cancelamento de assinaturas.\n",
        "\n",
        "<p align=center>\n",
        "<img src=\"https://raw.githubusercontent.com/carlosfab/dsnp2/master/img/churnrate.jpg\" width=\"60%\"></p>\n",
        "\n",
        "Ela é de extrema importância para a administração e sua análise ao longo do tempo pode mostrar que existe algum problema que deve ser atacado.\n",
        "\n",
        "*Churn* também pode ser usado para identificar potenciais cancelamentos, com um tempo de antecedência, e promover ações direcionadas para tentar reter tais clientes. Essa métrica deve receber atenção pelo fato de que o Custo de Aquisição de Cliente (CAC) é normalmente mais alto que o custo para mantê-los. Ou seja, um alto valor para o *churn rate* é o que não desejamos."
      ]
    },
    {
      "cell_type": "markdown",
      "metadata": {
        "id": "0HVmpIxQWT4Y"
      },
      "source": [
        "## Aquisição dos Dados\n",
        "\n",
        "Os dados utilizados neste projeto foram originalmente disponibilizados na [plataforma de ensino da IBM Developer](https://developer.ibm.com/technologies/data-science/patterns/predict-customer-churn-using-watson-studio-and-jupyter-notebooks/#), e tratam de um problema típico de uma companhia de telecomunicações. O *dataset* completo pode ser encontrado [neste link](https://raw.githubusercontent.com/carlosfab/dsnp2/master/datasets/WA_Fn-UseC_-Telco-Customer-Churn.csv).\n",
        "\n",
        "Apesar de não haver informações explícitas disponíves, os nomes das colunas permitem um entendimento a respeito do problema."
      ]
    },
    {
      "cell_type": "markdown",
      "metadata": {
        "id": "s4HsLUqQVadR"
      },
      "source": [
        "# Pacotes e Bibliotecas."
      ]
    },
    {
      "cell_type": "markdown",
      "metadata": {
        "id": "K6t6UtqmVkpP"
      },
      "source": [
        "Para que possamos discorrer nossas analises iremos importar diversos pacotes e bibliotecas que nos ajudaram no decorrer do projeto.  "
      ]
    },
    {
      "cell_type": "code",
      "metadata": {
        "id": "TE5oiGEBWcLg"
      },
      "source": [
        "!pip install scikit-plot -q\n",
        "!pip install imbalanced-learn -q"
      ],
      "execution_count": 1,
      "outputs": []
    },
    {
      "cell_type": "code",
      "metadata": {
        "colab": {
          "base_uri": "https://localhost:8080/",
          "height": 309
        },
        "id": "oQ4bNy7udtEE",
        "outputId": "51a25188-154d-47d6-9615-c0299dab8347"
      },
      "source": [
        "from warnings import simplefilter\n",
        "\n",
        "simplefilter(action='ignore', category=FutureWarning)\n",
        "import pandas as pd\n",
        "import numpy as np\n",
        "import matplotlib.pyplot as plt\n",
        "import seaborn as sns\n",
        "from imblearn.under_sampling import RandomUnderSampler\n",
        "from sklearn.metrics import roc_auc_score, accuracy_score, f1_score, confusion_matrix, classification_report\n",
        "from scikitplot.metrics import plot_confusion_matrix, plot_roc\n",
        "from sklearn.preprocessing import StandardScaler, LabelEncoder\n",
        "from sklearn.pipeline import make_pipeline\n",
        "from sklearn.model_selection import train_test_split\n",
        "from sklearn.model_selection import cross_val_score\n",
        "from sklearn.model_selection import StratifiedKFold\n",
        "from sklearn.model_selection import GridSearchCV\n",
        "from sklearn.svm import SVC\n",
        "from lightgbm import LGBMClassifier\n",
        "from sklearn.linear_model import SGDClassifier\n",
        "from sklearn.tree import DecisionTreeClassifier\n",
        "from sklearn.linear_model import LogisticRegression\n",
        "from xgboost import XGBClassifier\n",
        "from sklearn.ensemble import RandomForestClassifier\n",
        "\n",
        "np.random.seed(42)\n",
        "\n",
        "DATA_PATH = \"https://raw.githubusercontent.com/carlosfab/dsnp2/master/datasets/WA_Fn-UseC_-Telco-Customer-Churn.csv\"\n",
        "df = pd.read_csv(DATA_PATH)\n",
        "\n",
        "df.head()"
      ],
      "execution_count": 2,
      "outputs": [
        {
          "output_type": "execute_result",
          "data": {
            "text/html": [
              "<div>\n",
              "<style scoped>\n",
              "    .dataframe tbody tr th:only-of-type {\n",
              "        vertical-align: middle;\n",
              "    }\n",
              "\n",
              "    .dataframe tbody tr th {\n",
              "        vertical-align: top;\n",
              "    }\n",
              "\n",
              "    .dataframe thead th {\n",
              "        text-align: right;\n",
              "    }\n",
              "</style>\n",
              "<table border=\"1\" class=\"dataframe\">\n",
              "  <thead>\n",
              "    <tr style=\"text-align: right;\">\n",
              "      <th></th>\n",
              "      <th>customerID</th>\n",
              "      <th>gender</th>\n",
              "      <th>SeniorCitizen</th>\n",
              "      <th>Partner</th>\n",
              "      <th>Dependents</th>\n",
              "      <th>tenure</th>\n",
              "      <th>PhoneService</th>\n",
              "      <th>MultipleLines</th>\n",
              "      <th>InternetService</th>\n",
              "      <th>OnlineSecurity</th>\n",
              "      <th>OnlineBackup</th>\n",
              "      <th>DeviceProtection</th>\n",
              "      <th>TechSupport</th>\n",
              "      <th>StreamingTV</th>\n",
              "      <th>StreamingMovies</th>\n",
              "      <th>Contract</th>\n",
              "      <th>PaperlessBilling</th>\n",
              "      <th>PaymentMethod</th>\n",
              "      <th>MonthlyCharges</th>\n",
              "      <th>TotalCharges</th>\n",
              "      <th>Churn</th>\n",
              "    </tr>\n",
              "  </thead>\n",
              "  <tbody>\n",
              "    <tr>\n",
              "      <th>0</th>\n",
              "      <td>7590-VHVEG</td>\n",
              "      <td>Female</td>\n",
              "      <td>0</td>\n",
              "      <td>Yes</td>\n",
              "      <td>No</td>\n",
              "      <td>1</td>\n",
              "      <td>No</td>\n",
              "      <td>No phone service</td>\n",
              "      <td>DSL</td>\n",
              "      <td>No</td>\n",
              "      <td>Yes</td>\n",
              "      <td>No</td>\n",
              "      <td>No</td>\n",
              "      <td>No</td>\n",
              "      <td>No</td>\n",
              "      <td>Month-to-month</td>\n",
              "      <td>Yes</td>\n",
              "      <td>Electronic check</td>\n",
              "      <td>29.85</td>\n",
              "      <td>29.85</td>\n",
              "      <td>No</td>\n",
              "    </tr>\n",
              "    <tr>\n",
              "      <th>1</th>\n",
              "      <td>5575-GNVDE</td>\n",
              "      <td>Male</td>\n",
              "      <td>0</td>\n",
              "      <td>No</td>\n",
              "      <td>No</td>\n",
              "      <td>34</td>\n",
              "      <td>Yes</td>\n",
              "      <td>No</td>\n",
              "      <td>DSL</td>\n",
              "      <td>Yes</td>\n",
              "      <td>No</td>\n",
              "      <td>Yes</td>\n",
              "      <td>No</td>\n",
              "      <td>No</td>\n",
              "      <td>No</td>\n",
              "      <td>One year</td>\n",
              "      <td>No</td>\n",
              "      <td>Mailed check</td>\n",
              "      <td>56.95</td>\n",
              "      <td>1889.5</td>\n",
              "      <td>No</td>\n",
              "    </tr>\n",
              "    <tr>\n",
              "      <th>2</th>\n",
              "      <td>3668-QPYBK</td>\n",
              "      <td>Male</td>\n",
              "      <td>0</td>\n",
              "      <td>No</td>\n",
              "      <td>No</td>\n",
              "      <td>2</td>\n",
              "      <td>Yes</td>\n",
              "      <td>No</td>\n",
              "      <td>DSL</td>\n",
              "      <td>Yes</td>\n",
              "      <td>Yes</td>\n",
              "      <td>No</td>\n",
              "      <td>No</td>\n",
              "      <td>No</td>\n",
              "      <td>No</td>\n",
              "      <td>Month-to-month</td>\n",
              "      <td>Yes</td>\n",
              "      <td>Mailed check</td>\n",
              "      <td>53.85</td>\n",
              "      <td>108.15</td>\n",
              "      <td>Yes</td>\n",
              "    </tr>\n",
              "    <tr>\n",
              "      <th>3</th>\n",
              "      <td>7795-CFOCW</td>\n",
              "      <td>Male</td>\n",
              "      <td>0</td>\n",
              "      <td>No</td>\n",
              "      <td>No</td>\n",
              "      <td>45</td>\n",
              "      <td>No</td>\n",
              "      <td>No phone service</td>\n",
              "      <td>DSL</td>\n",
              "      <td>Yes</td>\n",
              "      <td>No</td>\n",
              "      <td>Yes</td>\n",
              "      <td>Yes</td>\n",
              "      <td>No</td>\n",
              "      <td>No</td>\n",
              "      <td>One year</td>\n",
              "      <td>No</td>\n",
              "      <td>Bank transfer (automatic)</td>\n",
              "      <td>42.30</td>\n",
              "      <td>1840.75</td>\n",
              "      <td>No</td>\n",
              "    </tr>\n",
              "    <tr>\n",
              "      <th>4</th>\n",
              "      <td>9237-HQITU</td>\n",
              "      <td>Female</td>\n",
              "      <td>0</td>\n",
              "      <td>No</td>\n",
              "      <td>No</td>\n",
              "      <td>2</td>\n",
              "      <td>Yes</td>\n",
              "      <td>No</td>\n",
              "      <td>Fiber optic</td>\n",
              "      <td>No</td>\n",
              "      <td>No</td>\n",
              "      <td>No</td>\n",
              "      <td>No</td>\n",
              "      <td>No</td>\n",
              "      <td>No</td>\n",
              "      <td>Month-to-month</td>\n",
              "      <td>Yes</td>\n",
              "      <td>Electronic check</td>\n",
              "      <td>70.70</td>\n",
              "      <td>151.65</td>\n",
              "      <td>Yes</td>\n",
              "    </tr>\n",
              "  </tbody>\n",
              "</table>\n",
              "</div>"
            ],
            "text/plain": [
              "   customerID  gender  SeniorCitizen  ... MonthlyCharges TotalCharges  Churn\n",
              "0  7590-VHVEG  Female              0  ...          29.85        29.85     No\n",
              "1  5575-GNVDE    Male              0  ...          56.95       1889.5     No\n",
              "2  3668-QPYBK    Male              0  ...          53.85       108.15    Yes\n",
              "3  7795-CFOCW    Male              0  ...          42.30      1840.75     No\n",
              "4  9237-HQITU  Female              0  ...          70.70       151.65    Yes\n",
              "\n",
              "[5 rows x 21 columns]"
            ]
          },
          "metadata": {
            "tags": []
          },
          "execution_count": 2
        }
      ]
    },
    {
      "cell_type": "markdown",
      "metadata": {
        "id": "VHg9m-a7sSYf"
      },
      "source": [
        "# Variáveis"
      ]
    },
    {
      "cell_type": "markdown",
      "metadata": {
        "id": "4Bv8RVLy0P4B"
      },
      "source": [
        "* SeniorCitizen = Idoso\n",
        "* Partner = Casado\n",
        "* Dependents = Dependentes\n",
        "* tenure = Tempo de uso dos serviços\n",
        "* PhoneService = Serviço de telefone\n",
        "* MultipleLines = Multiplas linhas\n",
        "* InternetService = Tipo de Internet\n",
        "* OnlineSecurity = Seguro Online\n",
        "* OnlineBackup = Backup Online\n",
        "* DeviceProtection = Dispositivo de segurança\n",
        "* TechSupport = Suporte técnico\n",
        "* StreamingTV = TV streaming\n",
        "* StreamingMovies = Filmes streaming\n",
        "* Contract = Tipo de contrato\n",
        "* PaperlessBilling = Cobrança sem papel\n",
        "* PaymentMethod = Método de pagamento\n",
        "* MonthlyCharges = Mensalidade\n",
        "* TotalCharges = Custos Totais\n",
        "* Churn = Cancelamento\n"
      ]
    },
    {
      "cell_type": "markdown",
      "metadata": {
        "id": "uNOrS1_Xf8kq"
      },
      "source": [
        "Ultilizando o método `dtypes` podemos observar os tipos de entradas do *dataset*"
      ]
    },
    {
      "cell_type": "code",
      "metadata": {
        "colab": {
          "base_uri": "https://localhost:8080/"
        },
        "id": "o-i0U3e1-m1K",
        "outputId": "f78471a5-3e10-4bf5-d852-bbaaaf1237b1"
      },
      "source": [
        "df.dtypes"
      ],
      "execution_count": 3,
      "outputs": [
        {
          "output_type": "execute_result",
          "data": {
            "text/plain": [
              "customerID           object\n",
              "gender               object\n",
              "SeniorCitizen         int64\n",
              "Partner              object\n",
              "Dependents           object\n",
              "tenure                int64\n",
              "PhoneService         object\n",
              "MultipleLines        object\n",
              "InternetService      object\n",
              "OnlineSecurity       object\n",
              "OnlineBackup         object\n",
              "DeviceProtection     object\n",
              "TechSupport          object\n",
              "StreamingTV          object\n",
              "StreamingMovies      object\n",
              "Contract             object\n",
              "PaperlessBilling     object\n",
              "PaymentMethod        object\n",
              "MonthlyCharges      float64\n",
              "TotalCharges         object\n",
              "Churn                object\n",
              "dtype: object"
            ]
          },
          "metadata": {
            "tags": []
          },
          "execution_count": 3
        }
      ]
    },
    {
      "cell_type": "code",
      "metadata": {
        "colab": {
          "base_uri": "https://localhost:8080/"
        },
        "id": "zCu4bkVxgf1_",
        "outputId": "40373d26-3521-446d-d3b7-580e92419354"
      },
      "source": [
        "df.shape"
      ],
      "execution_count": 4,
      "outputs": [
        {
          "output_type": "execute_result",
          "data": {
            "text/plain": [
              "(7043, 21)"
            ]
          },
          "metadata": {
            "tags": []
          },
          "execution_count": 4
        }
      ]
    },
    {
      "cell_type": "markdown",
      "metadata": {
        "id": "LIWauoTpgWDR"
      },
      "source": [
        "O *dataset* é dotado de 21 colunas e 7043 linhas"
      ]
    },
    {
      "cell_type": "markdown",
      "metadata": {
        "id": "VypumrqWWuLQ"
      },
      "source": [
        "Verificando valores ausentes."
      ]
    },
    {
      "cell_type": "code",
      "metadata": {
        "colab": {
          "base_uri": "https://localhost:8080/"
        },
        "id": "DuAfOqB28FL5",
        "outputId": "17e8c151-0c34-4d4d-8592-9743ce93c711"
      },
      "source": [
        "((df.isnull().sum() / df.shape[0]) * 100).sort_values(ascending=False)"
      ],
      "execution_count": 5,
      "outputs": [
        {
          "output_type": "execute_result",
          "data": {
            "text/plain": [
              "Churn               0.0\n",
              "OnlineSecurity      0.0\n",
              "gender              0.0\n",
              "SeniorCitizen       0.0\n",
              "Partner             0.0\n",
              "Dependents          0.0\n",
              "tenure              0.0\n",
              "PhoneService        0.0\n",
              "MultipleLines       0.0\n",
              "InternetService     0.0\n",
              "OnlineBackup        0.0\n",
              "TotalCharges        0.0\n",
              "DeviceProtection    0.0\n",
              "TechSupport         0.0\n",
              "StreamingTV         0.0\n",
              "StreamingMovies     0.0\n",
              "Contract            0.0\n",
              "PaperlessBilling    0.0\n",
              "PaymentMethod       0.0\n",
              "MonthlyCharges      0.0\n",
              "customerID          0.0\n",
              "dtype: float64"
            ]
          },
          "metadata": {
            "tags": []
          },
          "execution_count": 5
        }
      ]
    },
    {
      "cell_type": "markdown",
      "metadata": {
        "id": "HNfDITLRnOru"
      },
      "source": [
        "Acima notamos que não exitem valores faltantes, por se tratar de um *dataset* com sua maioria de variáveis categoricas vamos abaixo observar suas entradas e suas divisões, também faremos uso de gráficos de barras para uma melhor vizualisação."
      ]
    },
    {
      "cell_type": "code",
      "metadata": {
        "colab": {
          "base_uri": "https://localhost:8080/"
        },
        "id": "SN_4hPQUYuIE",
        "outputId": "41e5753d-a2bf-4464-f938-64ef2a6ded8e"
      },
      "source": [
        "df.nunique()"
      ],
      "execution_count": 6,
      "outputs": [
        {
          "output_type": "execute_result",
          "data": {
            "text/plain": [
              "customerID          7043\n",
              "gender                 2\n",
              "SeniorCitizen          2\n",
              "Partner                2\n",
              "Dependents             2\n",
              "tenure                73\n",
              "PhoneService           2\n",
              "MultipleLines          3\n",
              "InternetService        3\n",
              "OnlineSecurity         3\n",
              "OnlineBackup           3\n",
              "DeviceProtection       3\n",
              "TechSupport            3\n",
              "StreamingTV            3\n",
              "StreamingMovies        3\n",
              "Contract               3\n",
              "PaperlessBilling       2\n",
              "PaymentMethod          4\n",
              "MonthlyCharges      1585\n",
              "TotalCharges        6531\n",
              "Churn                  2\n",
              "dtype: int64"
            ]
          },
          "metadata": {
            "tags": []
          },
          "execution_count": 6
        }
      ]
    },
    {
      "cell_type": "markdown",
      "metadata": {
        "id": "qG01xzD-cSaw"
      },
      "source": [
        "A coluna \"TotalCharges\" se apresenta como um valor, no entanto quando observamos df.dtypes podemos notar que se trata de um objeto, a diante vamos converter-lo em um numero decimal."
      ]
    },
    {
      "cell_type": "code",
      "metadata": {
        "id": "zSVegvApdISl"
      },
      "source": [
        "#df[\"TotalCharges\"].astype('float32')"
      ],
      "execution_count": 7,
      "outputs": []
    },
    {
      "cell_type": "markdown",
      "metadata": {
        "id": "10hQCtdtdaYi"
      },
      "source": [
        "como resultado foi nos retornado um erro, onde diz haver texto e por isso não é possível fazer a tranformação. com isso vamos tentar um outra abordagem."
      ]
    },
    {
      "cell_type": "code",
      "metadata": {
        "id": "XbVMd-2JdZ4J"
      },
      "source": [
        "def convert_str_float(entrada):\n",
        "    try:\n",
        "        return float(entrada)\n",
        "    except ValueError:\n",
        "        return np.nan\n",
        "\n",
        "df_clean = df.copy()\n",
        "df_clean.drop('customerID', axis=1, inplace=True)\n",
        "df_clean[\"TotalCharges\"] = df_clean[\"TotalCharges\"].apply(convert_str_float)"
      ],
      "execution_count": 8,
      "outputs": []
    },
    {
      "cell_type": "markdown",
      "metadata": {
        "id": "P6gdpta_gXqN"
      },
      "source": [
        "Aproveitando foi removido a lable customerID visto que ela não é relevante para nossa analise."
      ]
    },
    {
      "cell_type": "code",
      "metadata": {
        "colab": {
          "base_uri": "https://localhost:8080/"
        },
        "id": "jO_CgZlogXU0",
        "outputId": "a177a30a-8fd8-4956-ee2a-588d52c7d16a"
      },
      "source": [
        "print(f\"Dados ausentes antes {df_clean['TotalCharges'].isnull().sum()}\")"
      ],
      "execution_count": 9,
      "outputs": [
        {
          "output_type": "stream",
          "text": [
            "Dados ausentes antes 11\n"
          ],
          "name": "stdout"
        }
      ]
    },
    {
      "cell_type": "markdown",
      "metadata": {
        "id": "JJA2qmRKgyKR"
      },
      "source": [
        "Descobrimos que há 11 valores ausentes na lable trabalhada, por se tratar de um número infimo podemos inferir valores, estes serão a propria mediana da coluna."
      ]
    },
    {
      "cell_type": "code",
      "metadata": {
        "id": "F4T5G6Ydgx0L"
      },
      "source": [
        "TotalChargesMedian = df_clean.TotalCharges.median()\n",
        "df_clean[\"TotalCharges\"].fillna(TotalChargesMedian, inplace=True)"
      ],
      "execution_count": 10,
      "outputs": []
    },
    {
      "cell_type": "code",
      "metadata": {
        "colab": {
          "base_uri": "https://localhost:8080/",
          "height": 346
        },
        "id": "nA4F0wiPChYX",
        "outputId": "ba87d9d7-4110-417e-f3b5-caddde8e612e"
      },
      "source": [
        "print(df.gender.value_counts() / df.shape[0])\n",
        "\n",
        "fig, ax = plt.subplots()\n",
        "sns.countplot('gender', data=df, ax=ax, palette=\"GnBu\")\n",
        "ax.set_title('Genero')\n",
        "\n",
        "plt.show()"
      ],
      "execution_count": 11,
      "outputs": [
        {
          "output_type": "stream",
          "text": [
            "Male      0.504756\n",
            "Female    0.495244\n",
            "Name: gender, dtype: float64\n"
          ],
          "name": "stdout"
        },
        {
          "output_type": "display_data",
          "data": {
            "image/png": "[encoded data removed]",
            "text/plain": [
              "<Figure size 432x288 with 1 Axes>"
            ]
          },
          "metadata": {
            "tags": [],
            "needs_background": "light"
          }
        }
      ]
    },
    {
      "cell_type": "code",
      "metadata": {
        "colab": {
          "base_uri": "https://localhost:8080/",
          "height": 346
        },
        "id": "exr7ZMSxCm1y",
        "outputId": "0fddaa32-42db-40fc-ab8b-d2967126f3f0"
      },
      "source": [
        "print(df.Partner.value_counts() / df.shape[0])\n",
        "\n",
        "fig, ax = plt.subplots()\n",
        "sns.countplot('Partner', data=df, ax=ax, palette=\"GnBu\")\n",
        "ax.set_title('Casados')\n",
        "\n",
        "plt.show()\n",
        "\n"
      ],
      "execution_count": 12,
      "outputs": [
        {
          "output_type": "stream",
          "text": [
            "No     0.516967\n",
            "Yes    0.483033\n",
            "Name: Partner, dtype: float64\n"
          ],
          "name": "stdout"
        },
        {
          "output_type": "display_data",
          "data": {
            "image/png": "[encoded data removed]",
            "text/plain": [
              "<Figure size 432x288 with 1 Axes>"
            ]
          },
          "metadata": {
            "tags": [],
            "needs_background": "light"
          }
        }
      ]
    },
    {
      "cell_type": "code",
      "metadata": {
        "colab": {
          "base_uri": "https://localhost:8080/",
          "height": 346
        },
        "id": "egd-MPFICwK3",
        "outputId": "19c15489-cd2c-4dac-a58c-3c2cb1c06163"
      },
      "source": [
        "print(df.Dependents.value_counts() / df.shape[0])\n",
        "\n",
        "fig, ax = plt.subplots()\n",
        "sns.countplot('Dependents', data=df, ax=ax, palette=\"GnBu\")\n",
        "ax.set_title('Dependentes')\n",
        "\n",
        "plt.show()"
      ],
      "execution_count": 13,
      "outputs": [
        {
          "output_type": "stream",
          "text": [
            "No     0.700412\n",
            "Yes    0.299588\n",
            "Name: Dependents, dtype: float64\n"
          ],
          "name": "stdout"
        },
        {
          "output_type": "display_data",
          "data": {
            "image/png": "[encoded data removed]",
            "text/plain": [
              "<Figure size 432x288 with 1 Axes>"
            ]
          },
          "metadata": {
            "tags": [],
            "needs_background": "light"
          }
        }
      ]
    },
    {
      "cell_type": "code",
      "metadata": {
        "colab": {
          "base_uri": "https://localhost:8080/",
          "height": 346
        },
        "id": "1pYyDDqwDD5G",
        "outputId": "545eb065-797b-426c-9126-1c1c95044737"
      },
      "source": [
        "print(df.PhoneService.value_counts() / df.shape[0])\n",
        "\n",
        "fig, ax = plt.subplots()\n",
        "sns.countplot('PhoneService', data=df, ax=ax, palette=\"GnBu\")\n",
        "ax.set_title('Serviço de telefone')\n",
        "\n",
        "plt.show()"
      ],
      "execution_count": 14,
      "outputs": [
        {
          "output_type": "stream",
          "text": [
            "Yes    0.903166\n",
            "No     0.096834\n",
            "Name: PhoneService, dtype: float64\n"
          ],
          "name": "stdout"
        },
        {
          "output_type": "display_data",
          "data": {
            "image/png": "[encoded data removed]",
            "text/plain": [
              "<Figure size 432x288 with 1 Axes>"
            ]
          },
          "metadata": {
            "tags": [],
            "needs_background": "light"
          }
        }
      ]
    },
    {
      "cell_type": "code",
      "metadata": {
        "colab": {
          "base_uri": "https://localhost:8080/",
          "height": 363
        },
        "id": "6VqC6XelDXk7",
        "outputId": "6b0c2bf3-0704-4b3f-cbdc-0d6bd4a1c405"
      },
      "source": [
        "print(df.MultipleLines.value_counts() / df.shape[0])\n",
        "\n",
        "fig, ax = plt.subplots()\n",
        "sns.countplot('MultipleLines', data=df, ax=ax, palette=\"GnBu\")\n",
        "ax.set_title('Multiplas linhas')\n",
        "\n",
        "plt.show()"
      ],
      "execution_count": 15,
      "outputs": [
        {
          "output_type": "stream",
          "text": [
            "No                  0.481329\n",
            "Yes                 0.421837\n",
            "No phone service    0.096834\n",
            "Name: MultipleLines, dtype: float64\n"
          ],
          "name": "stdout"
        },
        {
          "output_type": "display_data",
          "data": {
            "image/png": "[encoded data removed]",
            "text/plain": [
              "<Figure size 432x288 with 1 Axes>"
            ]
          },
          "metadata": {
            "tags": [],
            "needs_background": "light"
          }
        }
      ]
    },
    {
      "cell_type": "code",
      "metadata": {
        "colab": {
          "base_uri": "https://localhost:8080/",
          "height": 363
        },
        "id": "hMEELfRhDllB",
        "outputId": "ab764404-fd90-413f-f514-42e6e8ac4bb6"
      },
      "source": [
        "print(df.InternetService.value_counts() / df.shape[0])\n",
        "\n",
        "fig, ax = plt.subplots()\n",
        "sns.countplot('InternetService', data=df, ax=ax, palette=\"GnBu\")\n",
        "ax.set_title('Tipos de serviços de internet')\n",
        "\n",
        "plt.show()"
      ],
      "execution_count": 16,
      "outputs": [
        {
          "output_type": "stream",
          "text": [
            "Fiber optic    0.439585\n",
            "DSL            0.343746\n",
            "No             0.216669\n",
            "Name: InternetService, dtype: float64\n"
          ],
          "name": "stdout"
        },
        {
          "output_type": "display_data",
          "data": {
            "image/png": "[encoded data removed]",
            "text/plain": [
              "<Figure size 432x288 with 1 Axes>"
            ]
          },
          "metadata": {
            "tags": [],
            "needs_background": "light"
          }
        }
      ]
    },
    {
      "cell_type": "code",
      "metadata": {
        "colab": {
          "base_uri": "https://localhost:8080/",
          "height": 363
        },
        "id": "N9egw4ZuDrpo",
        "outputId": "31eb9d88-d32b-4824-a8dc-9fc7c93b36d5"
      },
      "source": [
        "print(df.OnlineSecurity.value_counts() / df.shape[0])\n",
        "\n",
        "fig, ax = plt.subplots()\n",
        "sns.countplot('OnlineSecurity', data=df, ax=ax, palette=\"GnBu\")\n",
        "ax.set_title('Seguro online')\n",
        "\n",
        "plt.show()"
      ],
      "execution_count": 17,
      "outputs": [
        {
          "output_type": "stream",
          "text": [
            "No                     0.496663\n",
            "Yes                    0.286668\n",
            "No internet service    0.216669\n",
            "Name: OnlineSecurity, dtype: float64\n"
          ],
          "name": "stdout"
        },
        {
          "output_type": "display_data",
          "data": {
            "image/png": "[encoded data removed]",
            "text/plain": [
              "<Figure size 432x288 with 1 Axes>"
            ]
          },
          "metadata": {
            "tags": [],
            "needs_background": "light"
          }
        }
      ]
    },
    {
      "cell_type": "code",
      "metadata": {
        "colab": {
          "base_uri": "https://localhost:8080/",
          "height": 363
        },
        "id": "MtKqTi2SDyjY",
        "outputId": "3c258af4-07fe-4956-f9c3-1757b7dc9371"
      },
      "source": [
        "print(df.OnlineBackup.value_counts() / df.shape[0])\n",
        "\n",
        "fig, ax = plt.subplots()\n",
        "sns.countplot('OnlineBackup', data=df, ax=ax, palette=\"GnBu\")\n",
        "ax.set_title('Backup online')\n",
        "\n",
        "plt.show()"
      ],
      "execution_count": 18,
      "outputs": [
        {
          "output_type": "stream",
          "text": [
            "No                     0.438450\n",
            "Yes                    0.344881\n",
            "No internet service    0.216669\n",
            "Name: OnlineBackup, dtype: float64\n"
          ],
          "name": "stdout"
        },
        {
          "output_type": "display_data",
          "data": {
            "image/png": "[encoded data removed]",
            "text/plain": [
              "<Figure size 432x288 with 1 Axes>"
            ]
          },
          "metadata": {
            "tags": [],
            "needs_background": "light"
          }
        }
      ]
    },
    {
      "cell_type": "code",
      "metadata": {
        "colab": {
          "base_uri": "https://localhost:8080/",
          "height": 363
        },
        "id": "9brTpQv8D4N6",
        "outputId": "61361879-70fe-4368-edd7-c53c4c065bd2"
      },
      "source": [
        "print(df.DeviceProtection.value_counts() / df.shape[0])\n",
        "\n",
        "fig, ax = plt.subplots()\n",
        "sns.countplot('DeviceProtection', data=df, ax=ax, palette=\"GnBu\")\n",
        "ax.set_title('Dispositivo de segurança')\n",
        "\n",
        "plt.show()"
      ],
      "execution_count": 19,
      "outputs": [
        {
          "output_type": "stream",
          "text": [
            "No                     0.439443\n",
            "Yes                    0.343888\n",
            "No internet service    0.216669\n",
            "Name: DeviceProtection, dtype: float64\n"
          ],
          "name": "stdout"
        },
        {
          "output_type": "display_data",
          "data": {
            "image/png": "[encoded data removed]",
            "text/plain": [
              "<Figure size 432x288 with 1 Axes>"
            ]
          },
          "metadata": {
            "tags": [],
            "needs_background": "light"
          }
        }
      ]
    },
    {
      "cell_type": "code",
      "metadata": {
        "colab": {
          "base_uri": "https://localhost:8080/",
          "height": 363
        },
        "id": "1NnJUueAD9Mc",
        "outputId": "c74e0ca1-626e-48a0-f005-d790f69c6886"
      },
      "source": [
        "print(df.TechSupport.value_counts() / df.shape[0])\n",
        "\n",
        "fig, ax = plt.subplots()\n",
        "sns.countplot('TechSupport', data=df, ax=ax, palette=\"GnBu\")\n",
        "ax.set_title('Suporte Técnico')\n",
        "\n",
        "plt.show()"
      ],
      "execution_count": 20,
      "outputs": [
        {
          "output_type": "stream",
          "text": [
            "No                     0.493114\n",
            "Yes                    0.290217\n",
            "No internet service    0.216669\n",
            "Name: TechSupport, dtype: float64\n"
          ],
          "name": "stdout"
        },
        {
          "output_type": "display_data",
          "data": {
            "image/png": "[encoded data removed]",
            "text/plain": [
              "<Figure size 432x288 with 1 Axes>"
            ]
          },
          "metadata": {
            "tags": [],
            "needs_background": "light"
          }
        }
      ]
    },
    {
      "cell_type": "code",
      "metadata": {
        "colab": {
          "base_uri": "https://localhost:8080/",
          "height": 363
        },
        "id": "GlbfMze4EBpg",
        "outputId": "f7cb980a-209b-4116-f8f0-68a1fedb6b3a"
      },
      "source": [
        "print(df.StreamingTV.value_counts() / df.shape[0])\n",
        "\n",
        "fig, ax = plt.subplots()\n",
        "sns.countplot('StreamingTV', data=df, ax=ax, palette=\"GnBu\")\n",
        "ax.set_title('Tv Streaming')\n",
        "\n",
        "plt.show()"
      ],
      "execution_count": 21,
      "outputs": [
        {
          "output_type": "stream",
          "text": [
            "No                     0.398978\n",
            "Yes                    0.384353\n",
            "No internet service    0.216669\n",
            "Name: StreamingTV, dtype: float64\n"
          ],
          "name": "stdout"
        },
        {
          "output_type": "display_data",
          "data": {
            "image/png": "[encoded data removed]",
            "text/plain": [
              "<Figure size 432x288 with 1 Axes>"
            ]
          },
          "metadata": {
            "tags": [],
            "needs_background": "light"
          }
        }
      ]
    },
    {
      "cell_type": "code",
      "metadata": {
        "colab": {
          "base_uri": "https://localhost:8080/",
          "height": 363
        },
        "id": "R3DTxzpGEFYM",
        "outputId": "409d034c-6e08-4594-fa95-b193552f805d"
      },
      "source": [
        "print(df.StreamingMovies.value_counts() / df.shape[0])\n",
        "\n",
        "fig, ax = plt.subplots()\n",
        "sns.countplot('StreamingMovies', data=df, ax=ax, palette=\"GnBu\")\n",
        "ax.set_title('Filme Streaming')\n",
        "\n",
        "plt.show()"
      ],
      "execution_count": 22,
      "outputs": [
        {
          "output_type": "stream",
          "text": [
            "No                     0.395428\n",
            "Yes                    0.387903\n",
            "No internet service    0.216669\n",
            "Name: StreamingMovies, dtype: float64\n"
          ],
          "name": "stdout"
        },
        {
          "output_type": "display_data",
          "data": {
            "image/png": "[encoded data removed]",
            "text/plain": [
              "<Figure size 432x288 with 1 Axes>"
            ]
          },
          "metadata": {
            "tags": [],
            "needs_background": "light"
          }
        }
      ]
    },
    {
      "cell_type": "code",
      "metadata": {
        "colab": {
          "base_uri": "https://localhost:8080/",
          "height": 363
        },
        "id": "DkXLGeOpEKUw",
        "outputId": "7a78f4ff-d98a-45be-81e6-ce36c1511bf2"
      },
      "source": [
        "print(df.Contract.value_counts() / df.shape[0])\n",
        "\n",
        "fig, ax = plt.subplots()\n",
        "sns.countplot('Contract', data=df, ax=ax, palette=\"GnBu\")\n",
        "ax.set_title('Tipo de contrato')\n",
        "\n",
        "plt.show()"
      ],
      "execution_count": 23,
      "outputs": [
        {
          "output_type": "stream",
          "text": [
            "Month-to-month    0.550192\n",
            "Two year          0.240664\n",
            "One year          0.209144\n",
            "Name: Contract, dtype: float64\n"
          ],
          "name": "stdout"
        },
        {
          "output_type": "display_data",
          "data": {
            "image/png": "[encoded data removed]",
            "text/plain": [
              "<Figure size 432x288 with 1 Axes>"
            ]
          },
          "metadata": {
            "tags": [],
            "needs_background": "light"
          }
        }
      ]
    },
    {
      "cell_type": "code",
      "metadata": {
        "colab": {
          "base_uri": "https://localhost:8080/",
          "height": 346
        },
        "id": "M-2j6zhbEQg1",
        "outputId": "50aa7cdd-ffd7-454b-f4fe-d8ada6d5eb64"
      },
      "source": [
        "print(df.PaperlessBilling.value_counts() / df.shape[0])\n",
        "\n",
        "fig, ax = plt.subplots()\n",
        "sns.countplot('PaperlessBilling', data=df, ax=ax, palette=\"GnBu\")\n",
        "ax.set_title('Cobrança eletronica')\n",
        "\n",
        "plt.show()"
      ],
      "execution_count": 24,
      "outputs": [
        {
          "output_type": "stream",
          "text": [
            "Yes    0.592219\n",
            "No     0.407781\n",
            "Name: PaperlessBilling, dtype: float64\n"
          ],
          "name": "stdout"
        },
        {
          "output_type": "display_data",
          "data": {
            "image/png": "[encoded data removed]",
            "text/plain": [
              "<Figure size 432x288 with 1 Axes>"
            ]
          },
          "metadata": {
            "tags": [],
            "needs_background": "light"
          }
        }
      ]
    },
    {
      "cell_type": "code",
      "metadata": {
        "colab": {
          "base_uri": "https://localhost:8080/",
          "height": 422
        },
        "id": "JvTNS7XBEV25",
        "outputId": "9ea85a48-dc69-4ff0-8e01-ff70b00d7e7d"
      },
      "source": [
        "print(df.PaymentMethod.value_counts() / df.shape[0])\n",
        "\n",
        "fig, ax = plt.subplots()\n",
        "sns.countplot('PaymentMethod', data=df, ax=ax, palette=\"GnBu\")\n",
        "ax.set_title('Método de pagamento')\n",
        "fig.autofmt_xdate()\n",
        "\n",
        "plt.show()"
      ],
      "execution_count": 25,
      "outputs": [
        {
          "output_type": "stream",
          "text": [
            "Electronic check             0.335794\n",
            "Mailed check                 0.228880\n",
            "Bank transfer (automatic)    0.219225\n",
            "Credit card (automatic)      0.216101\n",
            "Name: PaymentMethod, dtype: float64\n"
          ],
          "name": "stdout"
        },
        {
          "output_type": "display_data",
          "data": {
            "image/png": "[encoded data removed]",
            "text/plain": [
              "<Figure size 432x288 with 1 Axes>"
            ]
          },
          "metadata": {
            "tags": [],
            "needs_background": "light"
          }
        }
      ]
    },
    {
      "cell_type": "code",
      "metadata": {
        "colab": {
          "base_uri": "https://localhost:8080/",
          "height": 346
        },
        "id": "7fpfVvil-U0-",
        "outputId": "bdd17c35-d86a-4761-979d-16557b3841cc"
      },
      "source": [
        "print(df.Churn.value_counts() / df.shape[0])\n",
        "\n",
        "fig, ax = plt.subplots()\n",
        "sns.countplot('Churn', data=df, ax=ax, palette=\"GnBu\")\n",
        "ax.set_title('Churn')\n",
        "\n",
        "\n",
        "plt.show()"
      ],
      "execution_count": 26,
      "outputs": [
        {
          "output_type": "stream",
          "text": [
            "No     0.73463\n",
            "Yes    0.26537\n",
            "Name: Churn, dtype: float64\n"
          ],
          "name": "stdout"
        },
        {
          "output_type": "display_data",
          "data": {
            "image/png": "[encoded data removed]",
            "text/plain": [
              "<Figure size 432x288 with 1 Axes>"
            ]
          },
          "metadata": {
            "tags": [],
            "needs_background": "light"
          }
        }
      ]
    },
    {
      "cell_type": "code",
      "metadata": {
        "colab": {
          "base_uri": "https://localhost:8080/",
          "height": 297
        },
        "id": "XBF53MCLfVD-",
        "outputId": "6291440e-0e82-4279-c341-bcb56f349165"
      },
      "source": [
        "df_clean.describe()"
      ],
      "execution_count": 27,
      "outputs": [
        {
          "output_type": "execute_result",
          "data": {
            "text/html": [
              "<div>\n",
              "<style scoped>\n",
              "    .dataframe tbody tr th:only-of-type {\n",
              "        vertical-align: middle;\n",
              "    }\n",
              "\n",
              "    .dataframe tbody tr th {\n",
              "        vertical-align: top;\n",
              "    }\n",
              "\n",
              "    .dataframe thead th {\n",
              "        text-align: right;\n",
              "    }\n",
              "</style>\n",
              "<table border=\"1\" class=\"dataframe\">\n",
              "  <thead>\n",
              "    <tr style=\"text-align: right;\">\n",
              "      <th></th>\n",
              "      <th>SeniorCitizen</th>\n",
              "      <th>tenure</th>\n",
              "      <th>MonthlyCharges</th>\n",
              "      <th>TotalCharges</th>\n",
              "    </tr>\n",
              "  </thead>\n",
              "  <tbody>\n",
              "    <tr>\n",
              "      <th>count</th>\n",
              "      <td>7043.000000</td>\n",
              "      <td>7043.000000</td>\n",
              "      <td>7043.000000</td>\n",
              "      <td>7043.000000</td>\n",
              "    </tr>\n",
              "    <tr>\n",
              "      <th>mean</th>\n",
              "      <td>0.162147</td>\n",
              "      <td>32.371149</td>\n",
              "      <td>64.761692</td>\n",
              "      <td>2281.916928</td>\n",
              "    </tr>\n",
              "    <tr>\n",
              "      <th>std</th>\n",
              "      <td>0.368612</td>\n",
              "      <td>24.559481</td>\n",
              "      <td>30.090047</td>\n",
              "      <td>2265.270398</td>\n",
              "    </tr>\n",
              "    <tr>\n",
              "      <th>min</th>\n",
              "      <td>0.000000</td>\n",
              "      <td>0.000000</td>\n",
              "      <td>18.250000</td>\n",
              "      <td>18.800000</td>\n",
              "    </tr>\n",
              "    <tr>\n",
              "      <th>25%</th>\n",
              "      <td>0.000000</td>\n",
              "      <td>9.000000</td>\n",
              "      <td>35.500000</td>\n",
              "      <td>402.225000</td>\n",
              "    </tr>\n",
              "    <tr>\n",
              "      <th>50%</th>\n",
              "      <td>0.000000</td>\n",
              "      <td>29.000000</td>\n",
              "      <td>70.350000</td>\n",
              "      <td>1397.475000</td>\n",
              "    </tr>\n",
              "    <tr>\n",
              "      <th>75%</th>\n",
              "      <td>0.000000</td>\n",
              "      <td>55.000000</td>\n",
              "      <td>89.850000</td>\n",
              "      <td>3786.600000</td>\n",
              "    </tr>\n",
              "    <tr>\n",
              "      <th>max</th>\n",
              "      <td>1.000000</td>\n",
              "      <td>72.000000</td>\n",
              "      <td>118.750000</td>\n",
              "      <td>8684.800000</td>\n",
              "    </tr>\n",
              "  </tbody>\n",
              "</table>\n",
              "</div>"
            ],
            "text/plain": [
              "       SeniorCitizen       tenure  MonthlyCharges  TotalCharges\n",
              "count    7043.000000  7043.000000     7043.000000   7043.000000\n",
              "mean        0.162147    32.371149       64.761692   2281.916928\n",
              "std         0.368612    24.559481       30.090047   2265.270398\n",
              "min         0.000000     0.000000       18.250000     18.800000\n",
              "25%         0.000000     9.000000       35.500000    402.225000\n",
              "50%         0.000000    29.000000       70.350000   1397.475000\n",
              "75%         0.000000    55.000000       89.850000   3786.600000\n",
              "max         1.000000    72.000000      118.750000   8684.800000"
            ]
          },
          "metadata": {
            "tags": []
          },
          "execution_count": 27
        }
      ]
    },
    {
      "cell_type": "markdown",
      "metadata": {
        "id": "Hp5zxezVpwer"
      },
      "source": [
        "# Primeiros insights"
      ]
    },
    {
      "cell_type": "markdown",
      "metadata": {
        "id": "hGXAvKawp5hX"
      },
      "source": [
        "O analisando brevemente podemos observar que:\n",
        "\n",
        "* 70% dos clientes não possuem dependentes;\n",
        "* 90% tem linha telefonica;\n",
        "* 21,97% não possuem serviço de internet;\n",
        "* Existem 3 tipos de contrato mesal 55,02%, anual 20,91%, e bianual 24,07%.\n",
        "* Grande parte das variavéis são categóricas, porém algums contém por exemplo No e No Phone service, com isso sabemos que podemos transformar variável binaria;\n",
        "* O dataset apresenta não haver outliers.\n",
        "\n",
        "Aqui também é possível notar a variável ***`Churn`*** que será nosso alvo no decorrer do projeto, Nele vemos que 26,54% dos clientes se evadiram."
      ]
    },
    {
      "cell_type": "markdown",
      "metadata": {
        "id": "GulFVMs-fy4z"
      },
      "source": [
        "Podemos refoçar que não há outliers por meio de um boxplot das colunas `MonthlyCharges` e `TotalCharges`"
      ]
    },
    {
      "cell_type": "code",
      "metadata": {
        "colab": {
          "base_uri": "https://localhost:8080/",
          "height": 297
        },
        "id": "tZif1RCskdjz",
        "outputId": "f428c59b-cd32-4179-da37-bc43b4daa4e6"
      },
      "source": [
        "fig, ax = plt.subplots(nrows=1, ncols=2, figsize=(12, 4))\n",
        "sns.boxplot(df_clean[\"MonthlyCharges\"], ax=ax[0])\n",
        "sns.boxplot(df_clean[\"TotalCharges\"], ax=ax[1])\n",
        "plt.tight_layout()"
      ],
      "execution_count": 28,
      "outputs": [
        {
          "output_type": "display_data",
          "data": {
            "image/png": "[encoded data removed]",
            "text/plain": [
              "<Figure size 864x288 with 2 Axes>"
            ]
          },
          "metadata": {
            "tags": [],
            "needs_background": "light"
          }
        }
      ]
    },
    {
      "cell_type": "markdown",
      "metadata": {
        "id": "lY60vLPQg-Zi"
      },
      "source": [
        "O thershold padrão não acusou nenhum plot fora dos limites superior e infeior"
      ]
    },
    {
      "cell_type": "markdown",
      "metadata": {
        "id": "UmpnfD1yiiSv"
      },
      "source": [
        "A variável `tenure` é o tempo que o cliente permanece com o serviço, pode ser um idicativo de fidelidade.\n",
        "\n",
        "Por falta de informação vamos assumir que o tempo adotado é \"mês\"."
      ]
    },
    {
      "cell_type": "code",
      "metadata": {
        "colab": {
          "base_uri": "https://localhost:8080/",
          "height": 441
        },
        "id": "EmtSipAahaAq",
        "outputId": "795600e1-a33d-46eb-ab34-a474d49a4e71"
      },
      "source": [
        "fig, ax = plt.subplots(figsize=(15, 6))\n",
        "sns.countplot(df['tenure'], color=\"blue\")\n",
        "fig.autofmt_xdate()\n",
        "plt.tight_layout()"
      ],
      "execution_count": 39,
      "outputs": [
        {
          "output_type": "display_data",
          "data": {
            "image/png": "[encoded data removed]",
            "text/plain": [
              "<Figure size 1080x432 with 1 Axes>"
            ]
          },
          "metadata": {
            "tags": [],
            "needs_background": "light"
          }
        }
      ]
    },
    {
      "cell_type": "markdown",
      "metadata": {
        "id": "m46PKnzUaB6T"
      },
      "source": [
        "# Transformando Dados "
      ]
    },
    {
      "cell_type": "markdown",
      "metadata": {
        "id": "gB1DefDKaAKv"
      },
      "source": [
        "Grande parte das entradas no *dataset* são de variáveis categóricas binárias, com isso para melhores resultados na construção de um modelo preditivo vamos converter para númericas, onde No e No service seram atribuidas 0 e yes será 1. "
      ]
    },
    {
      "cell_type": "markdown",
      "metadata": {
        "id": "GmoRbD9ttqWx"
      },
      "source": [
        "Nesta parte do projeto fizemos um pré-processamento afim de começar a construir um modelo base.\n",
        "\n",
        "Para as variaveis com mais de 3 categorias utilizamos um método de transfomação conhecida por variável [Dummy](https://medium.com/data-hackers/vari%C3%A1veis-dummy-o-que-%C3%A9-quando-usar-e-como-usar-78de66cfcca9). Para as com apenas duas foi utilizando o `LabelEncoder`. Salientando que nessa etapa utilizaremos também a variavel alvo **Churn**. Com isso feito vamos a seguir, separar nossos dados de treino e teste para dar início a construção do nosso modelo de Machine Learning. "
      ]
    },
    {
      "cell_type": "code",
      "metadata": {
        "colab": {
          "base_uri": "https://localhost:8080/",
          "height": 258
        },
        "id": "z7bo3sETq-08",
        "outputId": "e2cedd89-fa18-4ece-fdca-453564d288f2"
      },
      "source": [
        "binary_var = df_clean.nunique()[df_clean.nunique() == 2].keys().tolist()\n",
        "num_var = [col for col in df_clean.select_dtypes(['int', 'float']).columns.tolist() if col not in binary_var]\n",
        "cat_var = [col for col in df_clean.columns.tolist() if col not in binary_var + num_var]\n",
        "\n",
        "df_proc = df_clean.copy()\n",
        "\n",
        "le = LabelEncoder()\n",
        "for i in binary_var:\n",
        "    df_proc[i] = le.fit_transform(df_proc[i])\n",
        "\n",
        "df_proc = pd.get_dummies(df_proc, columns=cat_var)\n",
        "\n",
        "df_proc.head()"
      ],
      "execution_count": 30,
      "outputs": [
        {
          "output_type": "execute_result",
          "data": {
            "text/html": [
              "<div>\n",
              "<style scoped>\n",
              "    .dataframe tbody tr th:only-of-type {\n",
              "        vertical-align: middle;\n",
              "    }\n",
              "\n",
              "    .dataframe tbody tr th {\n",
              "        vertical-align: top;\n",
              "    }\n",
              "\n",
              "    .dataframe thead th {\n",
              "        text-align: right;\n",
              "    }\n",
              "</style>\n",
              "<table border=\"1\" class=\"dataframe\">\n",
              "  <thead>\n",
              "    <tr style=\"text-align: right;\">\n",
              "      <th></th>\n",
              "      <th>gender</th>\n",
              "      <th>SeniorCitizen</th>\n",
              "      <th>Partner</th>\n",
              "      <th>Dependents</th>\n",
              "      <th>tenure</th>\n",
              "      <th>PhoneService</th>\n",
              "      <th>PaperlessBilling</th>\n",
              "      <th>MonthlyCharges</th>\n",
              "      <th>TotalCharges</th>\n",
              "      <th>Churn</th>\n",
              "      <th>MultipleLines_No</th>\n",
              "      <th>MultipleLines_No phone service</th>\n",
              "      <th>MultipleLines_Yes</th>\n",
              "      <th>InternetService_DSL</th>\n",
              "      <th>InternetService_Fiber optic</th>\n",
              "      <th>InternetService_No</th>\n",
              "      <th>OnlineSecurity_No</th>\n",
              "      <th>OnlineSecurity_No internet service</th>\n",
              "      <th>OnlineSecurity_Yes</th>\n",
              "      <th>OnlineBackup_No</th>\n",
              "      <th>OnlineBackup_No internet service</th>\n",
              "      <th>OnlineBackup_Yes</th>\n",
              "      <th>DeviceProtection_No</th>\n",
              "      <th>DeviceProtection_No internet service</th>\n",
              "      <th>DeviceProtection_Yes</th>\n",
              "      <th>TechSupport_No</th>\n",
              "      <th>TechSupport_No internet service</th>\n",
              "      <th>TechSupport_Yes</th>\n",
              "      <th>StreamingTV_No</th>\n",
              "      <th>StreamingTV_No internet service</th>\n",
              "      <th>StreamingTV_Yes</th>\n",
              "      <th>StreamingMovies_No</th>\n",
              "      <th>StreamingMovies_No internet service</th>\n",
              "      <th>StreamingMovies_Yes</th>\n",
              "      <th>Contract_Month-to-month</th>\n",
              "      <th>Contract_One year</th>\n",
              "      <th>Contract_Two year</th>\n",
              "      <th>PaymentMethod_Bank transfer (automatic)</th>\n",
              "      <th>PaymentMethod_Credit card (automatic)</th>\n",
              "      <th>PaymentMethod_Electronic check</th>\n",
              "      <th>PaymentMethod_Mailed check</th>\n",
              "    </tr>\n",
              "  </thead>\n",
              "  <tbody>\n",
              "    <tr>\n",
              "      <th>0</th>\n",
              "      <td>0</td>\n",
              "      <td>0</td>\n",
              "      <td>1</td>\n",
              "      <td>0</td>\n",
              "      <td>1</td>\n",
              "      <td>0</td>\n",
              "      <td>1</td>\n",
              "      <td>29.85</td>\n",
              "      <td>29.85</td>\n",
              "      <td>0</td>\n",
              "      <td>0</td>\n",
              "      <td>1</td>\n",
              "      <td>0</td>\n",
              "      <td>1</td>\n",
              "      <td>0</td>\n",
              "      <td>0</td>\n",
              "      <td>1</td>\n",
              "      <td>0</td>\n",
              "      <td>0</td>\n",
              "      <td>0</td>\n",
              "      <td>0</td>\n",
              "      <td>1</td>\n",
              "      <td>1</td>\n",
              "      <td>0</td>\n",
              "      <td>0</td>\n",
              "      <td>1</td>\n",
              "      <td>0</td>\n",
              "      <td>0</td>\n",
              "      <td>1</td>\n",
              "      <td>0</td>\n",
              "      <td>0</td>\n",
              "      <td>1</td>\n",
              "      <td>0</td>\n",
              "      <td>0</td>\n",
              "      <td>1</td>\n",
              "      <td>0</td>\n",
              "      <td>0</td>\n",
              "      <td>0</td>\n",
              "      <td>0</td>\n",
              "      <td>1</td>\n",
              "      <td>0</td>\n",
              "    </tr>\n",
              "    <tr>\n",
              "      <th>1</th>\n",
              "      <td>1</td>\n",
              "      <td>0</td>\n",
              "      <td>0</td>\n",
              "      <td>0</td>\n",
              "      <td>34</td>\n",
              "      <td>1</td>\n",
              "      <td>0</td>\n",
              "      <td>56.95</td>\n",
              "      <td>1889.50</td>\n",
              "      <td>0</td>\n",
              "      <td>1</td>\n",
              "      <td>0</td>\n",
              "      <td>0</td>\n",
              "      <td>1</td>\n",
              "      <td>0</td>\n",
              "      <td>0</td>\n",
              "      <td>0</td>\n",
              "      <td>0</td>\n",
              "      <td>1</td>\n",
              "      <td>1</td>\n",
              "      <td>0</td>\n",
              "      <td>0</td>\n",
              "      <td>0</td>\n",
              "      <td>0</td>\n",
              "      <td>1</td>\n",
              "      <td>1</td>\n",
              "      <td>0</td>\n",
              "      <td>0</td>\n",
              "      <td>1</td>\n",
              "      <td>0</td>\n",
              "      <td>0</td>\n",
              "      <td>1</td>\n",
              "      <td>0</td>\n",
              "      <td>0</td>\n",
              "      <td>0</td>\n",
              "      <td>1</td>\n",
              "      <td>0</td>\n",
              "      <td>0</td>\n",
              "      <td>0</td>\n",
              "      <td>0</td>\n",
              "      <td>1</td>\n",
              "    </tr>\n",
              "    <tr>\n",
              "      <th>2</th>\n",
              "      <td>1</td>\n",
              "      <td>0</td>\n",
              "      <td>0</td>\n",
              "      <td>0</td>\n",
              "      <td>2</td>\n",
              "      <td>1</td>\n",
              "      <td>1</td>\n",
              "      <td>53.85</td>\n",
              "      <td>108.15</td>\n",
              "      <td>1</td>\n",
              "      <td>1</td>\n",
              "      <td>0</td>\n",
              "      <td>0</td>\n",
              "      <td>1</td>\n",
              "      <td>0</td>\n",
              "      <td>0</td>\n",
              "      <td>0</td>\n",
              "      <td>0</td>\n",
              "      <td>1</td>\n",
              "      <td>0</td>\n",
              "      <td>0</td>\n",
              "      <td>1</td>\n",
              "      <td>1</td>\n",
              "      <td>0</td>\n",
              "      <td>0</td>\n",
              "      <td>1</td>\n",
              "      <td>0</td>\n",
              "      <td>0</td>\n",
              "      <td>1</td>\n",
              "      <td>0</td>\n",
              "      <td>0</td>\n",
              "      <td>1</td>\n",
              "      <td>0</td>\n",
              "      <td>0</td>\n",
              "      <td>1</td>\n",
              "      <td>0</td>\n",
              "      <td>0</td>\n",
              "      <td>0</td>\n",
              "      <td>0</td>\n",
              "      <td>0</td>\n",
              "      <td>1</td>\n",
              "    </tr>\n",
              "    <tr>\n",
              "      <th>3</th>\n",
              "      <td>1</td>\n",
              "      <td>0</td>\n",
              "      <td>0</td>\n",
              "      <td>0</td>\n",
              "      <td>45</td>\n",
              "      <td>0</td>\n",
              "      <td>0</td>\n",
              "      <td>42.30</td>\n",
              "      <td>1840.75</td>\n",
              "      <td>0</td>\n",
              "      <td>0</td>\n",
              "      <td>1</td>\n",
              "      <td>0</td>\n",
              "      <td>1</td>\n",
              "      <td>0</td>\n",
              "      <td>0</td>\n",
              "      <td>0</td>\n",
              "      <td>0</td>\n",
              "      <td>1</td>\n",
              "      <td>1</td>\n",
              "      <td>0</td>\n",
              "      <td>0</td>\n",
              "      <td>0</td>\n",
              "      <td>0</td>\n",
              "      <td>1</td>\n",
              "      <td>0</td>\n",
              "      <td>0</td>\n",
              "      <td>1</td>\n",
              "      <td>1</td>\n",
              "      <td>0</td>\n",
              "      <td>0</td>\n",
              "      <td>1</td>\n",
              "      <td>0</td>\n",
              "      <td>0</td>\n",
              "      <td>0</td>\n",
              "      <td>1</td>\n",
              "      <td>0</td>\n",
              "      <td>1</td>\n",
              "      <td>0</td>\n",
              "      <td>0</td>\n",
              "      <td>0</td>\n",
              "    </tr>\n",
              "    <tr>\n",
              "      <th>4</th>\n",
              "      <td>0</td>\n",
              "      <td>0</td>\n",
              "      <td>0</td>\n",
              "      <td>0</td>\n",
              "      <td>2</td>\n",
              "      <td>1</td>\n",
              "      <td>1</td>\n",
              "      <td>70.70</td>\n",
              "      <td>151.65</td>\n",
              "      <td>1</td>\n",
              "      <td>1</td>\n",
              "      <td>0</td>\n",
              "      <td>0</td>\n",
              "      <td>0</td>\n",
              "      <td>1</td>\n",
              "      <td>0</td>\n",
              "      <td>1</td>\n",
              "      <td>0</td>\n",
              "      <td>0</td>\n",
              "      <td>1</td>\n",
              "      <td>0</td>\n",
              "      <td>0</td>\n",
              "      <td>1</td>\n",
              "      <td>0</td>\n",
              "      <td>0</td>\n",
              "      <td>1</td>\n",
              "      <td>0</td>\n",
              "      <td>0</td>\n",
              "      <td>1</td>\n",
              "      <td>0</td>\n",
              "      <td>0</td>\n",
              "      <td>1</td>\n",
              "      <td>0</td>\n",
              "      <td>0</td>\n",
              "      <td>1</td>\n",
              "      <td>0</td>\n",
              "      <td>0</td>\n",
              "      <td>0</td>\n",
              "      <td>0</td>\n",
              "      <td>1</td>\n",
              "      <td>0</td>\n",
              "    </tr>\n",
              "  </tbody>\n",
              "</table>\n",
              "</div>"
            ],
            "text/plain": [
              "   gender  ...  PaymentMethod_Mailed check\n",
              "0       0  ...                           0\n",
              "1       1  ...                           1\n",
              "2       1  ...                           1\n",
              "3       1  ...                           0\n",
              "4       0  ...                           0\n",
              "\n",
              "[5 rows x 41 columns]"
            ]
          },
          "metadata": {
            "tags": []
          },
          "execution_count": 30
        }
      ]
    },
    {
      "cell_type": "code",
      "metadata": {
        "id": "Guo7LjBgu4Jx"
      },
      "source": [
        "X = df_proc.drop('Churn', axis=1)\n",
        "y = df_proc['Churn']\n",
        "\n",
        "X_train, X_test, y_train, y_test = train_test_split(X, y)"
      ],
      "execution_count": 31,
      "outputs": []
    },
    {
      "cell_type": "markdown",
      "metadata": {
        "id": "FQ6S-zHJwX6Z"
      },
      "source": [
        "Com os dados devidamente separados vamos partir para a construção do modelo, nessa etapa não vamos feito nenhum ajuste de hiperparâmetro nem balaceamento, o intuito é avaliar pelo método de *cross-validation*. Por motivo de praticidade criaremos uma função `val_model`, e a métrica usada para avaliação será o recall. "
      ]
    },
    {
      "cell_type": "markdown",
      "metadata": {
        "id": "JZd_xDprzKSN"
      },
      "source": [
        "### Por que ultilizar Recall?\n",
        "\n",
        "A métrica Recall é utilizada para indicar a relação entre as previsões positivas realizadas corretamente e todas as previsões que realmente são positivas (True Positives e False Negatives). Como o principal objetivo do projeto é prever possíveis perdas de receita proveniente de evasão de clientes. Sendo assim ela é um bom indicativo para aviliar o modelo."
      ]
    },
    {
      "cell_type": "code",
      "metadata": {
        "id": "Xm8EI9ayz4E6"
      },
      "source": [
        "def val_model(X, y, clf, quite=False):\n",
        "    X = np.array(X)\n",
        "    y = np.array(y)\n",
        "\n",
        "    pipeline = make_pipeline(StandardScaler(), clf)\n",
        "    scores = cross_val_score(pipeline, X, y, scoring='recall')\n",
        "\n",
        "    if quite == False:\n",
        "        print(f\"Recall: {scores.mean():.2f} (+/- {scores.std():.2f})\")\n",
        "\n",
        "    return scores.mean()"
      ],
      "execution_count": 32,
      "outputs": []
    },
    {
      "cell_type": "markdown",
      "metadata": {
        "id": "Wzd7f7uRcDCf"
      },
      "source": [
        "A priori vamos usar o modelo de regressão logistica apenas como um ponto de partida."
      ]
    },
    {
      "cell_type": "code",
      "metadata": {
        "colab": {
          "base_uri": "https://localhost:8080/"
        },
        "id": "SdbtJ6vL2XIa",
        "outputId": "57be2841-f37d-4731-e770-628fc7f11047"
      },
      "source": [
        "rf = LogisticRegression()\n",
        "score_baseline = val_model(X_train, y_train, rf)"
      ],
      "execution_count": 40,
      "outputs": [
        {
          "output_type": "stream",
          "text": [
            "Recall: 0.53 (+/- 0.03)\n"
          ],
          "name": "stdout"
        }
      ]
    },
    {
      "cell_type": "markdown",
      "metadata": {
        "id": "KOR5dUZx3h_z"
      },
      "source": [
        "A partir do nosso baseline acima podemos avaliar se os ajustes melhoram o pioram nosso modelo.\n",
        "\n",
        "A primeira alteração que será feita é um balanceamento dos dados, seguido da padronização dos dados. A técnica utilizada é o *Under Sampling*, após o teste de desempenho das outras."
      ]
    },
    {
      "cell_type": "code",
      "metadata": {
        "id": "HnOj7m3g5laY"
      },
      "source": [
        "scaler = StandardScaler().fit(X_train)\n",
        "X_train = scaler.transform(X_train)\n",
        "\n",
        "rus = RandomUnderSampler()\n",
        "X_train_rus, y_train_rus = rus.fit_sample(X_train, y_train)"
      ],
      "execution_count": 41,
      "outputs": []
    },
    {
      "cell_type": "markdown",
      "metadata": {
        "id": "NVo_AE7h62q6"
      },
      "source": [
        "Aplicando *Cross-validation*, vamos selecionar o modelo que obteve o melhor desempenho e otimizar seus hiperparâmentros. Os modelos usados serão os seguintes:\n",
        "\n",
        "* Random Forest\n",
        "* Decision Tree\n",
        "* Stochastic Gradient Descent\n",
        "* SVC\n",
        "* Logistic Regression\n",
        "* XGB Classifier\n",
        "* LightGBM"
      ]
    },
    {
      "cell_type": "code",
      "metadata": {
        "colab": {
          "base_uri": "https://localhost:8080/",
          "height": 266
        },
        "id": "Jjl4rvk18Ctv",
        "outputId": "d0dccb1a-0acc-46ec-9b1b-544418344a52"
      },
      "source": [
        "rf = RandomForestClassifier()\n",
        "dt = DecisionTreeClassifier()\n",
        "sgdc = SGDClassifier()\n",
        "svc = SVC()\n",
        "lr = LogisticRegression()\n",
        "xgb = XGBClassifier()\n",
        "lgbm = LGBMClassifier()\n",
        "\n",
        "\n",
        "model = []\n",
        "recall = []\n",
        "for clf in (rf, dt, sgdc, svc, lr, xgb, lgbm):\n",
        "    model.append(clf.__class__.__name__)\n",
        "    recall.append(val_model(X_train_rus, y_train_rus, clf, quite=True))\n",
        "\n",
        "pd.DataFrame(data=recall, index=model, columns=['Recall'])"
      ],
      "execution_count": 42,
      "outputs": [
        {
          "output_type": "execute_result",
          "data": {
            "text/html": [
              "<div>\n",
              "<style scoped>\n",
              "    .dataframe tbody tr th:only-of-type {\n",
              "        vertical-align: middle;\n",
              "    }\n",
              "\n",
              "    .dataframe tbody tr th {\n",
              "        vertical-align: top;\n",
              "    }\n",
              "\n",
              "    .dataframe thead th {\n",
              "        text-align: right;\n",
              "    }\n",
              "</style>\n",
              "<table border=\"1\" class=\"dataframe\">\n",
              "  <thead>\n",
              "    <tr style=\"text-align: right;\">\n",
              "      <th></th>\n",
              "      <th>Recall</th>\n",
              "    </tr>\n",
              "  </thead>\n",
              "  <tbody>\n",
              "    <tr>\n",
              "      <th>RandomForestClassifier</th>\n",
              "      <td>0.762590</td>\n",
              "    </tr>\n",
              "    <tr>\n",
              "      <th>DecisionTreeClassifier</th>\n",
              "      <td>0.661151</td>\n",
              "    </tr>\n",
              "    <tr>\n",
              "      <th>SGDClassifier</th>\n",
              "      <td>0.751079</td>\n",
              "    </tr>\n",
              "    <tr>\n",
              "      <th>SVC</th>\n",
              "      <td>0.787770</td>\n",
              "    </tr>\n",
              "    <tr>\n",
              "      <th>LogisticRegression</th>\n",
              "      <td>0.801439</td>\n",
              "    </tr>\n",
              "    <tr>\n",
              "      <th>XGBClassifier</th>\n",
              "      <td>0.794245</td>\n",
              "    </tr>\n",
              "    <tr>\n",
              "      <th>LGBMClassifier</th>\n",
              "      <td>0.758993</td>\n",
              "    </tr>\n",
              "  </tbody>\n",
              "</table>\n",
              "</div>"
            ],
            "text/plain": [
              "                          Recall\n",
              "RandomForestClassifier  0.762590\n",
              "DecisionTreeClassifier  0.661151\n",
              "SGDClassifier           0.751079\n",
              "SVC                     0.787770\n",
              "LogisticRegression      0.801439\n",
              "XGBClassifier           0.794245\n",
              "LGBMClassifier          0.758993"
            ]
          },
          "metadata": {
            "tags": []
          },
          "execution_count": 42
        }
      ]
    },
    {
      "cell_type": "markdown",
      "metadata": {
        "id": "wOJla7SY_LTU"
      },
      "source": [
        "Acima observamos que o LogisticRegression e XGBClassifier tem particamente um empate, no entanto para seguir com o projeto dada as maiores possibilidade de tuning nos hiperparâmetros adotaremos o XGBoost como nosso modelo."
      ]
    },
    {
      "cell_type": "markdown",
      "metadata": {
        "id": "Z3rxSuf8_4D1"
      },
      "source": [
        "# Otimização dos Hiperparâmentros."
      ]
    },
    {
      "cell_type": "markdown",
      "metadata": {
        "id": "2lB4YTkFAkB4"
      },
      "source": [
        "O objetivo será encontrar os melhores tuning de parâmentros, a seguir vamos definir uma taxa de aprendizado e números de estimadores. Utilizando a técnica *Grid Search* vamos procura os melhore parametros para otimização. Iniciaremos com o `learning_rate=0.1`"
      ]
    },
    {
      "cell_type": "code",
      "metadata": {
        "colab": {
          "base_uri": "https://localhost:8080/"
        },
        "id": "QOCcWOSI_K4U",
        "outputId": "09d9c084-4324-4283-e59d-2a1ff3ebdf23"
      },
      "source": [
        "xgb = XGBClassifier(learning_rate=0.1)\n",
        "\n",
        "param_grid = {\n",
        "    'n_estimators': range(0,1000,50)\n",
        "}\n",
        "\n",
        "kfold = StratifiedKFold(n_splits=10, shuffle=True)\n",
        "grid_search = GridSearchCV(xgb, param_grid, scoring=\"recall\", n_jobs=-1, cv=kfold)\n",
        "grid_result = grid_search.fit(X_train_rus, y_train_rus)\n",
        "\n",
        "print(f\"melhor: {grid_result.best_score_} para {grid_result.best_params_}\")"
      ],
      "execution_count": 43,
      "outputs": [
        {
          "output_type": "stream",
          "text": [
            "melhor: 0.8035971223021583 para {'n_estimators': 50}\n"
          ],
          "name": "stdout"
        }
      ]
    },
    {
      "cell_type": "markdown",
      "metadata": {
        "id": "0A4Sl6__yaKI"
      },
      "source": [
        "Com o número de estimadores igual a 50, realizarei a busca dos parâmetros `max_depth` e `min_child_weight`"
      ]
    },
    {
      "cell_type": "code",
      "metadata": {
        "colab": {
          "base_uri": "https://localhost:8080/"
        },
        "id": "69UfbRiFyvQf",
        "outputId": "d66bc1a4-033d-4206-f0a8-63f0cb5f9db7"
      },
      "source": [
        "xgb = XGBClassifier(n_estimators=50, max_depth=1, min_child_weight=1, gamma=0.0)\n",
        "\n",
        "param_grid = {\n",
        "    'learning_rate':[0.001, 0.01, 0.1, 1]\n",
        "}\n",
        "kfold = StratifiedKFold(n_splits=10, shuffle=True)\n",
        "grid_search = GridSearchCV(xgb, param_grid, scoring=\"recall\", n_jobs=-1, cv=kfold)\n",
        "grid_result = grid_search.fit(X_train_rus, y_train_rus)\n",
        "\n",
        "print(f\"melhor: {grid_result.best_score_} para {grid_result.best_params_}\")"
      ],
      "execution_count": 44,
      "outputs": [
        {
          "output_type": "stream",
          "text": [
            "melhor: 0.8812949640287769 para {'learning_rate': 0.001}\n"
          ],
          "name": "stdout"
        }
      ]
    },
    {
      "cell_type": "markdown",
      "metadata": {
        "id": "T9b-YBJ0D-pM"
      },
      "source": [
        "Fato é que com uma taxa de aprendizado menor o desempenho do modelo melhorou, se for levado em conta apenas o `recall`.\n",
        "\n"
      ]
    },
    {
      "cell_type": "markdown",
      "metadata": {
        "id": "jTpBiUBIEcAU"
      },
      "source": [
        "# Finalizando "
      ]
    },
    {
      "cell_type": "markdown",
      "metadata": {
        "id": "3zTf5yOqEfQm"
      },
      "source": [
        "Agora com os parametros ajustados vamos treinar o modelo final e plotar a matriz de confusão."
      ]
    },
    {
      "cell_type": "code",
      "metadata": {
        "colab": {
          "base_uri": "https://localhost:8080/",
          "height": 465
        },
        "id": "9mqM6cSdEexp",
        "outputId": "b0133054-b3bb-4d4b-8c4a-0feb8c090d82"
      },
      "source": [
        "xgb = XGBClassifier(n_estimators=50, max_depth=1, min_child_weight=1, gamma=0.0)\n",
        "xgb.fit(X_train_rus, y_train_rus)\n",
        "\n",
        "X_test = scaler.transform(X_test)\n",
        "y_pred = xgb.predict(X_test)\n",
        "\n",
        "print(classification_report(y_test, y_pred))\n",
        "\n",
        "print(f\"AUC: {roc_auc_score(y_test, y_pred):.4f}\")\n",
        "\n",
        "plot_confusion_matrix(y_test, y_pred, normalize=True)\n",
        "plt.show()"
      ],
      "execution_count": 45,
      "outputs": [
        {
          "output_type": "stream",
          "text": [
            "              precision    recall  f1-score   support\n",
            "\n",
            "           0       0.93      0.69      0.79      1282\n",
            "           1       0.50      0.86      0.64       479\n",
            "\n",
            "    accuracy                           0.73      1761\n",
            "   macro avg       0.72      0.77      0.71      1761\n",
            "weighted avg       0.81      0.73      0.75      1761\n",
            "\n",
            "AUC: 0.7712\n"
          ],
          "name": "stdout"
        },
        {
          "output_type": "display_data",
          "data": {
            "image/png": "[encoded data removed]",
            "text/plain": [
              "<Figure size 432x288 with 2 Axes>"
            ]
          },
          "metadata": {
            "tags": [],
            "needs_background": "light"
          }
        }
      ]
    },
    {
      "cell_type": "markdown",
      "metadata": {
        "id": "IcbH2qCciNIq"
      },
      "source": [
        "# Conclusão."
      ]
    },
    {
      "cell_type": "markdown",
      "metadata": {
        "id": "NjEA_qlViRFR"
      },
      "source": [
        "Para este projeto assumimos que nossa métrica de maior relevancia é *recall*. Sendo assim conseguimos obter uma taxa de acerto de possiveis cancelamento de 86%, com isso podendo tomar decisões estrategicas afim de reter esse clientes e consequentemente reduzindo o **Churn rate**, porporcionando uma receita mais estável."
      ]
    }
  ]
}